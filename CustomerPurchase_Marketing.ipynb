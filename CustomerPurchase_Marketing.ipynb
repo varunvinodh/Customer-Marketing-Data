{
 "cells": [
  {
   "cell_type": "markdown",
   "id": "6619aff8",
   "metadata": {},
   "source": [
    "<font size=\"5\">Data dictionary:</font>\n",
    "- user_id - unique identifier of our customers \n",
    "- prod_id - unique identifier of the product \n",
    "- sex - F-female, M-male sex \n",
    "- age_cat - customer age category \n",
    "- credit_status_cd - determine the credit status code 0-20. These are internal codes with no-further explanation \n",
    "- education_cat - education category - high-school degree, under grad of high school, university/college degree \n",
    "- years_in_residence - how many years customer stayed at current residence i.e. 1,2,3, 4+ years \n",
    "- car_ownership - flag of car ownership \n",
    "- prod_cat_1 - product category class 1 (internal product category classification) \n",
    "- prod_cat_2 - product category class 2 (internal product category classification) \n",
    "- prod_cat_3 - product category class 3 (internal product category classification) \n",
    "- revenue_usd - total revenue purchase.\n"
   ]
  },
  {
   "cell_type": "markdown",
   "id": "55aa2194",
   "metadata": {},
   "source": [
    "## Load the Data"
   ]
  },
  {
   "cell_type": "code",
   "execution_count": 1,
   "id": "18956a05",
   "metadata": {
    "ExecuteTime": {
     "end_time": "2024-01-27T06:22:16.549317Z",
     "start_time": "2024-01-27T06:22:12.623224Z"
    }
   },
   "outputs": [],
   "source": [
    "# Loading the required Libraries\n",
    "import pandas as pd\n",
    "import numpy as np\n",
    "\n",
    "import matplotlib.pyplot as plt\n",
    "import seaborn as sns\n",
    "\n",
    "pd.set_option('display.max_colwidth', 250)"
   ]
  },
  {
   "cell_type": "code",
   "execution_count": 2,
   "id": "55c0d007",
   "metadata": {
    "ExecuteTime": {
     "end_time": "2024-01-27T06:22:17.302592Z",
     "start_time": "2024-01-27T06:22:16.549317Z"
    }
   },
   "outputs": [],
   "source": [
    "# Loading all the datasets\n",
    "df1 =pd.read_csv('.\\data\\customer-spending-1.csv')\n",
    "df2 =pd.read_csv('.\\data\\customer-spending-2.csv')\n",
    "df3 =pd.read_csv('.\\data\\customer-spending-3.csv')"
   ]
  },
  {
   "cell_type": "markdown",
   "id": "28f5e7ce",
   "metadata": {},
   "source": [
    "## Understand the data"
   ]
  },
  {
   "cell_type": "code",
   "execution_count": 3,
   "id": "6dab5a5a",
   "metadata": {
    "ExecuteTime": {
     "end_time": "2024-01-27T06:22:17.316147Z",
     "start_time": "2024-01-27T06:22:17.305299Z"
    }
   },
   "outputs": [
    {
     "name": "stdout",
     "output_type": "stream",
     "text": [
      "(200000, 12)\n",
      "(200000, 12)\n",
      "(137577, 12)\n"
     ]
    }
   ],
   "source": [
    "print(df1.shape)\n",
    "print(df2.shape)\n",
    "print(df3.shape)"
   ]
  },
  {
   "cell_type": "code",
   "execution_count": 4,
   "id": "ff5ed51b",
   "metadata": {
    "ExecuteTime": {
     "end_time": "2024-01-27T06:22:17.362136Z",
     "start_time": "2024-01-27T06:22:17.316147Z"
    },
    "scrolled": true
   },
   "outputs": [
    {
     "data": {
      "text/html": [
       "<div>\n",
       "<style scoped>\n",
       "    .dataframe tbody tr th:only-of-type {\n",
       "        vertical-align: middle;\n",
       "    }\n",
       "\n",
       "    .dataframe tbody tr th {\n",
       "        vertical-align: top;\n",
       "    }\n",
       "\n",
       "    .dataframe thead th {\n",
       "        text-align: right;\n",
       "    }\n",
       "</style>\n",
       "<table border=\"1\" class=\"dataframe\">\n",
       "  <thead>\n",
       "    <tr style=\"text-align: right;\">\n",
       "      <th></th>\n",
       "      <th>user_id</th>\n",
       "      <th>prod_id</th>\n",
       "      <th>sex</th>\n",
       "      <th>age_cat</th>\n",
       "      <th>credit_status_cd</th>\n",
       "      <th>edcution_cat</th>\n",
       "      <th>years_in_residence</th>\n",
       "      <th>car_ownership</th>\n",
       "      <th>prod_cat_1</th>\n",
       "      <th>prod_cat_2</th>\n",
       "      <th>prod_cat_3</th>\n",
       "      <th>revenue_usd</th>\n",
       "    </tr>\n",
       "  </thead>\n",
       "  <tbody>\n",
       "    <tr>\n",
       "      <th>0</th>\n",
       "      <td>DCN-1000001</td>\n",
       "      <td>DSKU-P00069042</td>\n",
       "      <td>F</td>\n",
       "      <td>18-25</td>\n",
       "      <td>10</td>\n",
       "      <td>university</td>\n",
       "      <td>2</td>\n",
       "      <td>0</td>\n",
       "      <td>3</td>\n",
       "      <td>NaN</td>\n",
       "      <td>NaN</td>\n",
       "      <td>9847.06</td>\n",
       "    </tr>\n",
       "    <tr>\n",
       "      <th>1</th>\n",
       "      <td>DCN-1000001</td>\n",
       "      <td>DSKU-P00248942</td>\n",
       "      <td>F</td>\n",
       "      <td>18-25</td>\n",
       "      <td>10</td>\n",
       "      <td>university</td>\n",
       "      <td>2</td>\n",
       "      <td>0</td>\n",
       "      <td>1</td>\n",
       "      <td>6.0</td>\n",
       "      <td>14.0</td>\n",
       "      <td>17882.35</td>\n",
       "    </tr>\n",
       "    <tr>\n",
       "      <th>2</th>\n",
       "      <td>DCN-1000001</td>\n",
       "      <td>DSKU-P00087842</td>\n",
       "      <td>F</td>\n",
       "      <td>18-25</td>\n",
       "      <td>10</td>\n",
       "      <td>university</td>\n",
       "      <td>2</td>\n",
       "      <td>0</td>\n",
       "      <td>12</td>\n",
       "      <td>NaN</td>\n",
       "      <td>NaN</td>\n",
       "      <td>1672.94</td>\n",
       "    </tr>\n",
       "    <tr>\n",
       "      <th>3</th>\n",
       "      <td>DCN-1000001</td>\n",
       "      <td>DSKU-P00085442</td>\n",
       "      <td>F</td>\n",
       "      <td>18-25</td>\n",
       "      <td>10</td>\n",
       "      <td>university</td>\n",
       "      <td>2</td>\n",
       "      <td>0</td>\n",
       "      <td>12</td>\n",
       "      <td>14.0</td>\n",
       "      <td>NaN</td>\n",
       "      <td>1243.53</td>\n",
       "    </tr>\n",
       "    <tr>\n",
       "      <th>4</th>\n",
       "      <td>DCN-1000002</td>\n",
       "      <td>DSKU-P00285442</td>\n",
       "      <td>M</td>\n",
       "      <td>55+</td>\n",
       "      <td>16</td>\n",
       "      <td>high</td>\n",
       "      <td>4+</td>\n",
       "      <td>0</td>\n",
       "      <td>8</td>\n",
       "      <td>NaN</td>\n",
       "      <td>NaN</td>\n",
       "      <td>9375.29</td>\n",
       "    </tr>\n",
       "  </tbody>\n",
       "</table>\n",
       "</div>"
      ],
      "text/plain": [
       "       user_id         prod_id sex age_cat  credit_status_cd edcution_cat  \\\n",
       "0  DCN-1000001  DSKU-P00069042   F   18-25                10   university   \n",
       "1  DCN-1000001  DSKU-P00248942   F   18-25                10   university   \n",
       "2  DCN-1000001  DSKU-P00087842   F   18-25                10   university   \n",
       "3  DCN-1000001  DSKU-P00085442   F   18-25                10   university   \n",
       "4  DCN-1000002  DSKU-P00285442   M     55+                16         high   \n",
       "\n",
       "  years_in_residence  car_ownership  prod_cat_1  prod_cat_2  prod_cat_3  \\\n",
       "0                  2              0           3         NaN         NaN   \n",
       "1                  2              0           1         6.0        14.0   \n",
       "2                  2              0          12         NaN         NaN   \n",
       "3                  2              0          12        14.0         NaN   \n",
       "4                 4+              0           8         NaN         NaN   \n",
       "\n",
       "   revenue_usd  \n",
       "0      9847.06  \n",
       "1     17882.35  \n",
       "2      1672.94  \n",
       "3      1243.53  \n",
       "4      9375.29  "
      ]
     },
     "execution_count": 4,
     "metadata": {},
     "output_type": "execute_result"
    }
   ],
   "source": [
    "df1.head()"
   ]
  },
  {
   "cell_type": "code",
   "execution_count": 5,
   "id": "25ae1569",
   "metadata": {
    "ExecuteTime": {
     "end_time": "2024-01-27T06:22:17.378934Z",
     "start_time": "2024-01-27T06:22:17.364212Z"
    }
   },
   "outputs": [
    {
     "data": {
      "text/html": [
       "<div>\n",
       "<style scoped>\n",
       "    .dataframe tbody tr th:only-of-type {\n",
       "        vertical-align: middle;\n",
       "    }\n",
       "\n",
       "    .dataframe tbody tr th {\n",
       "        vertical-align: top;\n",
       "    }\n",
       "\n",
       "    .dataframe thead th {\n",
       "        text-align: right;\n",
       "    }\n",
       "</style>\n",
       "<table border=\"1\" class=\"dataframe\">\n",
       "  <thead>\n",
       "    <tr style=\"text-align: right;\">\n",
       "      <th></th>\n",
       "      <th>user_id</th>\n",
       "      <th>prod_id</th>\n",
       "      <th>sex</th>\n",
       "      <th>age_cat</th>\n",
       "      <th>credit_status_cd</th>\n",
       "      <th>edcution_cat</th>\n",
       "      <th>years_in_residence</th>\n",
       "      <th>car_ownership</th>\n",
       "      <th>prod_cat_1</th>\n",
       "      <th>prod_cat_2</th>\n",
       "      <th>prod_cat_3</th>\n",
       "      <th>revenue_usd</th>\n",
       "    </tr>\n",
       "  </thead>\n",
       "  <tbody>\n",
       "    <tr>\n",
       "      <th>0</th>\n",
       "      <td>DCN-1000899</td>\n",
       "      <td>DSKU-P00053842</td>\n",
       "      <td>F</td>\n",
       "      <td>26-35</td>\n",
       "      <td>1</td>\n",
       "      <td>under-high</td>\n",
       "      <td>3</td>\n",
       "      <td>1</td>\n",
       "      <td>4</td>\n",
       "      <td>5.0</td>\n",
       "      <td>12.0</td>\n",
       "      <td>1730.59</td>\n",
       "    </tr>\n",
       "    <tr>\n",
       "      <th>1</th>\n",
       "      <td>DCN-1000899</td>\n",
       "      <td>DSKU-P00161942</td>\n",
       "      <td>F</td>\n",
       "      <td>26-35</td>\n",
       "      <td>1</td>\n",
       "      <td>under-high</td>\n",
       "      <td>3</td>\n",
       "      <td>1</td>\n",
       "      <td>5</td>\n",
       "      <td>8.0</td>\n",
       "      <td>NaN</td>\n",
       "      <td>8410.59</td>\n",
       "    </tr>\n",
       "    <tr>\n",
       "      <th>2</th>\n",
       "      <td>DCN-1000899</td>\n",
       "      <td>DSKU-P00329442</td>\n",
       "      <td>F</td>\n",
       "      <td>26-35</td>\n",
       "      <td>1</td>\n",
       "      <td>under-high</td>\n",
       "      <td>3</td>\n",
       "      <td>1</td>\n",
       "      <td>5</td>\n",
       "      <td>8.0</td>\n",
       "      <td>NaN</td>\n",
       "      <td>8238.82</td>\n",
       "    </tr>\n",
       "    <tr>\n",
       "      <th>3</th>\n",
       "      <td>DCN-1000899</td>\n",
       "      <td>DSKU-P00031042</td>\n",
       "      <td>F</td>\n",
       "      <td>26-35</td>\n",
       "      <td>1</td>\n",
       "      <td>under-high</td>\n",
       "      <td>3</td>\n",
       "      <td>1</td>\n",
       "      <td>8</td>\n",
       "      <td>NaN</td>\n",
       "      <td>NaN</td>\n",
       "      <td>9463.53</td>\n",
       "    </tr>\n",
       "    <tr>\n",
       "      <th>4</th>\n",
       "      <td>DCN-1000899</td>\n",
       "      <td>DSKU-P00010742</td>\n",
       "      <td>F</td>\n",
       "      <td>26-35</td>\n",
       "      <td>1</td>\n",
       "      <td>under-high</td>\n",
       "      <td>3</td>\n",
       "      <td>1</td>\n",
       "      <td>1</td>\n",
       "      <td>8.0</td>\n",
       "      <td>17.0</td>\n",
       "      <td>22858.82</td>\n",
       "    </tr>\n",
       "  </tbody>\n",
       "</table>\n",
       "</div>"
      ],
      "text/plain": [
       "       user_id         prod_id sex age_cat  credit_status_cd edcution_cat  \\\n",
       "0  DCN-1000899  DSKU-P00053842   F   26-35                 1   under-high   \n",
       "1  DCN-1000899  DSKU-P00161942   F   26-35                 1   under-high   \n",
       "2  DCN-1000899  DSKU-P00329442   F   26-35                 1   under-high   \n",
       "3  DCN-1000899  DSKU-P00031042   F   26-35                 1   under-high   \n",
       "4  DCN-1000899  DSKU-P00010742   F   26-35                 1   under-high   \n",
       "\n",
       "  years_in_residence  car_ownership  prod_cat_1  prod_cat_2  prod_cat_3  \\\n",
       "0                  3              1           4         5.0        12.0   \n",
       "1                  3              1           5         8.0         NaN   \n",
       "2                  3              1           5         8.0         NaN   \n",
       "3                  3              1           8         NaN         NaN   \n",
       "4                  3              1           1         8.0        17.0   \n",
       "\n",
       "   revenue_usd  \n",
       "0      1730.59  \n",
       "1      8410.59  \n",
       "2      8238.82  \n",
       "3      9463.53  \n",
       "4     22858.82  "
      ]
     },
     "execution_count": 5,
     "metadata": {},
     "output_type": "execute_result"
    }
   ],
   "source": [
    "df2.head()"
   ]
  },
  {
   "cell_type": "code",
   "execution_count": 6,
   "id": "4a0d4a9e",
   "metadata": {
    "ExecuteTime": {
     "end_time": "2024-01-27T06:22:17.410821Z",
     "start_time": "2024-01-27T06:22:17.381229Z"
    }
   },
   "outputs": [
    {
     "data": {
      "text/html": [
       "<div>\n",
       "<style scoped>\n",
       "    .dataframe tbody tr th:only-of-type {\n",
       "        vertical-align: middle;\n",
       "    }\n",
       "\n",
       "    .dataframe tbody tr th {\n",
       "        vertical-align: top;\n",
       "    }\n",
       "\n",
       "    .dataframe thead th {\n",
       "        text-align: right;\n",
       "    }\n",
       "</style>\n",
       "<table border=\"1\" class=\"dataframe\">\n",
       "  <thead>\n",
       "    <tr style=\"text-align: right;\">\n",
       "      <th></th>\n",
       "      <th>user_id</th>\n",
       "      <th>prod_id</th>\n",
       "      <th>sex</th>\n",
       "      <th>age_cat</th>\n",
       "      <th>credit_status_cd</th>\n",
       "      <th>edcution_cat</th>\n",
       "      <th>years_in_residence</th>\n",
       "      <th>car_ownership</th>\n",
       "      <th>prod_cat_1</th>\n",
       "      <th>prod_cat_2</th>\n",
       "      <th>prod_cat_3</th>\n",
       "      <th>revenue_usd</th>\n",
       "    </tr>\n",
       "  </thead>\n",
       "  <tbody>\n",
       "    <tr>\n",
       "      <th>0</th>\n",
       "      <td>DCN-1001560</td>\n",
       "      <td>DSKU-P00328442</td>\n",
       "      <td>F</td>\n",
       "      <td>26-35</td>\n",
       "      <td>3</td>\n",
       "      <td>under-high</td>\n",
       "      <td>2</td>\n",
       "      <td>0</td>\n",
       "      <td>5</td>\n",
       "      <td>14.0</td>\n",
       "      <td>NaN</td>\n",
       "      <td>8103.53</td>\n",
       "    </tr>\n",
       "    <tr>\n",
       "      <th>1</th>\n",
       "      <td>DCN-1001560</td>\n",
       "      <td>DSKU-P00347642</td>\n",
       "      <td>F</td>\n",
       "      <td>26-35</td>\n",
       "      <td>3</td>\n",
       "      <td>under-high</td>\n",
       "      <td>2</td>\n",
       "      <td>0</td>\n",
       "      <td>1</td>\n",
       "      <td>6.0</td>\n",
       "      <td>NaN</td>\n",
       "      <td>4509.41</td>\n",
       "    </tr>\n",
       "    <tr>\n",
       "      <th>2</th>\n",
       "      <td>DCN-1001560</td>\n",
       "      <td>DSKU-P00296042</td>\n",
       "      <td>F</td>\n",
       "      <td>26-35</td>\n",
       "      <td>3</td>\n",
       "      <td>under-high</td>\n",
       "      <td>2</td>\n",
       "      <td>0</td>\n",
       "      <td>8</td>\n",
       "      <td>13.0</td>\n",
       "      <td>16.0</td>\n",
       "      <td>5002.35</td>\n",
       "    </tr>\n",
       "    <tr>\n",
       "      <th>3</th>\n",
       "      <td>DCN-1001560</td>\n",
       "      <td>DSKU-P00350942</td>\n",
       "      <td>F</td>\n",
       "      <td>26-35</td>\n",
       "      <td>3</td>\n",
       "      <td>under-high</td>\n",
       "      <td>2</td>\n",
       "      <td>0</td>\n",
       "      <td>3</td>\n",
       "      <td>4.0</td>\n",
       "      <td>5.0</td>\n",
       "      <td>15738.82</td>\n",
       "    </tr>\n",
       "    <tr>\n",
       "      <th>4</th>\n",
       "      <td>DCN-1001560</td>\n",
       "      <td>DSKU-P00090942</td>\n",
       "      <td>F</td>\n",
       "      <td>26-35</td>\n",
       "      <td>3</td>\n",
       "      <td>under-high</td>\n",
       "      <td>2</td>\n",
       "      <td>0</td>\n",
       "      <td>1</td>\n",
       "      <td>2.0</td>\n",
       "      <td>14.0</td>\n",
       "      <td>22872.94</td>\n",
       "    </tr>\n",
       "  </tbody>\n",
       "</table>\n",
       "</div>"
      ],
      "text/plain": [
       "       user_id         prod_id sex age_cat  credit_status_cd edcution_cat  \\\n",
       "0  DCN-1001560  DSKU-P00328442   F   26-35                 3   under-high   \n",
       "1  DCN-1001560  DSKU-P00347642   F   26-35                 3   under-high   \n",
       "2  DCN-1001560  DSKU-P00296042   F   26-35                 3   under-high   \n",
       "3  DCN-1001560  DSKU-P00350942   F   26-35                 3   under-high   \n",
       "4  DCN-1001560  DSKU-P00090942   F   26-35                 3   under-high   \n",
       "\n",
       "  years_in_residence  car_ownership  prod_cat_1  prod_cat_2  prod_cat_3  \\\n",
       "0                  2              0           5        14.0         NaN   \n",
       "1                  2              0           1         6.0         NaN   \n",
       "2                  2              0           8        13.0        16.0   \n",
       "3                  2              0           3         4.0         5.0   \n",
       "4                  2              0           1         2.0        14.0   \n",
       "\n",
       "   revenue_usd  \n",
       "0      8103.53  \n",
       "1      4509.41  \n",
       "2      5002.35  \n",
       "3     15738.82  \n",
       "4     22872.94  "
      ]
     },
     "execution_count": 6,
     "metadata": {},
     "output_type": "execute_result"
    }
   ],
   "source": [
    "df3.head()"
   ]
  },
  {
   "cell_type": "markdown",
   "id": "c368d1aa",
   "metadata": {
    "ExecuteTime": {
     "end_time": "2023-09-30T14:22:23.884413Z",
     "start_time": "2023-09-30T14:22:23.875855Z"
    }
   },
   "source": [
    "- The three datasets appear identical. I will concatenate them and eliminate any potential duplicates."
   ]
  },
  {
   "cell_type": "code",
   "execution_count": 7,
   "id": "61d314e9",
   "metadata": {
    "ExecuteTime": {
     "end_time": "2024-01-27T06:22:17.511104Z",
     "start_time": "2024-01-27T06:22:17.412880Z"
    }
   },
   "outputs": [
    {
     "name": "stdout",
     "output_type": "stream",
     "text": [
      "<class 'pandas.core.frame.DataFrame'>\n",
      "RangeIndex: 200000 entries, 0 to 199999\n",
      "Data columns (total 12 columns):\n",
      " #   Column              Non-Null Count   Dtype  \n",
      "---  ------              --------------   -----  \n",
      " 0   user_id             200000 non-null  object \n",
      " 1   prod_id             200000 non-null  object \n",
      " 2   sex                 200000 non-null  object \n",
      " 3   age_cat             200000 non-null  object \n",
      " 4   credit_status_cd    200000 non-null  int64  \n",
      " 5   edcution_cat        200000 non-null  object \n",
      " 6   years_in_residence  200000 non-null  object \n",
      " 7   car_ownership       200000 non-null  int64  \n",
      " 8   prod_cat_1          200000 non-null  int64  \n",
      " 9   prod_cat_2          138024 non-null  float64\n",
      " 10  prod_cat_3          61304 non-null   float64\n",
      " 11  revenue_usd         200000 non-null  float64\n",
      "dtypes: float64(3), int64(3), object(6)\n",
      "memory usage: 18.3+ MB\n"
     ]
    }
   ],
   "source": [
    "df1.info()"
   ]
  },
  {
   "cell_type": "markdown",
   "id": "689475f8",
   "metadata": {},
   "source": [
    "- There are some null values in prod_cat_2 and prod_cat_3          "
   ]
  },
  {
   "cell_type": "code",
   "execution_count": 8,
   "id": "a66e0714",
   "metadata": {
    "ExecuteTime": {
     "end_time": "2024-01-27T06:22:17.591156Z",
     "start_time": "2024-01-27T06:22:17.511104Z"
    }
   },
   "outputs": [
    {
     "data": {
      "text/html": [
       "<div>\n",
       "<style scoped>\n",
       "    .dataframe tbody tr th:only-of-type {\n",
       "        vertical-align: middle;\n",
       "    }\n",
       "\n",
       "    .dataframe tbody tr th {\n",
       "        vertical-align: top;\n",
       "    }\n",
       "\n",
       "    .dataframe thead th {\n",
       "        text-align: right;\n",
       "    }\n",
       "</style>\n",
       "<table border=\"1\" class=\"dataframe\">\n",
       "  <thead>\n",
       "    <tr style=\"text-align: right;\">\n",
       "      <th></th>\n",
       "      <th>user_id</th>\n",
       "      <th>prod_id</th>\n",
       "      <th>sex</th>\n",
       "      <th>age_cat</th>\n",
       "      <th>credit_status_cd</th>\n",
       "      <th>edcution_cat</th>\n",
       "      <th>years_in_residence</th>\n",
       "      <th>car_ownership</th>\n",
       "      <th>prod_cat_1</th>\n",
       "      <th>prod_cat_2</th>\n",
       "      <th>prod_cat_3</th>\n",
       "      <th>revenue_usd</th>\n",
       "    </tr>\n",
       "  </thead>\n",
       "  <tbody>\n",
       "    <tr>\n",
       "      <th>0</th>\n",
       "      <td>DCN-1000001</td>\n",
       "      <td>DSKU-P00069042</td>\n",
       "      <td>F</td>\n",
       "      <td>18-25</td>\n",
       "      <td>10</td>\n",
       "      <td>university</td>\n",
       "      <td>2</td>\n",
       "      <td>0</td>\n",
       "      <td>3</td>\n",
       "      <td>NaN</td>\n",
       "      <td>NaN</td>\n",
       "      <td>9847.06</td>\n",
       "    </tr>\n",
       "    <tr>\n",
       "      <th>1</th>\n",
       "      <td>DCN-1000001</td>\n",
       "      <td>DSKU-P00248942</td>\n",
       "      <td>F</td>\n",
       "      <td>18-25</td>\n",
       "      <td>10</td>\n",
       "      <td>university</td>\n",
       "      <td>2</td>\n",
       "      <td>0</td>\n",
       "      <td>1</td>\n",
       "      <td>6.0</td>\n",
       "      <td>14.0</td>\n",
       "      <td>17882.35</td>\n",
       "    </tr>\n",
       "    <tr>\n",
       "      <th>2</th>\n",
       "      <td>DCN-1000001</td>\n",
       "      <td>DSKU-P00087842</td>\n",
       "      <td>F</td>\n",
       "      <td>18-25</td>\n",
       "      <td>10</td>\n",
       "      <td>university</td>\n",
       "      <td>2</td>\n",
       "      <td>0</td>\n",
       "      <td>12</td>\n",
       "      <td>NaN</td>\n",
       "      <td>NaN</td>\n",
       "      <td>1672.94</td>\n",
       "    </tr>\n",
       "    <tr>\n",
       "      <th>3</th>\n",
       "      <td>DCN-1000001</td>\n",
       "      <td>DSKU-P00085442</td>\n",
       "      <td>F</td>\n",
       "      <td>18-25</td>\n",
       "      <td>10</td>\n",
       "      <td>university</td>\n",
       "      <td>2</td>\n",
       "      <td>0</td>\n",
       "      <td>12</td>\n",
       "      <td>14.0</td>\n",
       "      <td>NaN</td>\n",
       "      <td>1243.53</td>\n",
       "    </tr>\n",
       "    <tr>\n",
       "      <th>4</th>\n",
       "      <td>DCN-1000002</td>\n",
       "      <td>DSKU-P00285442</td>\n",
       "      <td>M</td>\n",
       "      <td>55+</td>\n",
       "      <td>16</td>\n",
       "      <td>high</td>\n",
       "      <td>4+</td>\n",
       "      <td>0</td>\n",
       "      <td>8</td>\n",
       "      <td>NaN</td>\n",
       "      <td>NaN</td>\n",
       "      <td>9375.29</td>\n",
       "    </tr>\n",
       "  </tbody>\n",
       "</table>\n",
       "</div>"
      ],
      "text/plain": [
       "       user_id         prod_id sex age_cat  credit_status_cd edcution_cat  \\\n",
       "0  DCN-1000001  DSKU-P00069042   F   18-25                10   university   \n",
       "1  DCN-1000001  DSKU-P00248942   F   18-25                10   university   \n",
       "2  DCN-1000001  DSKU-P00087842   F   18-25                10   university   \n",
       "3  DCN-1000001  DSKU-P00085442   F   18-25                10   university   \n",
       "4  DCN-1000002  DSKU-P00285442   M     55+                16         high   \n",
       "\n",
       "  years_in_residence  car_ownership  prod_cat_1  prod_cat_2  prod_cat_3  \\\n",
       "0                  2              0           3         NaN         NaN   \n",
       "1                  2              0           1         6.0        14.0   \n",
       "2                  2              0          12         NaN         NaN   \n",
       "3                  2              0          12        14.0         NaN   \n",
       "4                 4+              0           8         NaN         NaN   \n",
       "\n",
       "   revenue_usd  \n",
       "0      9847.06  \n",
       "1     17882.35  \n",
       "2      1672.94  \n",
       "3      1243.53  \n",
       "4      9375.29  "
      ]
     },
     "execution_count": 8,
     "metadata": {},
     "output_type": "execute_result"
    }
   ],
   "source": [
    "combined_df = pd.concat([df1, df2, df3], axis=0)\n",
    "combined_df.head()"
   ]
  },
  {
   "cell_type": "code",
   "execution_count": 9,
   "id": "312d4a16",
   "metadata": {
    "ExecuteTime": {
     "end_time": "2024-01-27T06:22:17.783112Z",
     "start_time": "2024-01-27T06:22:17.591156Z"
    }
   },
   "outputs": [
    {
     "data": {
      "text/html": [
       "<div>\n",
       "<style scoped>\n",
       "    .dataframe tbody tr th:only-of-type {\n",
       "        vertical-align: middle;\n",
       "    }\n",
       "\n",
       "    .dataframe tbody tr th {\n",
       "        vertical-align: top;\n",
       "    }\n",
       "\n",
       "    .dataframe thead th {\n",
       "        text-align: right;\n",
       "    }\n",
       "</style>\n",
       "<table border=\"1\" class=\"dataframe\">\n",
       "  <thead>\n",
       "    <tr style=\"text-align: right;\">\n",
       "      <th></th>\n",
       "      <th>credit_status_cd</th>\n",
       "      <th>car_ownership</th>\n",
       "      <th>prod_cat_1</th>\n",
       "      <th>prod_cat_2</th>\n",
       "      <th>prod_cat_3</th>\n",
       "      <th>revenue_usd</th>\n",
       "    </tr>\n",
       "  </thead>\n",
       "  <tbody>\n",
       "    <tr>\n",
       "      <th>count</th>\n",
       "      <td>537577.00000</td>\n",
       "      <td>537577.000000</td>\n",
       "      <td>537577.000000</td>\n",
       "      <td>370591.000000</td>\n",
       "      <td>164278.000000</td>\n",
       "      <td>537577.000000</td>\n",
       "    </tr>\n",
       "    <tr>\n",
       "      <th>mean</th>\n",
       "      <td>8.08271</td>\n",
       "      <td>0.408797</td>\n",
       "      <td>5.295546</td>\n",
       "      <td>9.842144</td>\n",
       "      <td>12.669840</td>\n",
       "      <td>10981.011587</td>\n",
       "    </tr>\n",
       "    <tr>\n",
       "      <th>std</th>\n",
       "      <td>6.52412</td>\n",
       "      <td>0.491612</td>\n",
       "      <td>3.750701</td>\n",
       "      <td>5.087259</td>\n",
       "      <td>4.124341</td>\n",
       "      <td>5860.026037</td>\n",
       "    </tr>\n",
       "    <tr>\n",
       "      <th>min</th>\n",
       "      <td>0.00000</td>\n",
       "      <td>0.000000</td>\n",
       "      <td>1.000000</td>\n",
       "      <td>2.000000</td>\n",
       "      <td>3.000000</td>\n",
       "      <td>217.650000</td>\n",
       "    </tr>\n",
       "    <tr>\n",
       "      <th>25%</th>\n",
       "      <td>2.00000</td>\n",
       "      <td>0.000000</td>\n",
       "      <td>1.000000</td>\n",
       "      <td>5.000000</td>\n",
       "      <td>9.000000</td>\n",
       "      <td>6901.180000</td>\n",
       "    </tr>\n",
       "    <tr>\n",
       "      <th>50%</th>\n",
       "      <td>7.00000</td>\n",
       "      <td>0.000000</td>\n",
       "      <td>5.000000</td>\n",
       "      <td>9.000000</td>\n",
       "      <td>14.000000</td>\n",
       "      <td>9484.710000</td>\n",
       "    </tr>\n",
       "    <tr>\n",
       "      <th>75%</th>\n",
       "      <td>14.00000</td>\n",
       "      <td>1.000000</td>\n",
       "      <td>8.000000</td>\n",
       "      <td>15.000000</td>\n",
       "      <td>16.000000</td>\n",
       "      <td>14203.530000</td>\n",
       "    </tr>\n",
       "    <tr>\n",
       "      <th>max</th>\n",
       "      <td>20.00000</td>\n",
       "      <td>1.000000</td>\n",
       "      <td>18.000000</td>\n",
       "      <td>18.000000</td>\n",
       "      <td>18.000000</td>\n",
       "      <td>28189.410000</td>\n",
       "    </tr>\n",
       "  </tbody>\n",
       "</table>\n",
       "</div>"
      ],
      "text/plain": [
       "       credit_status_cd  car_ownership     prod_cat_1     prod_cat_2  \\\n",
       "count      537577.00000  537577.000000  537577.000000  370591.000000   \n",
       "mean            8.08271       0.408797       5.295546       9.842144   \n",
       "std             6.52412       0.491612       3.750701       5.087259   \n",
       "min             0.00000       0.000000       1.000000       2.000000   \n",
       "25%             2.00000       0.000000       1.000000       5.000000   \n",
       "50%             7.00000       0.000000       5.000000       9.000000   \n",
       "75%            14.00000       1.000000       8.000000      15.000000   \n",
       "max            20.00000       1.000000      18.000000      18.000000   \n",
       "\n",
       "          prod_cat_3    revenue_usd  \n",
       "count  164278.000000  537577.000000  \n",
       "mean       12.669840   10981.011587  \n",
       "std         4.124341    5860.026037  \n",
       "min         3.000000     217.650000  \n",
       "25%         9.000000    6901.180000  \n",
       "50%        14.000000    9484.710000  \n",
       "75%        16.000000   14203.530000  \n",
       "max        18.000000   28189.410000  "
      ]
     },
     "execution_count": 9,
     "metadata": {},
     "output_type": "execute_result"
    }
   ],
   "source": [
    "combined_df.describe()"
   ]
  },
  {
   "cell_type": "code",
   "execution_count": 10,
   "id": "0ef824b1",
   "metadata": {
    "ExecuteTime": {
     "end_time": "2024-01-27T06:22:17.891329Z",
     "start_time": "2024-01-27T06:22:17.785511Z"
    }
   },
   "outputs": [
    {
     "data": {
      "text/plain": [
       "user_id                5888\n",
       "prod_id                3467\n",
       "sex                       2\n",
       "age_cat                   7\n",
       "credit_status_cd         21\n",
       "edcution_cat              3\n",
       "years_in_residence        5\n",
       "car_ownership             2\n",
       "prod_cat_1               18\n",
       "prod_cat_2               17\n",
       "prod_cat_3               15\n",
       "revenue_usd           15793\n",
       "dtype: int64"
      ]
     },
     "execution_count": 10,
     "metadata": {},
     "output_type": "execute_result"
    }
   ],
   "source": [
    "df1.nunique()"
   ]
  },
  {
   "cell_type": "code",
   "execution_count": 11,
   "id": "bf5580e3",
   "metadata": {
    "ExecuteTime": {
     "end_time": "2024-01-27T06:22:18.163611Z",
     "start_time": "2024-01-27T06:22:17.891329Z"
    }
   },
   "outputs": [
    {
     "data": {
      "text/plain": [
       "user_id                5891\n",
       "prod_id                3623\n",
       "sex                       2\n",
       "age_cat                   7\n",
       "credit_status_cd         21\n",
       "edcution_cat              3\n",
       "years_in_residence        5\n",
       "car_ownership             2\n",
       "prod_cat_1               18\n",
       "prod_cat_2               17\n",
       "prod_cat_3               15\n",
       "revenue_usd           17959\n",
       "dtype: int64"
      ]
     },
     "execution_count": 11,
     "metadata": {},
     "output_type": "execute_result"
    }
   ],
   "source": [
    "combined_df.nunique()"
   ]
  },
  {
   "cell_type": "markdown",
   "id": "5963ab69",
   "metadata": {},
   "source": [
    "### Data Preprocessing"
   ]
  },
  {
   "cell_type": "code",
   "execution_count": 12,
   "id": "086c006b",
   "metadata": {
    "ExecuteTime": {
     "end_time": "2024-01-27T06:22:18.180013Z",
     "start_time": "2024-01-27T06:22:18.167674Z"
    }
   },
   "outputs": [],
   "source": [
    "### Let us check the unique values in the data"
   ]
  },
  {
   "cell_type": "code",
   "execution_count": 13,
   "id": "65aeceab",
   "metadata": {
    "ExecuteTime": {
     "end_time": "2024-01-27T06:22:18.439805Z",
     "start_time": "2024-01-27T06:22:18.184009Z"
    }
   },
   "outputs": [
    {
     "name": "stdout",
     "output_type": "stream",
     "text": [
      "No. unique values:\n",
      "0) user_id              : 5891\n",
      "1) prod_id              : 3623\n",
      "2) sex                  : 2\n",
      "3) age_cat              : 7\n",
      "4) edcution_cat         : 3\n",
      "5) years_in_residence   : 5\n"
     ]
    }
   ],
   "source": [
    "# This is a function I creatrd to check the unique values in a given dataframe\n",
    "def print_unique_values(df,dtype ='object', adjust = 20):\n",
    "    print(\"No. unique values:\")\n",
    "    for idx, column in enumerate(df.select_dtypes(include=dtype)):\n",
    "        formatted_column = f\"{column}\".ljust(adjust)\n",
    "        unique_values    = df[column].nunique()\n",
    "        print(f\"{idx}) {formatted_column} : {unique_values}\")\n",
    "\n",
    "# Using the function\n",
    "print_unique_values(combined_df)"
   ]
  },
  {
   "cell_type": "markdown",
   "id": "69cfcb07",
   "metadata": {},
   "source": [
    "#### Data Cleaning"
   ]
  },
  {
   "cell_type": "code",
   "execution_count": 14,
   "id": "fbf335c5",
   "metadata": {
    "ExecuteTime": {
     "end_time": "2024-01-27T06:22:18.455582Z",
     "start_time": "2024-01-27T06:22:18.439805Z"
    }
   },
   "outputs": [
    {
     "data": {
      "text/plain": [
       "(537577, 12)"
      ]
     },
     "execution_count": 14,
     "metadata": {},
     "output_type": "execute_result"
    }
   ],
   "source": [
    "combined_df.shape"
   ]
  },
  {
   "cell_type": "code",
   "execution_count": 15,
   "id": "9bfb8cad",
   "metadata": {
    "ExecuteTime": {
     "end_time": "2024-01-27T06:22:18.919490Z",
     "start_time": "2024-01-27T06:22:18.458850Z"
    }
   },
   "outputs": [
    {
     "data": {
      "text/plain": [
       "0"
      ]
     },
     "execution_count": 15,
     "metadata": {},
     "output_type": "execute_result"
    }
   ],
   "source": [
    "combined_df.duplicated().sum()"
   ]
  },
  {
   "cell_type": "code",
   "execution_count": 16,
   "id": "2d28587f",
   "metadata": {
    "ExecuteTime": {
     "end_time": "2024-01-27T06:22:18.948404Z",
     "start_time": "2024-01-27T06:22:18.922816Z"
    }
   },
   "outputs": [
    {
     "data": {
      "text/plain": [
       "array([nan,  6., 14.,  2.,  8., 15., 16., 11.,  5.,  3.,  4., 12.,  9.,\n",
       "       10., 17., 13.,  7., 18.])"
      ]
     },
     "execution_count": 16,
     "metadata": {},
     "output_type": "execute_result"
    }
   ],
   "source": [
    "combined_df['prod_cat_2'].unique()"
   ]
  },
  {
   "cell_type": "code",
   "execution_count": 17,
   "id": "d649e734",
   "metadata": {
    "ExecuteTime": {
     "end_time": "2024-01-27T06:22:18.980799Z",
     "start_time": "2024-01-27T06:22:18.950696Z"
    }
   },
   "outputs": [
    {
     "data": {
      "text/plain": [
       "array([nan, 14., 17.,  5.,  4., 16., 15.,  8.,  9., 13.,  6., 12.,  3.,\n",
       "       18., 11., 10.])"
      ]
     },
     "execution_count": 17,
     "metadata": {},
     "output_type": "execute_result"
    }
   ],
   "source": [
    "combined_df['prod_cat_3'].unique()"
   ]
  },
  {
   "cell_type": "code",
   "execution_count": 18,
   "id": "b3401466",
   "metadata": {
    "ExecuteTime": {
     "end_time": "2024-01-27T06:22:18.995566Z",
     "start_time": "2024-01-27T06:22:18.982769Z"
    }
   },
   "outputs": [],
   "source": [
    "# Filling the nulls with '0'.\n",
    "combined_df['prod_cat_2'].fillna(0, inplace=True)\n",
    "combined_df['prod_cat_3'].fillna(0, inplace=True)"
   ]
  },
  {
   "cell_type": "markdown",
   "id": "33773937",
   "metadata": {},
   "source": [
    "- Since prod_cat_2 and prod_cat_3 are already of float type, I prefer to maintain them as numeric variables. Therefore, I am filling the nulls with 0. As 0 is not present in either of them and could represent as an \"Unknown\"."
   ]
  },
  {
   "cell_type": "markdown",
   "id": "8fbcfb26",
   "metadata": {},
   "source": [
    "#### Feature Engineering"
   ]
  },
  {
   "cell_type": "code",
   "execution_count": 19,
   "id": "28f5dec2",
   "metadata": {
    "ExecuteTime": {
     "end_time": "2024-01-27T06:22:19.180793Z",
     "start_time": "2024-01-27T06:22:18.997760Z"
    }
   },
   "outputs": [
    {
     "name": "stdout",
     "output_type": "stream",
     "text": [
      "<class 'pandas.core.frame.DataFrame'>\n",
      "Int64Index: 537577 entries, 0 to 137576\n",
      "Data columns (total 12 columns):\n",
      " #   Column              Non-Null Count   Dtype  \n",
      "---  ------              --------------   -----  \n",
      " 0   user_id             537577 non-null  object \n",
      " 1   prod_id             537577 non-null  object \n",
      " 2   sex                 537577 non-null  object \n",
      " 3   age_cat             537577 non-null  object \n",
      " 4   credit_status_cd    537577 non-null  int64  \n",
      " 5   edcution_cat        537577 non-null  object \n",
      " 6   years_in_residence  537577 non-null  object \n",
      " 7   car_ownership       537577 non-null  int64  \n",
      " 8   prod_cat_1          537577 non-null  int64  \n",
      " 9   prod_cat_2          537577 non-null  float64\n",
      " 10  prod_cat_3          537577 non-null  float64\n",
      " 11  revenue_usd         537577 non-null  float64\n",
      "dtypes: float64(3), int64(3), object(6)\n",
      "memory usage: 53.3+ MB\n"
     ]
    }
   ],
   "source": [
    "combined_df.info()"
   ]
  },
  {
   "cell_type": "code",
   "execution_count": 20,
   "id": "acf7e0a5",
   "metadata": {
    "ExecuteTime": {
     "end_time": "2024-01-27T06:22:19.208664Z",
     "start_time": "2024-01-27T06:22:19.182560Z"
    }
   },
   "outputs": [
    {
     "data": {
      "text/html": [
       "<div>\n",
       "<style scoped>\n",
       "    .dataframe tbody tr th:only-of-type {\n",
       "        vertical-align: middle;\n",
       "    }\n",
       "\n",
       "    .dataframe tbody tr th {\n",
       "        vertical-align: top;\n",
       "    }\n",
       "\n",
       "    .dataframe thead th {\n",
       "        text-align: right;\n",
       "    }\n",
       "</style>\n",
       "<table border=\"1\" class=\"dataframe\">\n",
       "  <thead>\n",
       "    <tr style=\"text-align: right;\">\n",
       "      <th></th>\n",
       "      <th>user_id</th>\n",
       "      <th>prod_id</th>\n",
       "      <th>sex</th>\n",
       "      <th>age_cat</th>\n",
       "      <th>credit_status_cd</th>\n",
       "      <th>edcution_cat</th>\n",
       "      <th>years_in_residence</th>\n",
       "      <th>car_ownership</th>\n",
       "      <th>prod_cat_1</th>\n",
       "      <th>prod_cat_2</th>\n",
       "      <th>prod_cat_3</th>\n",
       "      <th>revenue_usd</th>\n",
       "    </tr>\n",
       "  </thead>\n",
       "  <tbody>\n",
       "    <tr>\n",
       "      <th>0</th>\n",
       "      <td>DCN-1000001</td>\n",
       "      <td>DSKU-P00069042</td>\n",
       "      <td>F</td>\n",
       "      <td>18-25</td>\n",
       "      <td>10</td>\n",
       "      <td>university</td>\n",
       "      <td>2</td>\n",
       "      <td>0</td>\n",
       "      <td>3</td>\n",
       "      <td>0.0</td>\n",
       "      <td>0.0</td>\n",
       "      <td>9847.06</td>\n",
       "    </tr>\n",
       "    <tr>\n",
       "      <th>1</th>\n",
       "      <td>DCN-1000001</td>\n",
       "      <td>DSKU-P00248942</td>\n",
       "      <td>F</td>\n",
       "      <td>18-25</td>\n",
       "      <td>10</td>\n",
       "      <td>university</td>\n",
       "      <td>2</td>\n",
       "      <td>0</td>\n",
       "      <td>1</td>\n",
       "      <td>6.0</td>\n",
       "      <td>14.0</td>\n",
       "      <td>17882.35</td>\n",
       "    </tr>\n",
       "  </tbody>\n",
       "</table>\n",
       "</div>"
      ],
      "text/plain": [
       "       user_id         prod_id sex age_cat  credit_status_cd edcution_cat  \\\n",
       "0  DCN-1000001  DSKU-P00069042   F   18-25                10   university   \n",
       "1  DCN-1000001  DSKU-P00248942   F   18-25                10   university   \n",
       "\n",
       "  years_in_residence  car_ownership  prod_cat_1  prod_cat_2  prod_cat_3  \\\n",
       "0                  2              0           3         0.0         0.0   \n",
       "1                  2              0           1         6.0        14.0   \n",
       "\n",
       "   revenue_usd  \n",
       "0      9847.06  \n",
       "1     17882.35  "
      ]
     },
     "execution_count": 20,
     "metadata": {},
     "output_type": "execute_result"
    }
   ],
   "source": [
    "combined_df.head(2)"
   ]
  },
  {
   "cell_type": "markdown",
   "id": "4d9dc67b",
   "metadata": {},
   "source": [
    "##### age_cat column is a object type. we can convert it into numerical by replacing it with median age of each group"
   ]
  },
  {
   "cell_type": "code",
   "execution_count": 21,
   "id": "0c2e090f",
   "metadata": {
    "ExecuteTime": {
     "end_time": "2024-01-27T06:22:19.266362Z",
     "start_time": "2024-01-27T06:22:19.211440Z"
    }
   },
   "outputs": [
    {
     "data": {
      "text/plain": [
       "array(['18-25', '55+', '26-35', '46-50', '51-55', '36-45', '0-17'],\n",
       "      dtype=object)"
      ]
     },
     "execution_count": 21,
     "metadata": {},
     "output_type": "execute_result"
    }
   ],
   "source": [
    "# # Checking the unique values in age_cat\n",
    "combined_df['age_cat'].unique()"
   ]
  },
  {
   "cell_type": "code",
   "execution_count": 22,
   "id": "cdc49bc7",
   "metadata": {
    "ExecuteTime": {
     "end_time": "2024-01-27T06:22:19.781146Z",
     "start_time": "2024-01-27T06:22:19.268047Z"
    }
   },
   "outputs": [
    {
     "data": {
      "text/plain": [
       "0         21.5\n",
       "1         21.5\n",
       "2         21.5\n",
       "3         21.5\n",
       "4         60.0\n",
       "          ... \n",
       "137572    40.5\n",
       "137573    40.5\n",
       "137574    40.5\n",
       "137575    40.5\n",
       "137576    40.5\n",
       "Name: age_cat, Length: 537577, dtype: float64"
      ]
     },
     "execution_count": 22,
     "metadata": {},
     "output_type": "execute_result"
    }
   ],
   "source": [
    "# If the age is greater than 55 I am replacing it with 60\n",
    "combined_df[\"age_cat\"].apply(lambda x: 60 if '55+' in x else (int(x.split('-')[0]) + int(x.split('-')[1])) / 2)"
   ]
  },
  {
   "cell_type": "code",
   "execution_count": 23,
   "id": "8f91c2d0",
   "metadata": {
    "ExecuteTime": {
     "end_time": "2024-01-27T06:22:20.325526Z",
     "start_time": "2024-01-27T06:22:19.781146Z"
    }
   },
   "outputs": [
    {
     "data": {
      "text/html": [
       "<div>\n",
       "<style scoped>\n",
       "    .dataframe tbody tr th:only-of-type {\n",
       "        vertical-align: middle;\n",
       "    }\n",
       "\n",
       "    .dataframe tbody tr th {\n",
       "        vertical-align: top;\n",
       "    }\n",
       "\n",
       "    .dataframe thead th {\n",
       "        text-align: right;\n",
       "    }\n",
       "</style>\n",
       "<table border=\"1\" class=\"dataframe\">\n",
       "  <thead>\n",
       "    <tr style=\"text-align: right;\">\n",
       "      <th></th>\n",
       "      <th>user_id</th>\n",
       "      <th>prod_id</th>\n",
       "      <th>sex</th>\n",
       "      <th>credit_status_cd</th>\n",
       "      <th>edcution_cat</th>\n",
       "      <th>years_in_residence</th>\n",
       "      <th>car_ownership</th>\n",
       "      <th>prod_cat_1</th>\n",
       "      <th>prod_cat_2</th>\n",
       "      <th>prod_cat_3</th>\n",
       "      <th>revenue_usd</th>\n",
       "      <th>age_num</th>\n",
       "    </tr>\n",
       "  </thead>\n",
       "  <tbody>\n",
       "    <tr>\n",
       "      <th>0</th>\n",
       "      <td>DCN-1000001</td>\n",
       "      <td>DSKU-P00069042</td>\n",
       "      <td>F</td>\n",
       "      <td>10</td>\n",
       "      <td>university</td>\n",
       "      <td>2</td>\n",
       "      <td>0</td>\n",
       "      <td>3</td>\n",
       "      <td>0.0</td>\n",
       "      <td>0.0</td>\n",
       "      <td>9847.06</td>\n",
       "      <td>21.5</td>\n",
       "    </tr>\n",
       "    <tr>\n",
       "      <th>1</th>\n",
       "      <td>DCN-1000001</td>\n",
       "      <td>DSKU-P00248942</td>\n",
       "      <td>F</td>\n",
       "      <td>10</td>\n",
       "      <td>university</td>\n",
       "      <td>2</td>\n",
       "      <td>0</td>\n",
       "      <td>1</td>\n",
       "      <td>6.0</td>\n",
       "      <td>14.0</td>\n",
       "      <td>17882.35</td>\n",
       "      <td>21.5</td>\n",
       "    </tr>\n",
       "    <tr>\n",
       "      <th>2</th>\n",
       "      <td>DCN-1000001</td>\n",
       "      <td>DSKU-P00087842</td>\n",
       "      <td>F</td>\n",
       "      <td>10</td>\n",
       "      <td>university</td>\n",
       "      <td>2</td>\n",
       "      <td>0</td>\n",
       "      <td>12</td>\n",
       "      <td>0.0</td>\n",
       "      <td>0.0</td>\n",
       "      <td>1672.94</td>\n",
       "      <td>21.5</td>\n",
       "    </tr>\n",
       "    <tr>\n",
       "      <th>3</th>\n",
       "      <td>DCN-1000001</td>\n",
       "      <td>DSKU-P00085442</td>\n",
       "      <td>F</td>\n",
       "      <td>10</td>\n",
       "      <td>university</td>\n",
       "      <td>2</td>\n",
       "      <td>0</td>\n",
       "      <td>12</td>\n",
       "      <td>14.0</td>\n",
       "      <td>0.0</td>\n",
       "      <td>1243.53</td>\n",
       "      <td>21.5</td>\n",
       "    </tr>\n",
       "    <tr>\n",
       "      <th>4</th>\n",
       "      <td>DCN-1000002</td>\n",
       "      <td>DSKU-P00285442</td>\n",
       "      <td>M</td>\n",
       "      <td>16</td>\n",
       "      <td>high</td>\n",
       "      <td>4+</td>\n",
       "      <td>0</td>\n",
       "      <td>8</td>\n",
       "      <td>0.0</td>\n",
       "      <td>0.0</td>\n",
       "      <td>9375.29</td>\n",
       "      <td>60.0</td>\n",
       "    </tr>\n",
       "  </tbody>\n",
       "</table>\n",
       "</div>"
      ],
      "text/plain": [
       "       user_id         prod_id sex  credit_status_cd edcution_cat  \\\n",
       "0  DCN-1000001  DSKU-P00069042   F                10   university   \n",
       "1  DCN-1000001  DSKU-P00248942   F                10   university   \n",
       "2  DCN-1000001  DSKU-P00087842   F                10   university   \n",
       "3  DCN-1000001  DSKU-P00085442   F                10   university   \n",
       "4  DCN-1000002  DSKU-P00285442   M                16         high   \n",
       "\n",
       "  years_in_residence  car_ownership  prod_cat_1  prod_cat_2  prod_cat_3  \\\n",
       "0                  2              0           3         0.0         0.0   \n",
       "1                  2              0           1         6.0        14.0   \n",
       "2                  2              0          12         0.0         0.0   \n",
       "3                  2              0          12        14.0         0.0   \n",
       "4                 4+              0           8         0.0         0.0   \n",
       "\n",
       "   revenue_usd  age_num  \n",
       "0      9847.06     21.5  \n",
       "1     17882.35     21.5  \n",
       "2      1672.94     21.5  \n",
       "3      1243.53     21.5  \n",
       "4      9375.29     60.0  "
      ]
     },
     "execution_count": 23,
     "metadata": {},
     "output_type": "execute_result"
    }
   ],
   "source": [
    "combined_df[\"age_num\"] = combined_df['age_cat'].apply(lambda x: 60 if '55+' in x else (int(x.split('-')[0]) + int(x.split('-')[1])) / 2)\n",
    "\n",
    "combined_df.drop('age_cat', axis=1, inplace=True)\n",
    "combined_df.head()"
   ]
  },
  {
   "cell_type": "markdown",
   "id": "23e6db0d",
   "metadata": {},
   "source": [
    "#####  years_in_residence is also and object. but since it represents in a numeric form I am just going to remove the '+' and change it into int64 type"
   ]
  },
  {
   "cell_type": "code",
   "execution_count": 24,
   "id": "03b8c4d3",
   "metadata": {
    "ExecuteTime": {
     "end_time": "2024-01-27T06:22:20.400236Z",
     "start_time": "2024-01-27T06:22:20.327571Z"
    }
   },
   "outputs": [
    {
     "data": {
      "text/plain": [
       "array(['2', '4+', '3', '1', '0'], dtype=object)"
      ]
     },
     "execution_count": 24,
     "metadata": {},
     "output_type": "execute_result"
    }
   ],
   "source": [
    "# Checking the unique values in years_in_residence\n",
    "combined_df[\"years_in_residence\"].unique()"
   ]
  },
  {
   "cell_type": "code",
   "execution_count": 25,
   "id": "71b376b8",
   "metadata": {
    "ExecuteTime": {
     "end_time": "2024-01-27T06:22:20.655622Z",
     "start_time": "2024-01-27T06:22:20.401448Z"
    }
   },
   "outputs": [
    {
     "name": "stderr",
     "output_type": "stream",
     "text": [
      "C:\\Users\\varun\\AppData\\Local\\Temp/ipykernel_28460/1184402782.py:1: FutureWarning: The default value of regex will change from True to False in a future version. In addition, single character regular expressions will *not* be treated as literal strings when regex=True.\n",
      "  combined_df[\"years_in_residence\"] = combined_df[\"years_in_residence\"].str.replace('+', '').astype(\"int64\")\n"
     ]
    }
   ],
   "source": [
    "combined_df[\"years_in_residence\"] = combined_df[\"years_in_residence\"].str.replace('+', '').astype(\"int64\")"
   ]
  },
  {
   "cell_type": "code",
   "execution_count": 26,
   "id": "603abf95",
   "metadata": {
    "ExecuteTime": {
     "end_time": "2024-01-27T06:22:20.687527Z",
     "start_time": "2024-01-27T06:22:20.655622Z"
    }
   },
   "outputs": [
    {
     "data": {
      "text/html": [
       "<div>\n",
       "<style scoped>\n",
       "    .dataframe tbody tr th:only-of-type {\n",
       "        vertical-align: middle;\n",
       "    }\n",
       "\n",
       "    .dataframe tbody tr th {\n",
       "        vertical-align: top;\n",
       "    }\n",
       "\n",
       "    .dataframe thead th {\n",
       "        text-align: right;\n",
       "    }\n",
       "</style>\n",
       "<table border=\"1\" class=\"dataframe\">\n",
       "  <thead>\n",
       "    <tr style=\"text-align: right;\">\n",
       "      <th></th>\n",
       "      <th>user_id</th>\n",
       "      <th>prod_id</th>\n",
       "      <th>sex</th>\n",
       "      <th>credit_status_cd</th>\n",
       "      <th>edcution_cat</th>\n",
       "      <th>years_in_residence</th>\n",
       "      <th>car_ownership</th>\n",
       "      <th>prod_cat_1</th>\n",
       "      <th>prod_cat_2</th>\n",
       "      <th>prod_cat_3</th>\n",
       "      <th>revenue_usd</th>\n",
       "      <th>age_num</th>\n",
       "    </tr>\n",
       "  </thead>\n",
       "  <tbody>\n",
       "    <tr>\n",
       "      <th>0</th>\n",
       "      <td>DCN-1000001</td>\n",
       "      <td>DSKU-P00069042</td>\n",
       "      <td>F</td>\n",
       "      <td>10</td>\n",
       "      <td>university</td>\n",
       "      <td>2</td>\n",
       "      <td>0</td>\n",
       "      <td>3</td>\n",
       "      <td>0.0</td>\n",
       "      <td>0.0</td>\n",
       "      <td>9847.06</td>\n",
       "      <td>21.5</td>\n",
       "    </tr>\n",
       "    <tr>\n",
       "      <th>1</th>\n",
       "      <td>DCN-1000001</td>\n",
       "      <td>DSKU-P00248942</td>\n",
       "      <td>F</td>\n",
       "      <td>10</td>\n",
       "      <td>university</td>\n",
       "      <td>2</td>\n",
       "      <td>0</td>\n",
       "      <td>1</td>\n",
       "      <td>6.0</td>\n",
       "      <td>14.0</td>\n",
       "      <td>17882.35</td>\n",
       "      <td>21.5</td>\n",
       "    </tr>\n",
       "    <tr>\n",
       "      <th>2</th>\n",
       "      <td>DCN-1000001</td>\n",
       "      <td>DSKU-P00087842</td>\n",
       "      <td>F</td>\n",
       "      <td>10</td>\n",
       "      <td>university</td>\n",
       "      <td>2</td>\n",
       "      <td>0</td>\n",
       "      <td>12</td>\n",
       "      <td>0.0</td>\n",
       "      <td>0.0</td>\n",
       "      <td>1672.94</td>\n",
       "      <td>21.5</td>\n",
       "    </tr>\n",
       "    <tr>\n",
       "      <th>3</th>\n",
       "      <td>DCN-1000001</td>\n",
       "      <td>DSKU-P00085442</td>\n",
       "      <td>F</td>\n",
       "      <td>10</td>\n",
       "      <td>university</td>\n",
       "      <td>2</td>\n",
       "      <td>0</td>\n",
       "      <td>12</td>\n",
       "      <td>14.0</td>\n",
       "      <td>0.0</td>\n",
       "      <td>1243.53</td>\n",
       "      <td>21.5</td>\n",
       "    </tr>\n",
       "    <tr>\n",
       "      <th>4</th>\n",
       "      <td>DCN-1000002</td>\n",
       "      <td>DSKU-P00285442</td>\n",
       "      <td>M</td>\n",
       "      <td>16</td>\n",
       "      <td>high</td>\n",
       "      <td>4</td>\n",
       "      <td>0</td>\n",
       "      <td>8</td>\n",
       "      <td>0.0</td>\n",
       "      <td>0.0</td>\n",
       "      <td>9375.29</td>\n",
       "      <td>60.0</td>\n",
       "    </tr>\n",
       "  </tbody>\n",
       "</table>\n",
       "</div>"
      ],
      "text/plain": [
       "       user_id         prod_id sex  credit_status_cd edcution_cat  \\\n",
       "0  DCN-1000001  DSKU-P00069042   F                10   university   \n",
       "1  DCN-1000001  DSKU-P00248942   F                10   university   \n",
       "2  DCN-1000001  DSKU-P00087842   F                10   university   \n",
       "3  DCN-1000001  DSKU-P00085442   F                10   university   \n",
       "4  DCN-1000002  DSKU-P00285442   M                16         high   \n",
       "\n",
       "   years_in_residence  car_ownership  prod_cat_1  prod_cat_2  prod_cat_3  \\\n",
       "0                   2              0           3         0.0         0.0   \n",
       "1                   2              0           1         6.0        14.0   \n",
       "2                   2              0          12         0.0         0.0   \n",
       "3                   2              0          12        14.0         0.0   \n",
       "4                   4              0           8         0.0         0.0   \n",
       "\n",
       "   revenue_usd  age_num  \n",
       "0      9847.06     21.5  \n",
       "1     17882.35     21.5  \n",
       "2      1672.94     21.5  \n",
       "3      1243.53     21.5  \n",
       "4      9375.29     60.0  "
      ]
     },
     "execution_count": 26,
     "metadata": {},
     "output_type": "execute_result"
    }
   ],
   "source": [
    "combined_df.head()"
   ]
  },
  {
   "cell_type": "code",
   "execution_count": 27,
   "id": "39445e8b",
   "metadata": {
    "ExecuteTime": {
     "end_time": "2024-01-27T06:22:20.822967Z",
     "start_time": "2024-01-27T06:22:20.689035Z"
    }
   },
   "outputs": [
    {
     "name": "stdout",
     "output_type": "stream",
     "text": [
      "<class 'pandas.core.frame.DataFrame'>\n",
      "Int64Index: 537577 entries, 0 to 137576\n",
      "Data columns (total 12 columns):\n",
      " #   Column              Non-Null Count   Dtype  \n",
      "---  ------              --------------   -----  \n",
      " 0   user_id             537577 non-null  object \n",
      " 1   prod_id             537577 non-null  object \n",
      " 2   sex                 537577 non-null  object \n",
      " 3   credit_status_cd    537577 non-null  int64  \n",
      " 4   edcution_cat        537577 non-null  object \n",
      " 5   years_in_residence  537577 non-null  int64  \n",
      " 6   car_ownership       537577 non-null  int64  \n",
      " 7   prod_cat_1          537577 non-null  int64  \n",
      " 8   prod_cat_2          537577 non-null  float64\n",
      " 9   prod_cat_3          537577 non-null  float64\n",
      " 10  revenue_usd         537577 non-null  float64\n",
      " 11  age_num             537577 non-null  float64\n",
      "dtypes: float64(4), int64(4), object(4)\n",
      "memory usage: 53.3+ MB\n"
     ]
    }
   ],
   "source": [
    "combined_df.info()"
   ]
  },
  {
   "cell_type": "markdown",
   "id": "0e1bfbcd",
   "metadata": {},
   "source": [
    "> The data appears to be in good shape. I will now proceed with Exploratory Data Analysis (EDA)."
   ]
  },
  {
   "cell_type": "markdown",
   "id": "2f279000",
   "metadata": {},
   "source": [
    "## Exploratory Data Analysis (EDA)"
   ]
  },
  {
   "cell_type": "markdown",
   "id": "2b917f5c",
   "metadata": {},
   "source": [
    "#### Checking the co-relation between columns in the data"
   ]
  },
  {
   "cell_type": "code",
   "execution_count": 28,
   "id": "3f789ce7",
   "metadata": {
    "ExecuteTime": {
     "end_time": "2024-01-27T06:22:21.590922Z",
     "start_time": "2024-01-27T06:22:20.825581Z"
    }
   },
   "outputs": [
    {
     "data": {
      "text/plain": [
       "[]"
      ]
     },
     "execution_count": 28,
     "metadata": {},
     "output_type": "execute_result"
    },
    {
     "data": {
      "image/png": "[encoded data removed]",
      "text/plain": [
       "<Figure size 864x648 with 2 Axes>"
      ]
     },
     "metadata": {
      "needs_background": "light"
     },
     "output_type": "display_data"
    }
   ],
   "source": [
    "plt.figure(figsize=(12, 9)) \n",
    "sns.heatmap(combined_df.corr(),annot=True, fmt='.2f')\n",
    "plt.plot()"
   ]
  },
  {
   "cell_type": "markdown",
   "id": "6549fd5c",
   "metadata": {},
   "source": [
    "- There are relationship between prod_cat1, prod_cat2, and prod_cat3, but since it is  category in encoded form there isn't much to infer from this\n",
    "- Ther is relationships between Age and Credit Score, as well as Age and Car Ownership. As the Age group increases, we observe both higher credit scores and an increased likelihood of car ownership."
   ]
  },
  {
   "cell_type": "markdown",
   "id": "50307b61",
   "metadata": {},
   "source": [
    "### To understand more about this data. I have the following questions in mind that i want answers for.\n",
    "1. Which customer has the brought more revenue and in which products?\n",
    "2. What are the top 10 products bringing in more revenue?\n",
    "3. Which age group can we focus to bring in more revenue?\n",
    "4. Which gender is purchasing more?\n",
    "5. Customers with which education category and car ownership purchases more and brings in more revenue?"
   ]
  },
  {
   "cell_type": "markdown",
   "id": "b995eada",
   "metadata": {},
   "source": [
    "#### 1. Which customer has the brought more revenue and in which products?\n"
   ]
  },
  {
   "cell_type": "code",
   "execution_count": 29,
   "id": "d32e53a9",
   "metadata": {
    "ExecuteTime": {
     "end_time": "2024-01-27T06:22:21.709316Z",
     "start_time": "2024-01-27T06:22:21.590922Z"
    }
   },
   "outputs": [
    {
     "data": {
      "text/html": [
       "<div>\n",
       "<style scoped>\n",
       "    .dataframe tbody tr th:only-of-type {\n",
       "        vertical-align: middle;\n",
       "    }\n",
       "\n",
       "    .dataframe tbody tr th {\n",
       "        vertical-align: top;\n",
       "    }\n",
       "\n",
       "    .dataframe thead th {\n",
       "        text-align: right;\n",
       "    }\n",
       "</style>\n",
       "<table border=\"1\" class=\"dataframe\">\n",
       "  <thead>\n",
       "    <tr style=\"text-align: right;\">\n",
       "      <th></th>\n",
       "      <th>user_id</th>\n",
       "      <th>revenue_usd</th>\n",
       "      <th>prod_id</th>\n",
       "      <th>perc_spent</th>\n",
       "    </tr>\n",
       "  </thead>\n",
       "  <tbody>\n",
       "    <tr>\n",
       "      <th>4166</th>\n",
       "      <td>DCN-1004277</td>\n",
       "      <td>12396215.30</td>\n",
       "      <td>978</td>\n",
       "      <td>0.209994</td>\n",
       "    </tr>\n",
       "    <tr>\n",
       "      <th>1634</th>\n",
       "      <td>DCN-1001680</td>\n",
       "      <td>10234390.51</td>\n",
       "      <td>1025</td>\n",
       "      <td>0.173372</td>\n",
       "    </tr>\n",
       "    <tr>\n",
       "      <th>2831</th>\n",
       "      <td>DCN-1002909</td>\n",
       "      <td>8914711.78</td>\n",
       "      <td>717</td>\n",
       "      <td>0.151016</td>\n",
       "    </tr>\n",
       "    <tr>\n",
       "      <th>1885</th>\n",
       "      <td>DCN-1001941</td>\n",
       "      <td>8020580.04</td>\n",
       "      <td>898</td>\n",
       "      <td>0.135870</td>\n",
       "    </tr>\n",
       "    <tr>\n",
       "      <th>416</th>\n",
       "      <td>DCN-1000424</td>\n",
       "      <td>7733657.62</td>\n",
       "      <td>694</td>\n",
       "      <td>0.131009</td>\n",
       "    </tr>\n",
       "    <tr>\n",
       "      <th>...</th>\n",
       "      <td>...</td>\n",
       "      <td>...</td>\n",
       "      <td>...</td>\n",
       "      <td>...</td>\n",
       "    </tr>\n",
       "    <tr>\n",
       "      <th>4351</th>\n",
       "      <td>DCN-1004464</td>\n",
       "      <td>54224.70</td>\n",
       "      <td>8</td>\n",
       "      <td>0.000919</td>\n",
       "    </tr>\n",
       "    <tr>\n",
       "      <th>5794</th>\n",
       "      <td>DCN-1005944</td>\n",
       "      <td>54200.00</td>\n",
       "      <td>14</td>\n",
       "      <td>0.000918</td>\n",
       "    </tr>\n",
       "    <tr>\n",
       "      <th>4887</th>\n",
       "      <td>DCN-1005012</td>\n",
       "      <td>53589.41</td>\n",
       "      <td>10</td>\n",
       "      <td>0.000908</td>\n",
       "    </tr>\n",
       "    <tr>\n",
       "      <th>4989</th>\n",
       "      <td>DCN-1005117</td>\n",
       "      <td>52272.93</td>\n",
       "      <td>8</td>\n",
       "      <td>0.000886</td>\n",
       "    </tr>\n",
       "    <tr>\n",
       "      <th>4866</th>\n",
       "      <td>DCN-1004991</td>\n",
       "      <td>51891.77</td>\n",
       "      <td>6</td>\n",
       "      <td>0.000879</td>\n",
       "    </tr>\n",
       "  </tbody>\n",
       "</table>\n",
       "<p>5891 rows × 4 columns</p>\n",
       "</div>"
      ],
      "text/plain": [
       "          user_id  revenue_usd  prod_id  perc_spent\n",
       "4166  DCN-1004277  12396215.30      978    0.209994\n",
       "1634  DCN-1001680  10234390.51     1025    0.173372\n",
       "2831  DCN-1002909   8914711.78      717    0.151016\n",
       "1885  DCN-1001941   8020580.04      898    0.135870\n",
       "416   DCN-1000424   7733657.62      694    0.131009\n",
       "...           ...          ...      ...         ...\n",
       "4351  DCN-1004464     54224.70        8    0.000919\n",
       "5794  DCN-1005944     54200.00       14    0.000918\n",
       "4887  DCN-1005012     53589.41       10    0.000908\n",
       "4989  DCN-1005117     52272.93        8    0.000886\n",
       "4866  DCN-1004991     51891.77        6    0.000879\n",
       "\n",
       "[5891 rows x 4 columns]"
      ]
     },
     "execution_count": 29,
     "metadata": {},
     "output_type": "execute_result"
    }
   ],
   "source": [
    "user_summary = combined_df.groupby('user_id').agg({'revenue_usd': 'sum', 'prod_id': 'count'}).reset_index().sort_values('revenue_usd',ascending=False)\n",
    "user_summary['perc_spent'] = (user_summary['revenue_usd']/combined_df['revenue_usd'].sum())*100\n",
    "user_summary"
   ]
  },
  {
   "cell_type": "code",
   "execution_count": 30,
   "id": "7cdbc1b0",
   "metadata": {
    "ExecuteTime": {
     "end_time": "2024-01-27T06:22:21.990268Z",
     "start_time": "2024-01-27T06:22:21.709316Z"
    }
   },
   "outputs": [
    {
     "data": {
      "text/html": [
       "<div>\n",
       "<style scoped>\n",
       "    .dataframe tbody tr th:only-of-type {\n",
       "        vertical-align: middle;\n",
       "    }\n",
       "\n",
       "    .dataframe tbody tr th {\n",
       "        vertical-align: top;\n",
       "    }\n",
       "\n",
       "    .dataframe thead th {\n",
       "        text-align: right;\n",
       "    }\n",
       "</style>\n",
       "<table border=\"1\" class=\"dataframe\">\n",
       "  <thead>\n",
       "    <tr style=\"text-align: right;\">\n",
       "      <th></th>\n",
       "      <th>user_id</th>\n",
       "      <th>prod_id</th>\n",
       "      <th>count</th>\n",
       "    </tr>\n",
       "  </thead>\n",
       "  <tbody>\n",
       "    <tr>\n",
       "      <th>0</th>\n",
       "      <td>DCN-1000001</td>\n",
       "      <td>DSKU-P00000142</td>\n",
       "      <td>1</td>\n",
       "    </tr>\n",
       "    <tr>\n",
       "      <th>1</th>\n",
       "      <td>DCN-1000001</td>\n",
       "      <td>DSKU-P00004842</td>\n",
       "      <td>1</td>\n",
       "    </tr>\n",
       "    <tr>\n",
       "      <th>2</th>\n",
       "      <td>DCN-1000001</td>\n",
       "      <td>DSKU-P00025442</td>\n",
       "      <td>1</td>\n",
       "    </tr>\n",
       "    <tr>\n",
       "      <th>3</th>\n",
       "      <td>DCN-1000001</td>\n",
       "      <td>DSKU-P00051442</td>\n",
       "      <td>1</td>\n",
       "    </tr>\n",
       "    <tr>\n",
       "      <th>4</th>\n",
       "      <td>DCN-1000001</td>\n",
       "      <td>DSKU-P00051842</td>\n",
       "      <td>1</td>\n",
       "    </tr>\n",
       "    <tr>\n",
       "      <th>...</th>\n",
       "      <td>...</td>\n",
       "      <td>...</td>\n",
       "      <td>...</td>\n",
       "    </tr>\n",
       "    <tr>\n",
       "      <th>537572</th>\n",
       "      <td>DCN-1006040</td>\n",
       "      <td>DSKU-P00329242</td>\n",
       "      <td>1</td>\n",
       "    </tr>\n",
       "    <tr>\n",
       "      <th>537573</th>\n",
       "      <td>DCN-1006040</td>\n",
       "      <td>DSKU-P00331942</td>\n",
       "      <td>1</td>\n",
       "    </tr>\n",
       "    <tr>\n",
       "      <th>537574</th>\n",
       "      <td>DCN-1006040</td>\n",
       "      <td>DSKU-P00343042</td>\n",
       "      <td>1</td>\n",
       "    </tr>\n",
       "    <tr>\n",
       "      <th>537575</th>\n",
       "      <td>DCN-1006040</td>\n",
       "      <td>DSKU-P00346242</td>\n",
       "      <td>1</td>\n",
       "    </tr>\n",
       "    <tr>\n",
       "      <th>537576</th>\n",
       "      <td>DCN-1006040</td>\n",
       "      <td>DSKU-P00349442</td>\n",
       "      <td>1</td>\n",
       "    </tr>\n",
       "  </tbody>\n",
       "</table>\n",
       "<p>537577 rows × 3 columns</p>\n",
       "</div>"
      ],
      "text/plain": [
       "            user_id         prod_id  count\n",
       "0       DCN-1000001  DSKU-P00000142      1\n",
       "1       DCN-1000001  DSKU-P00004842      1\n",
       "2       DCN-1000001  DSKU-P00025442      1\n",
       "3       DCN-1000001  DSKU-P00051442      1\n",
       "4       DCN-1000001  DSKU-P00051842      1\n",
       "...             ...             ...    ...\n",
       "537572  DCN-1006040  DSKU-P00329242      1\n",
       "537573  DCN-1006040  DSKU-P00331942      1\n",
       "537574  DCN-1006040  DSKU-P00343042      1\n",
       "537575  DCN-1006040  DSKU-P00346242      1\n",
       "537576  DCN-1006040  DSKU-P00349442      1\n",
       "\n",
       "[537577 rows x 3 columns]"
      ]
     },
     "execution_count": 30,
     "metadata": {},
     "output_type": "execute_result"
    }
   ],
   "source": [
    "combined_df.groupby(['user_id', 'prod_id']).size().reset_index(name='count')"
   ]
  },
  {
   "cell_type": "code",
   "execution_count": 31,
   "id": "0ef9e315",
   "metadata": {
    "ExecuteTime": {
     "end_time": "2024-01-27T06:22:22.266371Z",
     "start_time": "2024-01-27T06:22:21.992154Z"
    }
   },
   "outputs": [
    {
     "data": {
      "text/plain": [
       "0"
      ]
     },
     "execution_count": 31,
     "metadata": {},
     "output_type": "execute_result"
    }
   ],
   "source": [
    "grp_df = combined_df.groupby(['user_id', 'prod_id']).size().reset_index(name='count')\n",
    "grp_df[grp_df['count']>1].shape[0]"
   ]
  },
  {
   "cell_type": "markdown",
   "id": "f58d68c1",
   "metadata": {
    "ExecuteTime": {
     "end_time": "2023-09-30T09:41:47.690660Z",
     "start_time": "2023-09-30T09:41:47.670733Z"
    }
   },
   "source": [
    "- An interesting thing to see here is that no individual user has made a significant contribution to the overall revenue.\n",
    "- Another interesting fact is that the users have not made duplicate purchases of the same prod_id."
   ]
  },
  {
   "cell_type": "markdown",
   "id": "28938eb3",
   "metadata": {},
   "source": [
    "#### 2. What are the top 10 products bringing in more revenue?\n"
   ]
  },
  {
   "cell_type": "code",
   "execution_count": 32,
   "id": "93f6f3b8",
   "metadata": {
    "ExecuteTime": {
     "end_time": "2024-01-27T06:22:22.386675Z",
     "start_time": "2024-01-27T06:22:22.267420Z"
    }
   },
   "outputs": [
    {
     "data": {
      "text/html": [
       "<div>\n",
       "<style scoped>\n",
       "    .dataframe tbody tr th:only-of-type {\n",
       "        vertical-align: middle;\n",
       "    }\n",
       "\n",
       "    .dataframe tbody tr th {\n",
       "        vertical-align: top;\n",
       "    }\n",
       "\n",
       "    .dataframe thead th {\n",
       "        text-align: right;\n",
       "    }\n",
       "</style>\n",
       "<table border=\"1\" class=\"dataframe\">\n",
       "  <thead>\n",
       "    <tr style=\"text-align: right;\">\n",
       "      <th></th>\n",
       "      <th>prod_id</th>\n",
       "      <th>revenue_usd</th>\n",
       "    </tr>\n",
       "  </thead>\n",
       "  <tbody>\n",
       "    <tr>\n",
       "      <th>0</th>\n",
       "      <td>DSKU-P00086242</td>\n",
       "      <td>25056.312537</td>\n",
       "    </tr>\n",
       "    <tr>\n",
       "      <th>1</th>\n",
       "      <td>DSKU-P00085342</td>\n",
       "      <td>24698.593432</td>\n",
       "    </tr>\n",
       "    <tr>\n",
       "      <th>2</th>\n",
       "      <td>DSKU-P00200642</td>\n",
       "      <td>24093.211571</td>\n",
       "    </tr>\n",
       "    <tr>\n",
       "      <th>3</th>\n",
       "      <td>DSKU-P00116142</td>\n",
       "      <td>24092.076124</td>\n",
       "    </tr>\n",
       "    <tr>\n",
       "      <th>4</th>\n",
       "      <td>DSKU-P00119342</td>\n",
       "      <td>24063.877599</td>\n",
       "    </tr>\n",
       "    <tr>\n",
       "      <th>...</th>\n",
       "      <td>...</td>\n",
       "      <td>...</td>\n",
       "    </tr>\n",
       "    <tr>\n",
       "      <th>3618</th>\n",
       "      <td>DSKU-P00273842</td>\n",
       "      <td>617.255000</td>\n",
       "    </tr>\n",
       "    <tr>\n",
       "      <th>3619</th>\n",
       "      <td>DSKU-P00063242</td>\n",
       "      <td>585.886000</td>\n",
       "    </tr>\n",
       "    <tr>\n",
       "      <th>3620</th>\n",
       "      <td>DSKU-P00293442</td>\n",
       "      <td>562.940000</td>\n",
       "    </tr>\n",
       "    <tr>\n",
       "      <th>3621</th>\n",
       "      <td>DSKU-P00041442</td>\n",
       "      <td>535.930510</td>\n",
       "    </tr>\n",
       "    <tr>\n",
       "      <th>3622</th>\n",
       "      <td>DSKU-P00091742</td>\n",
       "      <td>476.470000</td>\n",
       "    </tr>\n",
       "  </tbody>\n",
       "</table>\n",
       "<p>3623 rows × 2 columns</p>\n",
       "</div>"
      ],
      "text/plain": [
       "             prod_id   revenue_usd\n",
       "0     DSKU-P00086242  25056.312537\n",
       "1     DSKU-P00085342  24698.593432\n",
       "2     DSKU-P00200642  24093.211571\n",
       "3     DSKU-P00116142  24092.076124\n",
       "4     DSKU-P00119342  24063.877599\n",
       "...              ...           ...\n",
       "3618  DSKU-P00273842    617.255000\n",
       "3619  DSKU-P00063242    585.886000\n",
       "3620  DSKU-P00293442    562.940000\n",
       "3621  DSKU-P00041442    535.930510\n",
       "3622  DSKU-P00091742    476.470000\n",
       "\n",
       "[3623 rows x 2 columns]"
      ]
     },
     "execution_count": 32,
     "metadata": {},
     "output_type": "execute_result"
    }
   ],
   "source": [
    "product_revenue = combined_df.groupby('prod_id')[['revenue_usd']].mean()\n",
    "product_revenue.sort_values('revenue_usd',ascending=False).reset_index()"
   ]
  },
  {
   "cell_type": "code",
   "execution_count": 33,
   "id": "d70b88ee",
   "metadata": {
    "ExecuteTime": {
     "end_time": "2024-01-27T06:22:22.507984Z",
     "start_time": "2024-01-27T06:22:22.388407Z"
    }
   },
   "outputs": [
    {
     "data": {
      "text/html": [
       "<div>\n",
       "<style scoped>\n",
       "    .dataframe tbody tr th:only-of-type {\n",
       "        vertical-align: middle;\n",
       "    }\n",
       "\n",
       "    .dataframe tbody tr th {\n",
       "        vertical-align: top;\n",
       "    }\n",
       "\n",
       "    .dataframe thead th {\n",
       "        text-align: right;\n",
       "    }\n",
       "</style>\n",
       "<table border=\"1\" class=\"dataframe\">\n",
       "  <thead>\n",
       "    <tr style=\"text-align: right;\">\n",
       "      <th></th>\n",
       "      <th>revenue_usd</th>\n",
       "    </tr>\n",
       "    <tr>\n",
       "      <th>prod_id</th>\n",
       "      <th></th>\n",
       "    </tr>\n",
       "  </thead>\n",
       "  <tbody>\n",
       "    <tr>\n",
       "      <th>DSKU-P00025442</th>\n",
       "      <td>0.548710</td>\n",
       "    </tr>\n",
       "    <tr>\n",
       "      <th>DSKU-P00110742</th>\n",
       "      <td>0.525793</td>\n",
       "    </tr>\n",
       "    <tr>\n",
       "      <th>DSKU-P00255842</th>\n",
       "      <td>0.491313</td>\n",
       "    </tr>\n",
       "    <tr>\n",
       "      <th>DSKU-P00184942</th>\n",
       "      <td>0.479523</td>\n",
       "    </tr>\n",
       "    <tr>\n",
       "      <th>DSKU-P00059442</th>\n",
       "      <td>0.477279</td>\n",
       "    </tr>\n",
       "    <tr>\n",
       "      <th>DSKU-P00112142</th>\n",
       "      <td>0.475971</td>\n",
       "    </tr>\n",
       "    <tr>\n",
       "      <th>DSKU-P00110942</th>\n",
       "      <td>0.463015</td>\n",
       "    </tr>\n",
       "    <tr>\n",
       "      <th>DSKU-P00237542</th>\n",
       "      <td>0.460303</td>\n",
       "    </tr>\n",
       "    <tr>\n",
       "      <th>DSKU-P00057642</th>\n",
       "      <td>0.448290</td>\n",
       "    </tr>\n",
       "    <tr>\n",
       "      <th>DSKU-P00010742</th>\n",
       "      <td>0.435761</td>\n",
       "    </tr>\n",
       "  </tbody>\n",
       "</table>\n",
       "</div>"
      ],
      "text/plain": [
       "                revenue_usd\n",
       "prod_id                    \n",
       "DSKU-P00025442     0.548710\n",
       "DSKU-P00110742     0.525793\n",
       "DSKU-P00255842     0.491313\n",
       "DSKU-P00184942     0.479523\n",
       "DSKU-P00059442     0.477279\n",
       "DSKU-P00112142     0.475971\n",
       "DSKU-P00110942     0.463015\n",
       "DSKU-P00237542     0.460303\n",
       "DSKU-P00057642     0.448290\n",
       "DSKU-P00010742     0.435761"
      ]
     },
     "execution_count": 33,
     "metadata": {},
     "output_type": "execute_result"
    }
   ],
   "source": [
    "# Taking top 10 products\n",
    "product_revenue = (combined_df.groupby('prod_id')[['revenue_usd']].sum().sort_values('revenue_usd',ascending=False)/combined_df['revenue_usd'].sum())*100\n",
    "product_revenue.head(10)"
   ]
  },
  {
   "cell_type": "markdown",
   "id": "d5b45d18",
   "metadata": {},
   "source": [
    "- There isn't any individual product that has made a substantial impact on the total revenue."
   ]
  },
  {
   "cell_type": "markdown",
   "id": "877cbeb1",
   "metadata": {},
   "source": [
    "#### Which age group can we focus to bring in more revenue?"
   ]
  },
  {
   "cell_type": "code",
   "execution_count": 34,
   "id": "af32fc19",
   "metadata": {
    "ExecuteTime": {
     "end_time": "2024-01-27T06:22:22.605790Z",
     "start_time": "2024-01-27T06:22:22.509808Z"
    }
   },
   "outputs": [
    {
     "data": {
      "text/html": [
       "<div>\n",
       "<style scoped>\n",
       "    .dataframe tbody tr th:only-of-type {\n",
       "        vertical-align: middle;\n",
       "    }\n",
       "\n",
       "    .dataframe tbody tr th {\n",
       "        vertical-align: top;\n",
       "    }\n",
       "\n",
       "    .dataframe thead th {\n",
       "        text-align: right;\n",
       "    }\n",
       "</style>\n",
       "<table border=\"1\" class=\"dataframe\">\n",
       "  <thead>\n",
       "    <tr style=\"text-align: right;\">\n",
       "      <th></th>\n",
       "      <th>user_id</th>\n",
       "      <th>prod_id</th>\n",
       "      <th>sex</th>\n",
       "      <th>age_cat</th>\n",
       "      <th>credit_status_cd</th>\n",
       "      <th>edcution_cat</th>\n",
       "      <th>years_in_residence</th>\n",
       "      <th>car_ownership</th>\n",
       "      <th>prod_cat_1</th>\n",
       "      <th>prod_cat_2</th>\n",
       "      <th>prod_cat_3</th>\n",
       "      <th>revenue_usd</th>\n",
       "    </tr>\n",
       "  </thead>\n",
       "  <tbody>\n",
       "    <tr>\n",
       "      <th>0</th>\n",
       "      <td>DCN-1000001</td>\n",
       "      <td>DSKU-P00069042</td>\n",
       "      <td>F</td>\n",
       "      <td>18-25</td>\n",
       "      <td>10</td>\n",
       "      <td>university</td>\n",
       "      <td>2</td>\n",
       "      <td>0</td>\n",
       "      <td>3</td>\n",
       "      <td>NaN</td>\n",
       "      <td>NaN</td>\n",
       "      <td>9847.06</td>\n",
       "    </tr>\n",
       "    <tr>\n",
       "      <th>1</th>\n",
       "      <td>DCN-1000001</td>\n",
       "      <td>DSKU-P00248942</td>\n",
       "      <td>F</td>\n",
       "      <td>18-25</td>\n",
       "      <td>10</td>\n",
       "      <td>university</td>\n",
       "      <td>2</td>\n",
       "      <td>0</td>\n",
       "      <td>1</td>\n",
       "      <td>6.0</td>\n",
       "      <td>14.0</td>\n",
       "      <td>17882.35</td>\n",
       "    </tr>\n",
       "    <tr>\n",
       "      <th>2</th>\n",
       "      <td>DCN-1000001</td>\n",
       "      <td>DSKU-P00087842</td>\n",
       "      <td>F</td>\n",
       "      <td>18-25</td>\n",
       "      <td>10</td>\n",
       "      <td>university</td>\n",
       "      <td>2</td>\n",
       "      <td>0</td>\n",
       "      <td>12</td>\n",
       "      <td>NaN</td>\n",
       "      <td>NaN</td>\n",
       "      <td>1672.94</td>\n",
       "    </tr>\n",
       "    <tr>\n",
       "      <th>3</th>\n",
       "      <td>DCN-1000001</td>\n",
       "      <td>DSKU-P00085442</td>\n",
       "      <td>F</td>\n",
       "      <td>18-25</td>\n",
       "      <td>10</td>\n",
       "      <td>university</td>\n",
       "      <td>2</td>\n",
       "      <td>0</td>\n",
       "      <td>12</td>\n",
       "      <td>14.0</td>\n",
       "      <td>NaN</td>\n",
       "      <td>1243.53</td>\n",
       "    </tr>\n",
       "    <tr>\n",
       "      <th>4</th>\n",
       "      <td>DCN-1000002</td>\n",
       "      <td>DSKU-P00285442</td>\n",
       "      <td>M</td>\n",
       "      <td>55+</td>\n",
       "      <td>16</td>\n",
       "      <td>high</td>\n",
       "      <td>4+</td>\n",
       "      <td>0</td>\n",
       "      <td>8</td>\n",
       "      <td>NaN</td>\n",
       "      <td>NaN</td>\n",
       "      <td>9375.29</td>\n",
       "    </tr>\n",
       "  </tbody>\n",
       "</table>\n",
       "</div>"
      ],
      "text/plain": [
       "       user_id         prod_id sex age_cat  credit_status_cd edcution_cat  \\\n",
       "0  DCN-1000001  DSKU-P00069042   F   18-25                10   university   \n",
       "1  DCN-1000001  DSKU-P00248942   F   18-25                10   university   \n",
       "2  DCN-1000001  DSKU-P00087842   F   18-25                10   university   \n",
       "3  DCN-1000001  DSKU-P00085442   F   18-25                10   university   \n",
       "4  DCN-1000002  DSKU-P00285442   M     55+                16         high   \n",
       "\n",
       "  years_in_residence  car_ownership  prod_cat_1  prod_cat_2  prod_cat_3  \\\n",
       "0                  2              0           3         NaN         NaN   \n",
       "1                  2              0           1         6.0        14.0   \n",
       "2                  2              0          12         NaN         NaN   \n",
       "3                  2              0          12        14.0         NaN   \n",
       "4                 4+              0           8         NaN         NaN   \n",
       "\n",
       "   revenue_usd  \n",
       "0      9847.06  \n",
       "1     17882.35  \n",
       "2      1672.94  \n",
       "3      1243.53  \n",
       "4      9375.29  "
      ]
     },
     "execution_count": 34,
     "metadata": {},
     "output_type": "execute_result"
    }
   ],
   "source": [
    "data_df = pd.concat([df1, df2, df3], axis=0)\n",
    "data_df.head()"
   ]
  },
  {
   "cell_type": "code",
   "execution_count": 35,
   "id": "381c6de1",
   "metadata": {
    "ExecuteTime": {
     "end_time": "2024-01-27T06:22:22.654458Z",
     "start_time": "2024-01-27T06:22:22.607434Z"
    }
   },
   "outputs": [
    {
     "data": {
      "text/plain": [
       "age_cat\n",
       "0-17      13885\n",
       "18-25     98135\n",
       "26-35    214694\n",
       "36-45    107499\n",
       "46-50     44526\n",
       "51-55     37618\n",
       "55+       21220\n",
       "Name: revenue_usd, dtype: int64"
      ]
     },
     "execution_count": 35,
     "metadata": {},
     "output_type": "execute_result"
    }
   ],
   "source": [
    "data_df.groupby('age_cat')['revenue_usd'].count()"
   ]
  },
  {
   "cell_type": "code",
   "execution_count": 36,
   "id": "9c480d4d",
   "metadata": {
    "ExecuteTime": {
     "end_time": "2024-01-27T06:22:22.839786Z",
     "start_time": "2024-01-27T06:22:22.654458Z"
    }
   },
   "outputs": [
    {
     "data": {
      "image/png": "[encoded data removed]",
      "text/plain": [
       "<Figure size 576x576 with 1 Axes>"
      ]
     },
     "metadata": {},
     "output_type": "display_data"
    }
   ],
   "source": [
    "age_group_revenue = data_df.groupby('age_cat')['revenue_usd'].sum()\n",
    "\n",
    "plt.figure(figsize=(8, 8))  \n",
    "plt.pie(age_group_revenue, labels=age_group_revenue.index, autopct='%1.1f%%', startangle=140)\n",
    "\n",
    "plt.title('Revenue Contribution by Age Group')\n",
    "plt.show()"
   ]
  },
  {
   "cell_type": "markdown",
   "id": "d0517324",
   "metadata": {},
   "source": [
    "- We can observe that the age groups 26-35 and 36-45 have collectively accounted for 59.9% of all purchases.\n",
    "- From the chart, we can observe that they also contribute to approximately 60% of the total revenue.\n",
    "- **From both these observations, it's apparent that all age groups, on average have spent at a similar level.**"
   ]
  },
  {
   "cell_type": "markdown",
   "id": "12b1c7ac",
   "metadata": {},
   "source": [
    "#### Which gender is purchasing more?\n"
   ]
  },
  {
   "cell_type": "code",
   "execution_count": 37,
   "id": "09304b96",
   "metadata": {
    "ExecuteTime": {
     "end_time": "2024-01-27T06:22:23.082412Z",
     "start_time": "2024-01-27T06:22:22.839786Z"
    },
    "scrolled": false
   },
   "outputs": [
    {
     "data": {
      "text/plain": [
       "[]"
      ]
     },
     "execution_count": 37,
     "metadata": {},
     "output_type": "execute_result"
    },
    {
     "data": {
      "image/png": "[encoded data removed]",
      "text/plain": [
       "<Figure size 504x576 with 1 Axes>"
      ]
     },
     "metadata": {
      "needs_background": "light"
     },
     "output_type": "display_data"
    }
   ],
   "source": [
    "gender_revenue = combined_df.groupby('sex')['prod_id'].count()\n",
    "\n",
    "plt.figure(figsize=(7, 8)) \n",
    "gender_revenue.plot(kind='bar', color=['Pink', 'Blue'])\n",
    "\n",
    "plt.xlabel('Gender')\n",
    "plt.ylabel('Total Products Purchased')\n",
    "plt.title(' Products Purchased by Gender', fontdict={'fontsize': 20})\n",
    "plt.plot()"
   ]
  },
  {
   "cell_type": "markdown",
   "id": "19582014",
   "metadata": {},
   "source": [
    "- It's clear from the data that males have made purchases nearly three times higher than females."
   ]
  },
  {
   "cell_type": "markdown",
   "id": "aa082285",
   "metadata": {},
   "source": [
    "#### Customers with which education category and car ownership purchases more and brings in more revenue?"
   ]
  },
  {
   "cell_type": "code",
   "execution_count": 38,
   "id": "82405bad",
   "metadata": {
    "ExecuteTime": {
     "end_time": "2024-01-27T06:22:23.099292Z",
     "start_time": "2024-01-27T06:22:23.082412Z"
    }
   },
   "outputs": [
    {
     "data": {
      "text/html": [
       "<div>\n",
       "<style scoped>\n",
       "    .dataframe tbody tr th:only-of-type {\n",
       "        vertical-align: middle;\n",
       "    }\n",
       "\n",
       "    .dataframe tbody tr th {\n",
       "        vertical-align: top;\n",
       "    }\n",
       "\n",
       "    .dataframe thead th {\n",
       "        text-align: right;\n",
       "    }\n",
       "</style>\n",
       "<table border=\"1\" class=\"dataframe\">\n",
       "  <thead>\n",
       "    <tr style=\"text-align: right;\">\n",
       "      <th></th>\n",
       "      <th>user_id</th>\n",
       "      <th>prod_id</th>\n",
       "      <th>sex</th>\n",
       "      <th>credit_status_cd</th>\n",
       "      <th>edcution_cat</th>\n",
       "      <th>years_in_residence</th>\n",
       "      <th>car_ownership</th>\n",
       "      <th>prod_cat_1</th>\n",
       "      <th>prod_cat_2</th>\n",
       "      <th>prod_cat_3</th>\n",
       "      <th>revenue_usd</th>\n",
       "      <th>age_num</th>\n",
       "    </tr>\n",
       "  </thead>\n",
       "  <tbody>\n",
       "    <tr>\n",
       "      <th>0</th>\n",
       "      <td>DCN-1000001</td>\n",
       "      <td>DSKU-P00069042</td>\n",
       "      <td>F</td>\n",
       "      <td>10</td>\n",
       "      <td>university</td>\n",
       "      <td>2</td>\n",
       "      <td>0</td>\n",
       "      <td>3</td>\n",
       "      <td>0.0</td>\n",
       "      <td>0.0</td>\n",
       "      <td>9847.06</td>\n",
       "      <td>21.5</td>\n",
       "    </tr>\n",
       "    <tr>\n",
       "      <th>1</th>\n",
       "      <td>DCN-1000001</td>\n",
       "      <td>DSKU-P00248942</td>\n",
       "      <td>F</td>\n",
       "      <td>10</td>\n",
       "      <td>university</td>\n",
       "      <td>2</td>\n",
       "      <td>0</td>\n",
       "      <td>1</td>\n",
       "      <td>6.0</td>\n",
       "      <td>14.0</td>\n",
       "      <td>17882.35</td>\n",
       "      <td>21.5</td>\n",
       "    </tr>\n",
       "    <tr>\n",
       "      <th>2</th>\n",
       "      <td>DCN-1000001</td>\n",
       "      <td>DSKU-P00087842</td>\n",
       "      <td>F</td>\n",
       "      <td>10</td>\n",
       "      <td>university</td>\n",
       "      <td>2</td>\n",
       "      <td>0</td>\n",
       "      <td>12</td>\n",
       "      <td>0.0</td>\n",
       "      <td>0.0</td>\n",
       "      <td>1672.94</td>\n",
       "      <td>21.5</td>\n",
       "    </tr>\n",
       "    <tr>\n",
       "      <th>3</th>\n",
       "      <td>DCN-1000001</td>\n",
       "      <td>DSKU-P00085442</td>\n",
       "      <td>F</td>\n",
       "      <td>10</td>\n",
       "      <td>university</td>\n",
       "      <td>2</td>\n",
       "      <td>0</td>\n",
       "      <td>12</td>\n",
       "      <td>14.0</td>\n",
       "      <td>0.0</td>\n",
       "      <td>1243.53</td>\n",
       "      <td>21.5</td>\n",
       "    </tr>\n",
       "    <tr>\n",
       "      <th>4</th>\n",
       "      <td>DCN-1000002</td>\n",
       "      <td>DSKU-P00285442</td>\n",
       "      <td>M</td>\n",
       "      <td>16</td>\n",
       "      <td>high</td>\n",
       "      <td>4</td>\n",
       "      <td>0</td>\n",
       "      <td>8</td>\n",
       "      <td>0.0</td>\n",
       "      <td>0.0</td>\n",
       "      <td>9375.29</td>\n",
       "      <td>60.0</td>\n",
       "    </tr>\n",
       "  </tbody>\n",
       "</table>\n",
       "</div>"
      ],
      "text/plain": [
       "       user_id         prod_id sex  credit_status_cd edcution_cat  \\\n",
       "0  DCN-1000001  DSKU-P00069042   F                10   university   \n",
       "1  DCN-1000001  DSKU-P00248942   F                10   university   \n",
       "2  DCN-1000001  DSKU-P00087842   F                10   university   \n",
       "3  DCN-1000001  DSKU-P00085442   F                10   university   \n",
       "4  DCN-1000002  DSKU-P00285442   M                16         high   \n",
       "\n",
       "   years_in_residence  car_ownership  prod_cat_1  prod_cat_2  prod_cat_3  \\\n",
       "0                   2              0           3         0.0         0.0   \n",
       "1                   2              0           1         6.0        14.0   \n",
       "2                   2              0          12         0.0         0.0   \n",
       "3                   2              0          12        14.0         0.0   \n",
       "4                   4              0           8         0.0         0.0   \n",
       "\n",
       "   revenue_usd  age_num  \n",
       "0      9847.06     21.5  \n",
       "1     17882.35     21.5  \n",
       "2      1672.94     21.5  \n",
       "3      1243.53     21.5  \n",
       "4      9375.29     60.0  "
      ]
     },
     "execution_count": 38,
     "metadata": {},
     "output_type": "execute_result"
    }
   ],
   "source": [
    "combined_df.head()"
   ]
  },
  {
   "cell_type": "code",
   "execution_count": 39,
   "id": "9f2512dd",
   "metadata": {
    "ExecuteTime": {
     "end_time": "2024-01-27T06:22:23.177343Z",
     "start_time": "2024-01-27T06:22:23.103640Z"
    }
   },
   "outputs": [
    {
     "data": {
      "text/html": [
       "<div>\n",
       "<style scoped>\n",
       "    .dataframe tbody tr th:only-of-type {\n",
       "        vertical-align: middle;\n",
       "    }\n",
       "\n",
       "    .dataframe tbody tr th {\n",
       "        vertical-align: top;\n",
       "    }\n",
       "\n",
       "    .dataframe thead th {\n",
       "        text-align: right;\n",
       "    }\n",
       "</style>\n",
       "<table border=\"1\" class=\"dataframe\">\n",
       "  <thead>\n",
       "    <tr style=\"text-align: right;\">\n",
       "      <th></th>\n",
       "      <th></th>\n",
       "      <th>revenue_usd</th>\n",
       "    </tr>\n",
       "    <tr>\n",
       "      <th>edcution_cat</th>\n",
       "      <th>car_ownership</th>\n",
       "      <th></th>\n",
       "    </tr>\n",
       "  </thead>\n",
       "  <tbody>\n",
       "    <tr>\n",
       "      <th rowspan=\"2\" valign=\"top\">high</th>\n",
       "      <th>0</th>\n",
       "      <td>11565.160906</td>\n",
       "    </tr>\n",
       "    <tr>\n",
       "      <th>1</th>\n",
       "      <td>11603.264878</td>\n",
       "    </tr>\n",
       "    <tr>\n",
       "      <th rowspan=\"2\" valign=\"top\">under-high</th>\n",
       "      <th>0</th>\n",
       "      <td>10814.411239</td>\n",
       "    </tr>\n",
       "    <tr>\n",
       "      <th>1</th>\n",
       "      <td>10832.915455</td>\n",
       "    </tr>\n",
       "    <tr>\n",
       "      <th rowspan=\"2\" valign=\"top\">university</th>\n",
       "      <th>0</th>\n",
       "      <td>10613.220759</td>\n",
       "    </tr>\n",
       "    <tr>\n",
       "      <th>1</th>\n",
       "      <td>10418.491456</td>\n",
       "    </tr>\n",
       "  </tbody>\n",
       "</table>\n",
       "</div>"
      ],
      "text/plain": [
       "                             revenue_usd\n",
       "edcution_cat car_ownership              \n",
       "high         0              11565.160906\n",
       "             1              11603.264878\n",
       "under-high   0              10814.411239\n",
       "             1              10832.915455\n",
       "university   0              10613.220759\n",
       "             1              10418.491456"
      ]
     },
     "execution_count": 39,
     "metadata": {},
     "output_type": "execute_result"
    }
   ],
   "source": [
    "combined_df.groupby(['edcution_cat', 'car_ownership'])[['revenue_usd']].mean()"
   ]
  },
  {
   "cell_type": "code",
   "execution_count": 40,
   "id": "5ef55472",
   "metadata": {
    "ExecuteTime": {
     "end_time": "2024-01-27T06:22:23.371892Z",
     "start_time": "2024-01-27T06:22:23.177343Z"
    }
   },
   "outputs": [
    {
     "data": {
      "image/png": "[encoded data removed]",
      "text/plain": [
       "<Figure size 864x576 with 1 Axes>"
      ]
     },
     "metadata": {
      "needs_background": "light"
     },
     "output_type": "display_data"
    }
   ],
   "source": [
    "# Group by education_cat and car_ownership and calculate the mean revenue\n",
    "edu_car_revenue = combined_df.groupby(['edcution_cat', 'car_ownership'])[['revenue_usd']].mean().reset_index()\n",
    "\n",
    "plt.figure(figsize=(12, 8))\n",
    "\n",
    "sns.barplot(x='edcution_cat', y='revenue_usd', hue='car_ownership', data=edu_car_revenue)\n",
    "\n",
    "plt.xlabel('Education Category')\n",
    "plt.ylabel('Mean Revenue')\n",
    "plt.title('Mean Revenue by Education Category and Car Ownership')\n",
    "plt.legend(title='Car Ownership', loc='upper right')\n",
    "\n",
    "plt.show()"
   ]
  },
  {
   "cell_type": "markdown",
   "id": "8771687c",
   "metadata": {},
   "source": [
    "- Here it it observable that users in the high education category exhibit slightly higher average revenue."
   ]
  },
  {
   "cell_type": "markdown",
   "id": "1d555065",
   "metadata": {},
   "source": [
    "> Now that we have gained insights into the data, let's proceed to the application of machine learning techniques and models.</font>"
   ]
  },
  {
   "cell_type": "markdown",
   "id": "ea23e411",
   "metadata": {},
   "source": [
    "## Application of ML"
   ]
  },
  {
   "cell_type": "code",
   "execution_count": 41,
   "id": "13580172",
   "metadata": {
    "ExecuteTime": {
     "end_time": "2024-01-27T06:22:24.641335Z",
     "start_time": "2024-01-27T06:22:23.371892Z"
    }
   },
   "outputs": [],
   "source": [
    "from sklearn.model_selection import train_test_split\n",
    "from sklearn.ensemble import RandomForestRegressor\n",
    "from sklearn.metrics import mean_absolute_error, mean_squared_error, r2_score"
   ]
  },
  {
   "cell_type": "code",
   "execution_count": 42,
   "id": "e5823dc2",
   "metadata": {
    "ExecuteTime": {
     "end_time": "2024-01-27T06:22:24.673923Z",
     "start_time": "2024-01-27T06:22:24.641335Z"
    }
   },
   "outputs": [
    {
     "data": {
      "text/html": [
       "<div>\n",
       "<style scoped>\n",
       "    .dataframe tbody tr th:only-of-type {\n",
       "        vertical-align: middle;\n",
       "    }\n",
       "\n",
       "    .dataframe tbody tr th {\n",
       "        vertical-align: top;\n",
       "    }\n",
       "\n",
       "    .dataframe thead th {\n",
       "        text-align: right;\n",
       "    }\n",
       "</style>\n",
       "<table border=\"1\" class=\"dataframe\">\n",
       "  <thead>\n",
       "    <tr style=\"text-align: right;\">\n",
       "      <th></th>\n",
       "      <th>user_id</th>\n",
       "      <th>prod_id</th>\n",
       "      <th>sex</th>\n",
       "      <th>credit_status_cd</th>\n",
       "      <th>edcution_cat</th>\n",
       "      <th>years_in_residence</th>\n",
       "      <th>car_ownership</th>\n",
       "      <th>prod_cat_1</th>\n",
       "      <th>prod_cat_2</th>\n",
       "      <th>prod_cat_3</th>\n",
       "      <th>revenue_usd</th>\n",
       "      <th>age_num</th>\n",
       "    </tr>\n",
       "  </thead>\n",
       "  <tbody>\n",
       "    <tr>\n",
       "      <th>0</th>\n",
       "      <td>DCN-1000001</td>\n",
       "      <td>DSKU-P00069042</td>\n",
       "      <td>F</td>\n",
       "      <td>10</td>\n",
       "      <td>university</td>\n",
       "      <td>2</td>\n",
       "      <td>0</td>\n",
       "      <td>3</td>\n",
       "      <td>0.0</td>\n",
       "      <td>0.0</td>\n",
       "      <td>9847.06</td>\n",
       "      <td>21.5</td>\n",
       "    </tr>\n",
       "    <tr>\n",
       "      <th>1</th>\n",
       "      <td>DCN-1000001</td>\n",
       "      <td>DSKU-P00248942</td>\n",
       "      <td>F</td>\n",
       "      <td>10</td>\n",
       "      <td>university</td>\n",
       "      <td>2</td>\n",
       "      <td>0</td>\n",
       "      <td>1</td>\n",
       "      <td>6.0</td>\n",
       "      <td>14.0</td>\n",
       "      <td>17882.35</td>\n",
       "      <td>21.5</td>\n",
       "    </tr>\n",
       "    <tr>\n",
       "      <th>2</th>\n",
       "      <td>DCN-1000001</td>\n",
       "      <td>DSKU-P00087842</td>\n",
       "      <td>F</td>\n",
       "      <td>10</td>\n",
       "      <td>university</td>\n",
       "      <td>2</td>\n",
       "      <td>0</td>\n",
       "      <td>12</td>\n",
       "      <td>0.0</td>\n",
       "      <td>0.0</td>\n",
       "      <td>1672.94</td>\n",
       "      <td>21.5</td>\n",
       "    </tr>\n",
       "    <tr>\n",
       "      <th>3</th>\n",
       "      <td>DCN-1000001</td>\n",
       "      <td>DSKU-P00085442</td>\n",
       "      <td>F</td>\n",
       "      <td>10</td>\n",
       "      <td>university</td>\n",
       "      <td>2</td>\n",
       "      <td>0</td>\n",
       "      <td>12</td>\n",
       "      <td>14.0</td>\n",
       "      <td>0.0</td>\n",
       "      <td>1243.53</td>\n",
       "      <td>21.5</td>\n",
       "    </tr>\n",
       "    <tr>\n",
       "      <th>4</th>\n",
       "      <td>DCN-1000002</td>\n",
       "      <td>DSKU-P00285442</td>\n",
       "      <td>M</td>\n",
       "      <td>16</td>\n",
       "      <td>high</td>\n",
       "      <td>4</td>\n",
       "      <td>0</td>\n",
       "      <td>8</td>\n",
       "      <td>0.0</td>\n",
       "      <td>0.0</td>\n",
       "      <td>9375.29</td>\n",
       "      <td>60.0</td>\n",
       "    </tr>\n",
       "  </tbody>\n",
       "</table>\n",
       "</div>"
      ],
      "text/plain": [
       "       user_id         prod_id sex  credit_status_cd edcution_cat  \\\n",
       "0  DCN-1000001  DSKU-P00069042   F                10   university   \n",
       "1  DCN-1000001  DSKU-P00248942   F                10   university   \n",
       "2  DCN-1000001  DSKU-P00087842   F                10   university   \n",
       "3  DCN-1000001  DSKU-P00085442   F                10   university   \n",
       "4  DCN-1000002  DSKU-P00285442   M                16         high   \n",
       "\n",
       "   years_in_residence  car_ownership  prod_cat_1  prod_cat_2  prod_cat_3  \\\n",
       "0                   2              0           3         0.0         0.0   \n",
       "1                   2              0           1         6.0        14.0   \n",
       "2                   2              0          12         0.0         0.0   \n",
       "3                   2              0          12        14.0         0.0   \n",
       "4                   4              0           8         0.0         0.0   \n",
       "\n",
       "   revenue_usd  age_num  \n",
       "0      9847.06     21.5  \n",
       "1     17882.35     21.5  \n",
       "2      1672.94     21.5  \n",
       "3      1243.53     21.5  \n",
       "4      9375.29     60.0  "
      ]
     },
     "execution_count": 42,
     "metadata": {},
     "output_type": "execute_result"
    }
   ],
   "source": [
    "combined_df.head()"
   ]
  },
  {
   "cell_type": "markdown",
   "id": "f349dfb0",
   "metadata": {},
   "source": [
    "### Encode the data"
   ]
  },
  {
   "cell_type": "code",
   "execution_count": 43,
   "id": "a8546733",
   "metadata": {
    "ExecuteTime": {
     "end_time": "2024-01-27T06:22:24.686438Z",
     "start_time": "2024-01-27T06:22:24.674932Z"
    }
   },
   "outputs": [],
   "source": [
    "from sklearn.preprocessing import LabelEncoder \n",
    "\n",
    "# Creating a Encoder function to save the encoders\n",
    "def text_to_numbers(df): \n",
    "    le_dict = dict() \n",
    "    col = df.select_dtypes(include=['object']).columns \n",
    "    for i in col: \n",
    "        print(i)\n",
    "        le_dict[i] = LabelEncoder() \n",
    "        df[i] = le_dict[i].fit_transform(df[i]) \n",
    "    return df, le_dict \n",
    "    \n",
    "def numbers_to_text(df, le_dict): \n",
    "    for i in le_dict.keys(): \n",
    "        df[i] = le_dict[i].inverse_transform(df[i]) \n",
    "    return df"
   ]
  },
  {
   "cell_type": "code",
   "execution_count": 44,
   "id": "d3859b47",
   "metadata": {
    "ExecuteTime": {
     "end_time": "2024-01-27T06:22:25.214449Z",
     "start_time": "2024-01-27T06:22:24.686952Z"
    }
   },
   "outputs": [
    {
     "name": "stdout",
     "output_type": "stream",
     "text": [
      "user_id\n",
      "prod_id\n",
      "sex\n",
      "edcution_cat\n"
     ]
    }
   ],
   "source": [
    "encoded_df, le_dict = text_to_numbers(combined_df) "
   ]
  },
  {
   "cell_type": "code",
   "execution_count": 45,
   "id": "94b2f37f",
   "metadata": {
    "ExecuteTime": {
     "end_time": "2024-01-27T06:22:25.238730Z",
     "start_time": "2024-01-27T06:22:25.216567Z"
    }
   },
   "outputs": [
    {
     "data": {
      "text/plain": [
       "{'user_id': LabelEncoder(),\n",
       " 'prod_id': LabelEncoder(),\n",
       " 'sex': LabelEncoder(),\n",
       " 'edcution_cat': LabelEncoder()}"
      ]
     },
     "execution_count": 45,
     "metadata": {},
     "output_type": "execute_result"
    }
   ],
   "source": [
    "# Checking the encoder objects\n",
    "le_dict"
   ]
  },
  {
   "cell_type": "code",
   "execution_count": 46,
   "id": "3aae2ff2",
   "metadata": {
    "ExecuteTime": {
     "end_time": "2024-01-27T06:22:25.268165Z",
     "start_time": "2024-01-27T06:22:25.238730Z"
    },
    "scrolled": true
   },
   "outputs": [
    {
     "data": {
      "text/html": [
       "<div>\n",
       "<style scoped>\n",
       "    .dataframe tbody tr th:only-of-type {\n",
       "        vertical-align: middle;\n",
       "    }\n",
       "\n",
       "    .dataframe tbody tr th {\n",
       "        vertical-align: top;\n",
       "    }\n",
       "\n",
       "    .dataframe thead th {\n",
       "        text-align: right;\n",
       "    }\n",
       "</style>\n",
       "<table border=\"1\" class=\"dataframe\">\n",
       "  <thead>\n",
       "    <tr style=\"text-align: right;\">\n",
       "      <th></th>\n",
       "      <th>user_id</th>\n",
       "      <th>prod_id</th>\n",
       "      <th>sex</th>\n",
       "      <th>credit_status_cd</th>\n",
       "      <th>edcution_cat</th>\n",
       "      <th>years_in_residence</th>\n",
       "      <th>car_ownership</th>\n",
       "      <th>prod_cat_1</th>\n",
       "      <th>prod_cat_2</th>\n",
       "      <th>prod_cat_3</th>\n",
       "      <th>revenue_usd</th>\n",
       "      <th>age_num</th>\n",
       "    </tr>\n",
       "  </thead>\n",
       "  <tbody>\n",
       "    <tr>\n",
       "      <th>0</th>\n",
       "      <td>0</td>\n",
       "      <td>670</td>\n",
       "      <td>0</td>\n",
       "      <td>10</td>\n",
       "      <td>2</td>\n",
       "      <td>2</td>\n",
       "      <td>0</td>\n",
       "      <td>3</td>\n",
       "      <td>0.0</td>\n",
       "      <td>0.0</td>\n",
       "      <td>9847.06</td>\n",
       "      <td>21.5</td>\n",
       "    </tr>\n",
       "    <tr>\n",
       "      <th>1</th>\n",
       "      <td>0</td>\n",
       "      <td>2374</td>\n",
       "      <td>0</td>\n",
       "      <td>10</td>\n",
       "      <td>2</td>\n",
       "      <td>2</td>\n",
       "      <td>0</td>\n",
       "      <td>1</td>\n",
       "      <td>6.0</td>\n",
       "      <td>14.0</td>\n",
       "      <td>17882.35</td>\n",
       "      <td>21.5</td>\n",
       "    </tr>\n",
       "    <tr>\n",
       "      <th>2</th>\n",
       "      <td>0</td>\n",
       "      <td>850</td>\n",
       "      <td>0</td>\n",
       "      <td>10</td>\n",
       "      <td>2</td>\n",
       "      <td>2</td>\n",
       "      <td>0</td>\n",
       "      <td>12</td>\n",
       "      <td>0.0</td>\n",
       "      <td>0.0</td>\n",
       "      <td>1672.94</td>\n",
       "      <td>21.5</td>\n",
       "    </tr>\n",
       "    <tr>\n",
       "      <th>3</th>\n",
       "      <td>0</td>\n",
       "      <td>826</td>\n",
       "      <td>0</td>\n",
       "      <td>10</td>\n",
       "      <td>2</td>\n",
       "      <td>2</td>\n",
       "      <td>0</td>\n",
       "      <td>12</td>\n",
       "      <td>14.0</td>\n",
       "      <td>0.0</td>\n",
       "      <td>1243.53</td>\n",
       "      <td>21.5</td>\n",
       "    </tr>\n",
       "    <tr>\n",
       "      <th>4</th>\n",
       "      <td>1</td>\n",
       "      <td>2732</td>\n",
       "      <td>1</td>\n",
       "      <td>16</td>\n",
       "      <td>0</td>\n",
       "      <td>4</td>\n",
       "      <td>0</td>\n",
       "      <td>8</td>\n",
       "      <td>0.0</td>\n",
       "      <td>0.0</td>\n",
       "      <td>9375.29</td>\n",
       "      <td>60.0</td>\n",
       "    </tr>\n",
       "  </tbody>\n",
       "</table>\n",
       "</div>"
      ],
      "text/plain": [
       "   user_id  prod_id  sex  credit_status_cd  edcution_cat  years_in_residence  \\\n",
       "0        0      670    0                10             2                   2   \n",
       "1        0     2374    0                10             2                   2   \n",
       "2        0      850    0                10             2                   2   \n",
       "3        0      826    0                10             2                   2   \n",
       "4        1     2732    1                16             0                   4   \n",
       "\n",
       "   car_ownership  prod_cat_1  prod_cat_2  prod_cat_3  revenue_usd  age_num  \n",
       "0              0           3         0.0         0.0      9847.06     21.5  \n",
       "1              0           1         6.0        14.0     17882.35     21.5  \n",
       "2              0          12         0.0         0.0      1672.94     21.5  \n",
       "3              0          12        14.0         0.0      1243.53     21.5  \n",
       "4              0           8         0.0         0.0      9375.29     60.0  "
      ]
     },
     "execution_count": 46,
     "metadata": {},
     "output_type": "execute_result"
    }
   ],
   "source": [
    "encoded_df.head()"
   ]
  },
  {
   "cell_type": "code",
   "execution_count": 47,
   "id": "55a154a3",
   "metadata": {
    "ExecuteTime": {
     "end_time": "2024-01-27T06:22:25.396461Z",
     "start_time": "2024-01-27T06:22:25.270288Z"
    }
   },
   "outputs": [],
   "source": [
    "# Removing 'prod_cat_2' and 'prod_cat_3' as it had nulls and was imputed with 0.\n",
    "X = encoded_df.drop(columns=['user_id','prod_cat_2','prod_cat_3','revenue_usd'])  \n",
    "y = encoded_df['revenue_usd']  \n",
    "\n",
    "X_train, X_test, y_train, y_test = train_test_split(X, y, test_size=0.2, random_state=42)"
   ]
  },
  {
   "cell_type": "markdown",
   "id": "b6ec5199",
   "metadata": {},
   "source": [
    "- Utilizing tree-based models for prediction, with particular attention to the potential beneficial influence of categorical columns like sex, edcution_cat, car_ownership and prod_cat_1."
   ]
  },
  {
   "cell_type": "code",
   "execution_count": 48,
   "id": "b5896d6f",
   "metadata": {
    "ExecuteTime": {
     "end_time": "2024-01-27T06:23:26.865869Z",
     "start_time": "2024-01-27T06:22:25.398374Z"
    }
   },
   "outputs": [
    {
     "name": "stdout",
     "output_type": "stream",
     "text": [
      "Model Performance.\n",
      "------------------\n",
      "Decision Tree Regressor:\n",
      "R2 Score Train: 0.9665\n",
      "R2 Score Test: 0.4406\n",
      "RMSE Score: 4385.03\n",
      "\n",
      "Random Forest Regressor:\n",
      "R2 Score Train: 0.6567\n",
      "R2 Score Test: 0.6559\n",
      "RMSE Score: 3439.21\n",
      "\n",
      "XG Boost Regressor:\n",
      "R2 Score Train: 0.7165\n",
      "R2 Score Test: 0.7091\n",
      "RMSE Score: 3161.97\n"
     ]
    }
   ],
   "source": [
    "from sklearn.ensemble import RandomForestRegressor\n",
    "from sklearn.linear_model import LinearRegression\n",
    "from sklearn.tree import DecisionTreeRegressor\n",
    "import xgboost as xg\n",
    "\n",
    "from sklearn.metrics import r2_score\n",
    "from sklearn.metrics import mean_squared_error\n",
    "\n",
    "print('Model Performance.')\n",
    "print('------------------')\n",
    "DT_regressor = DecisionTreeRegressor(random_state = 0)\n",
    "DT_regressor.fit(X_train, y_train)\n",
    "y_pred_train = DT_regressor.predict(X_train)\n",
    "\n",
    "print('Decision Tree Regressor:')\n",
    "print('R2 Score Train:',round(r2_score(y_train, y_pred_train),4))\n",
    "y_pred = DT_regressor.predict(X_test)\n",
    "print('R2 Score Test:',round(r2_score(y_test, y_pred),4))\n",
    "print('RMSE Score:',round(mean_squared_error(y_test, y_pred, squared = False),2))\n",
    "\n",
    "rf_regressor = RandomForestRegressor(random_state = 0,max_depth=7)\n",
    "rf_regressor.fit(X_train, y_train)\n",
    "y_pred_train = rf_regressor.predict(X_train)\n",
    "\n",
    "print('\\nRandom Forest Regressor:')\n",
    "print('R2 Score Train:',round(r2_score(y_train, y_pred_train),4))\n",
    "y_pred = rf_regressor.predict(X_test)\n",
    "print('R2 Score Test:',round(r2_score(y_test, y_pred),4))\n",
    "print('RMSE Score:',round(mean_squared_error(y_test, y_pred, squared = False),2))\n",
    "\n",
    "xgb_r = xg.XGBRegressor(random_state = 0)\n",
    "xgb_r.fit(X_train, y_train)\n",
    "y_pred_train = xgb_r.predict(X_train)\n",
    "\n",
    "print('\\nXG Boost Regressor:')\n",
    "print('R2 Score Train:',round(r2_score(y_train, y_pred_train),4))\n",
    "y_pred = xgb_r.predict(X_test)\n",
    "print('R2 Score Test:',round(r2_score(y_test, y_pred),4))\n",
    "print('RMSE Score:',round(mean_squared_error(y_test, y_pred, squared = False),2))"
   ]
  },
  {
   "cell_type": "markdown",
   "id": "9b4d912e",
   "metadata": {},
   "source": [
    "- Decision tree is clearly overfiting.\n",
    "- The Random Forest Regressor demonstrates a strong training score, and there is potential for improvement in the test score through hyperparameter tuning.\n",
    "- The XGBoost Regressor appears to have achieved a well-balanced model with a train-test split."
   ]
  },
  {
   "cell_type": "code",
   "execution_count": 49,
   "id": "6632df33",
   "metadata": {
    "ExecuteTime": {
     "end_time": "2024-01-27T06:23:27.007217Z",
     "start_time": "2024-01-27T06:23:26.865869Z"
    }
   },
   "outputs": [
    {
     "name": "stdout",
     "output_type": "stream",
     "text": [
      "\t\tImportance Score:\n",
      "\n"
     ]
    },
    {
     "data": {
      "image/png": "[encoded data removed]",
      "text/plain": [
       "<Figure size 432x288 with 1 Axes>"
      ]
     },
     "metadata": {
      "needs_background": "light"
     },
     "output_type": "display_data"
    }
   ],
   "source": [
    "characteristics = X_train.columns\n",
    "\n",
    "print('\\t\\tImportance Score:\\n')\n",
    "importances = list(rf_regressor.feature_importances_)\n",
    "characteristics_importances = [(characteristic, round(importance, 2)) for characteristic, importance in zip(characteristics, importances)]\n",
    "characteristics_importances = sorted(characteristics_importances, key = lambda x: x[1], reverse = True)\n",
    "\n",
    "plt.bar(characteristics, importances, orientation = 'vertical')\n",
    "plt.xticks(rotation = 'vertical')\n",
    "plt.ylabel('Importance')\n",
    "plt.xlabel('Variable')\n",
    "plt.grid(axis = 'y', color = '#D3D3D3', linestyle = 'solid')\n",
    "plt.show()"
   ]
  },
  {
   "cell_type": "markdown",
   "id": "184e9888",
   "metadata": {},
   "source": [
    "- We can see here that the model is mainly depending on the Prod_cat_1 column to make the predictions."
   ]
  },
  {
   "cell_type": "markdown",
   "id": "43a3fbed",
   "metadata": {},
   "source": [
    "### Tree explanation"
   ]
  },
  {
   "cell_type": "code",
   "execution_count": 50,
   "id": "3e9c9d81",
   "metadata": {
    "ExecuteTime": {
     "end_time": "2024-01-27T06:23:27.023256Z",
     "start_time": "2024-01-27T06:23:27.007217Z"
    }
   },
   "outputs": [],
   "source": [
    "from sklearn.tree import export_text"
   ]
  },
  {
   "cell_type": "code",
   "execution_count": 51,
   "id": "0952dcdc",
   "metadata": {
    "ExecuteTime": {
     "end_time": "2024-01-27T06:23:27.039525Z",
     "start_time": "2024-01-27T06:23:27.023763Z"
    }
   },
   "outputs": [],
   "source": [
    "def print_random_forest_tree(rf_regressor, feature_names):\n",
    "    tree_rules = export_text(rf_regressor.estimators_[0], feature_names=feature_names, spacing=3)\n",
    "    print(tree_rules)\n"
   ]
  },
  {
   "cell_type": "code",
   "execution_count": 52,
   "id": "9a76bc00",
   "metadata": {
    "ExecuteTime": {
     "end_time": "2024-01-27T06:23:27.071956Z",
     "start_time": "2024-01-27T06:23:27.039525Z"
    }
   },
   "outputs": [
    {
     "name": "stdout",
     "output_type": "stream",
     "text": [
      "|--- prod_cat_1 <= 2.50\n",
      "|   |--- prod_cat_1 <= 1.50\n",
      "|   |   |--- prod_id <= 1125.00\n",
      "|   |   |   |--- prod_id <= 775.00\n",
      "|   |   |   |   |--- prod_id <= 727.00\n",
      "|   |   |   |   |   |--- edcution_cat <= 0.50\n",
      "|   |   |   |   |   |   |--- credit_status_cd <= 1.50\n",
      "|   |   |   |   |   |   |   |--- value: [15869.16]\n",
      "|   |   |   |   |   |   |--- credit_status_cd >  1.50\n",
      "|   |   |   |   |   |   |   |--- value: [16756.73]\n",
      "|   |   |   |   |   |--- edcution_cat >  0.50\n",
      "|   |   |   |   |   |   |--- prod_id <= 228.00\n",
      "|   |   |   |   |   |   |   |--- value: [14670.51]\n",
      "|   |   |   |   |   |   |--- prod_id >  228.00\n",
      "|   |   |   |   |   |   |   |--- value: [15610.61]\n",
      "|   |   |   |   |--- prod_id >  727.00\n",
      "|   |   |   |   |   |--- years_in_residence <= 0.50\n",
      "|   |   |   |   |   |   |--- prod_id <= 762.50\n",
      "|   |   |   |   |   |   |   |--- value: [11544.47]\n",
      "|   |   |   |   |   |   |--- prod_id >  762.50\n",
      "|   |   |   |   |   |   |   |--- value: [7886.44]\n",
      "|   |   |   |   |   |--- years_in_residence >  0.50\n",
      "|   |   |   |   |   |   |--- edcution_cat <= 0.50\n",
      "|   |   |   |   |   |   |   |--- value: [12763.77]\n",
      "|   |   |   |   |   |   |--- edcution_cat >  0.50\n",
      "|   |   |   |   |   |   |   |--- value: [11495.70]\n",
      "|   |   |   |--- prod_id >  775.00\n",
      "|   |   |   |   |--- prod_id <= 779.50\n",
      "|   |   |   |   |   |--- sex <= 0.50\n",
      "|   |   |   |   |   |   |--- age_num <= 35.50\n",
      "|   |   |   |   |   |   |   |--- value: [20806.25]\n",
      "|   |   |   |   |   |   |--- age_num >  35.50\n",
      "|   |   |   |   |   |   |   |--- value: [18992.81]\n",
      "|   |   |   |   |   |--- sex >  0.50\n",
      "|   |   |   |   |   |   |--- age_num <= 56.50\n",
      "|   |   |   |   |   |   |   |--- value: [21187.83]\n",
      "|   |   |   |   |   |   |--- age_num >  56.50\n",
      "|   |   |   |   |   |   |   |--- value: [19601.46]\n",
      "|   |   |   |   |--- prod_id >  779.50\n",
      "|   |   |   |   |   |--- prod_id <= 1007.50\n",
      "|   |   |   |   |   |   |--- prod_id <= 895.00\n",
      "|   |   |   |   |   |   |   |--- value: [17989.38]\n",
      "|   |   |   |   |   |   |--- prod_id >  895.00\n",
      "|   |   |   |   |   |   |   |--- value: [16195.53]\n",
      "|   |   |   |   |   |--- prod_id >  1007.50\n",
      "|   |   |   |   |   |   |--- prod_id <= 1017.00\n",
      "|   |   |   |   |   |   |   |--- value: [19948.79]\n",
      "|   |   |   |   |   |   |--- prod_id >  1017.00\n",
      "|   |   |   |   |   |   |   |--- value: [18699.62]\n",
      "|   |   |--- prod_id >  1125.00\n",
      "|   |   |   |--- edcution_cat <= 0.50\n",
      "|   |   |   |   |--- prod_id <= 2279.50\n",
      "|   |   |   |   |   |--- prod_id <= 2259.50\n",
      "|   |   |   |   |   |   |--- prod_id <= 2107.50\n",
      "|   |   |   |   |   |   |   |--- value: [16428.18]\n",
      "|   |   |   |   |   |   |--- prod_id >  2107.50\n",
      "|   |   |   |   |   |   |   |--- value: [14778.41]\n",
      "|   |   |   |   |   |--- prod_id >  2259.50\n",
      "|   |   |   |   |   |   |--- credit_status_cd <= 3.50\n",
      "|   |   |   |   |   |   |   |--- value: [18757.57]\n",
      "|   |   |   |   |   |   |--- credit_status_cd >  3.50\n",
      "|   |   |   |   |   |   |   |--- value: [20245.13]\n",
      "|   |   |   |   |--- prod_id >  2279.50\n",
      "|   |   |   |   |   |--- prod_id <= 2509.00\n",
      "|   |   |   |   |   |   |--- prod_id <= 2377.00\n",
      "|   |   |   |   |   |   |   |--- value: [15675.39]\n",
      "|   |   |   |   |   |   |--- prod_id >  2377.00\n",
      "|   |   |   |   |   |   |   |--- value: [13541.65]\n",
      "|   |   |   |   |   |--- prod_id >  2509.00\n",
      "|   |   |   |   |   |   |--- prod_id <= 3209.00\n",
      "|   |   |   |   |   |   |   |--- value: [16666.39]\n",
      "|   |   |   |   |   |   |--- prod_id >  3209.00\n",
      "|   |   |   |   |   |   |   |--- value: [15874.57]\n",
      "|   |   |   |--- edcution_cat >  0.50\n",
      "|   |   |   |   |--- prod_id <= 1650.50\n",
      "|   |   |   |   |   |--- prod_id <= 1194.50\n",
      "|   |   |   |   |   |   |--- prod_id <= 1193.50\n",
      "|   |   |   |   |   |   |   |--- value: [15088.69]\n",
      "|   |   |   |   |   |   |--- prod_id >  1193.50\n",
      "|   |   |   |   |   |   |   |--- value: [18274.14]\n",
      "|   |   |   |   |   |--- prod_id >  1194.50\n",
      "|   |   |   |   |   |   |--- prod_id <= 1197.00\n",
      "|   |   |   |   |   |   |   |--- value: [10265.15]\n",
      "|   |   |   |   |   |   |--- prod_id >  1197.00\n",
      "|   |   |   |   |   |   |   |--- value: [14332.42]\n",
      "|   |   |   |   |--- prod_id >  1650.50\n",
      "|   |   |   |   |   |--- prod_id <= 1749.00\n",
      "|   |   |   |   |   |   |--- prod_id <= 1740.50\n",
      "|   |   |   |   |   |   |   |--- value: [16815.30]\n",
      "|   |   |   |   |   |   |--- prod_id >  1740.50\n",
      "|   |   |   |   |   |   |   |--- value: [19629.49]\n",
      "|   |   |   |   |   |--- prod_id >  1749.00\n",
      "|   |   |   |   |   |   |--- prod_id <= 2530.50\n",
      "|   |   |   |   |   |   |   |--- value: [14729.12]\n",
      "|   |   |   |   |   |   |--- prod_id >  2530.50\n",
      "|   |   |   |   |   |   |   |--- value: [15559.64]\n",
      "|   |--- prod_cat_1 >  1.50\n",
      "|   |   |--- prod_id <= 1143.50\n",
      "|   |   |   |--- prod_id <= 820.00\n",
      "|   |   |   |   |--- prod_id <= 574.00\n",
      "|   |   |   |   |   |--- prod_id <= 560.50\n",
      "|   |   |   |   |   |   |--- prod_id <= 110.50\n",
      "|   |   |   |   |   |   |   |--- value: [12973.45]\n",
      "|   |   |   |   |   |   |--- prod_id >  110.50\n",
      "|   |   |   |   |   |   |   |--- value: [11425.55]\n",
      "|   |   |   |   |   |--- prod_id >  560.50\n",
      "|   |   |   |   |   |   |--- edcution_cat <= 1.50\n",
      "|   |   |   |   |   |   |   |--- value: [15336.72]\n",
      "|   |   |   |   |   |   |--- edcution_cat >  1.50\n",
      "|   |   |   |   |   |   |   |--- value: [13538.78]\n",
      "|   |   |   |   |--- prod_id >  574.00\n",
      "|   |   |   |   |   |--- prod_id <= 781.00\n",
      "|   |   |   |   |   |   |--- sex <= 0.50\n",
      "|   |   |   |   |   |   |   |--- value: [12568.22]\n",
      "|   |   |   |   |   |   |--- sex >  0.50\n",
      "|   |   |   |   |   |   |   |--- value: [10842.99]\n",
      "|   |   |   |   |   |--- prod_id >  781.00\n",
      "|   |   |   |   |   |   |--- edcution_cat <= 0.50\n",
      "|   |   |   |   |   |   |   |--- value: [17591.34]\n",
      "|   |   |   |   |   |   |--- edcution_cat >  0.50\n",
      "|   |   |   |   |   |   |   |--- value: [12991.97]\n",
      "|   |   |   |--- prod_id >  820.00\n",
      "|   |   |   |   |--- prod_id <= 972.50\n",
      "|   |   |   |   |   |--- prod_id <= 845.00\n",
      "|   |   |   |   |   |   |--- age_num <= 35.50\n",
      "|   |   |   |   |   |   |   |--- value: [15679.07]\n",
      "|   |   |   |   |   |   |--- age_num >  35.50\n",
      "|   |   |   |   |   |   |   |--- value: [17171.32]\n",
      "|   |   |   |   |   |--- prod_id >  845.00\n",
      "|   |   |   |   |   |   |--- prod_id <= 904.50\n",
      "|   |   |   |   |   |   |   |--- value: [13636.67]\n",
      "|   |   |   |   |   |   |--- prod_id >  904.50\n",
      "|   |   |   |   |   |   |   |--- value: [14561.64]\n",
      "|   |   |   |   |--- prod_id >  972.50\n",
      "|   |   |   |   |   |--- sex <= 0.50\n",
      "|   |   |   |   |   |   |--- edcution_cat <= 1.50\n",
      "|   |   |   |   |   |   |   |--- value: [15741.13]\n",
      "|   |   |   |   |   |   |--- edcution_cat >  1.50\n",
      "|   |   |   |   |   |   |   |--- value: [14515.46]\n",
      "|   |   |   |   |   |--- sex >  0.50\n",
      "|   |   |   |   |   |   |--- prod_id <= 1028.00\n",
      "|   |   |   |   |   |   |   |--- value: [17107.27]\n",
      "|   |   |   |   |   |   |--- prod_id >  1028.00\n",
      "|   |   |   |   |   |   |   |--- value: [16081.24]\n",
      "|   |   |--- prod_id >  1143.50\n",
      "|   |   |   |--- prod_id <= 2537.00\n",
      "|   |   |   |   |--- prod_id <= 1875.50\n",
      "|   |   |   |   |   |--- prod_id <= 1613.50\n",
      "|   |   |   |   |   |   |--- age_num <= 35.50\n",
      "|   |   |   |   |   |   |   |--- value: [10632.32]\n",
      "|   |   |   |   |   |   |--- age_num >  35.50\n",
      "|   |   |   |   |   |   |   |--- value: [11905.91]\n",
      "|   |   |   |   |   |--- prod_id >  1613.50\n",
      "|   |   |   |   |   |   |--- prod_id <= 1762.00\n",
      "|   |   |   |   |   |   |   |--- value: [13680.11]\n",
      "|   |   |   |   |   |   |--- prod_id >  1762.00\n",
      "|   |   |   |   |   |   |   |--- value: [12346.96]\n",
      "|   |   |   |   |--- prod_id >  1875.50\n",
      "|   |   |   |   |   |--- age_num <= 35.50\n",
      "|   |   |   |   |   |   |--- prod_id <= 2157.50\n",
      "|   |   |   |   |   |   |   |--- value: [9279.77]\n",
      "|   |   |   |   |   |   |--- prod_id >  2157.50\n",
      "|   |   |   |   |   |   |   |--- value: [10949.20]\n",
      "|   |   |   |   |   |--- age_num >  35.50\n",
      "|   |   |   |   |   |   |--- prod_id <= 2514.00\n",
      "|   |   |   |   |   |   |   |--- value: [11996.94]\n",
      "|   |   |   |   |   |   |--- prod_id >  2514.00\n",
      "|   |   |   |   |   |   |   |--- value: [9431.91]\n",
      "|   |   |   |--- prod_id >  2537.00\n",
      "|   |   |   |   |--- prod_id <= 2842.50\n",
      "|   |   |   |   |   |--- prod_id <= 2560.50\n",
      "|   |   |   |   |   |   |--- credit_status_cd <= 12.50\n",
      "|   |   |   |   |   |   |   |--- value: [14569.92]\n",
      "|   |   |   |   |   |   |--- credit_status_cd >  12.50\n",
      "|   |   |   |   |   |   |   |--- value: [15792.57]\n",
      "|   |   |   |   |   |--- prod_id >  2560.50\n",
      "|   |   |   |   |   |   |--- prod_id <= 2630.50\n",
      "|   |   |   |   |   |   |   |--- value: [10009.98]\n",
      "|   |   |   |   |   |   |--- prod_id >  2630.50\n",
      "|   |   |   |   |   |   |   |--- value: [14046.34]\n",
      "|   |   |   |   |--- prod_id >  2842.50\n",
      "|   |   |   |   |   |--- prod_id <= 3041.00\n",
      "|   |   |   |   |   |   |--- prod_id <= 2856.50\n",
      "|   |   |   |   |   |   |   |--- value: [7656.24]\n",
      "|   |   |   |   |   |   |--- prod_id >  2856.50\n",
      "|   |   |   |   |   |   |   |--- value: [10941.04]\n",
      "|   |   |   |   |   |--- prod_id >  3041.00\n",
      "|   |   |   |   |   |   |--- edcution_cat <= 0.50\n",
      "|   |   |   |   |   |   |   |--- value: [13793.52]\n",
      "|   |   |   |   |   |   |--- edcution_cat >  0.50\n",
      "|   |   |   |   |   |   |   |--- value: [12711.75]\n",
      "|--- prod_cat_1 >  2.50\n",
      "|   |--- prod_cat_1 <= 13.50\n",
      "|   |   |--- prod_cat_1 <= 10.50\n",
      "|   |   |   |--- prod_cat_1 <= 8.50\n",
      "|   |   |   |   |--- prod_cat_1 <= 5.50\n",
      "|   |   |   |   |   |--- prod_cat_1 <= 3.50\n",
      "|   |   |   |   |   |   |--- prod_id <= 1153.50\n",
      "|   |   |   |   |   |   |   |--- value: [12370.74]\n",
      "|   |   |   |   |   |   |--- prod_id >  1153.50\n",
      "|   |   |   |   |   |   |   |--- value: [11599.14]\n",
      "|   |   |   |   |   |--- prod_cat_1 >  3.50\n",
      "|   |   |   |   |   |   |--- prod_cat_1 <= 4.50\n",
      "|   |   |   |   |   |   |   |--- value: [2753.26]\n",
      "|   |   |   |   |   |   |--- prod_cat_1 >  4.50\n",
      "|   |   |   |   |   |   |   |--- value: [7344.97]\n",
      "|   |   |   |   |--- prod_cat_1 >  5.50\n",
      "|   |   |   |   |   |--- prod_cat_1 <= 7.50\n",
      "|   |   |   |   |   |   |--- prod_id <= 1090.50\n",
      "|   |   |   |   |   |   |   |--- value: [19600.11]\n",
      "|   |   |   |   |   |   |--- prod_id >  1090.50\n",
      "|   |   |   |   |   |   |   |--- value: [17945.73]\n",
      "|   |   |   |   |   |--- prod_cat_1 >  7.50\n",
      "|   |   |   |   |   |   |--- prod_id <= 1171.50\n",
      "|   |   |   |   |   |   |   |--- value: [9128.65]\n",
      "|   |   |   |   |   |   |--- prod_id >  1171.50\n",
      "|   |   |   |   |   |   |   |--- value: [8574.96]\n",
      "|   |   |   |--- prod_cat_1 >  8.50\n",
      "|   |   |   |   |--- prod_id <= 1126.50\n",
      "|   |   |   |   |   |--- prod_id <= 412.50\n",
      "|   |   |   |   |   |   |--- age_num <= 44.25\n",
      "|   |   |   |   |   |   |   |--- value: [17808.05]\n",
      "|   |   |   |   |   |   |--- age_num >  44.25\n",
      "|   |   |   |   |   |   |   |--- value: [27196.47]\n",
      "|   |   |   |   |   |--- prod_id >  412.50\n",
      "|   |   |   |   |   |   |--- prod_id <= 776.50\n",
      "|   |   |   |   |   |   |   |--- value: [23584.64]\n",
      "|   |   |   |   |   |   |--- prod_id >  776.50\n",
      "|   |   |   |   |   |   |   |--- value: [24267.02]\n",
      "|   |   |   |   |--- prod_id >  1126.50\n",
      "|   |   |   |   |   |--- prod_cat_1 <= 9.50\n",
      "|   |   |   |   |   |   |--- age_num <= 35.50\n",
      "|   |   |   |   |   |   |   |--- value: [18919.29]\n",
      "|   |   |   |   |   |   |--- age_num >  35.50\n",
      "|   |   |   |   |   |   |   |--- value: [16798.39]\n",
      "|   |   |   |   |   |--- prod_cat_1 >  9.50\n",
      "|   |   |   |   |   |   |--- prod_id <= 2161.50\n",
      "|   |   |   |   |   |   |   |--- value: [21813.28]\n",
      "|   |   |   |   |   |   |--- prod_id >  2161.50\n",
      "|   |   |   |   |   |   |   |--- value: [19906.61]\n",
      "|   |   |--- prod_cat_1 >  10.50\n",
      "|   |   |   |--- prod_cat_1 <= 11.50\n",
      "|   |   |   |   |--- prod_id <= 1302.50\n",
      "|   |   |   |   |   |--- prod_id <= 842.00\n",
      "|   |   |   |   |   |   |--- edcution_cat <= 0.50\n",
      "|   |   |   |   |   |   |   |--- value: [5313.94]\n",
      "|   |   |   |   |   |   |--- edcution_cat >  0.50\n",
      "|   |   |   |   |   |   |   |--- value: [4807.48]\n",
      "|   |   |   |   |   |--- prod_id >  842.00\n",
      "|   |   |   |   |   |   |--- prod_id <= 1131.50\n",
      "|   |   |   |   |   |   |   |--- value: [6878.58]\n",
      "|   |   |   |   |   |   |--- prod_id >  1131.50\n",
      "|   |   |   |   |   |   |   |--- value: [6064.12]\n",
      "|   |   |   |   |--- prod_id >  1302.50\n",
      "|   |   |   |   |   |--- prod_id <= 1696.50\n",
      "|   |   |   |   |   |   |--- prod_id <= 1690.50\n",
      "|   |   |   |   |   |   |   |--- value: [4578.74]\n",
      "|   |   |   |   |   |   |--- prod_id >  1690.50\n",
      "|   |   |   |   |   |   |   |--- value: [3758.10]\n",
      "|   |   |   |   |   |--- prod_id >  1696.50\n",
      "|   |   |   |   |   |   |--- prod_id <= 3185.50\n",
      "|   |   |   |   |   |   |   |--- value: [5498.16]\n",
      "|   |   |   |   |   |   |--- prod_id >  3185.50\n",
      "|   |   |   |   |   |   |   |--- value: [4897.11]\n",
      "|   |   |   |--- prod_cat_1 >  11.50\n",
      "|   |   |   |   |--- prod_cat_1 <= 12.50\n",
      "|   |   |   |   |   |--- sex <= 0.50\n",
      "|   |   |   |   |   |   |--- edcution_cat <= 0.50\n",
      "|   |   |   |   |   |   |   |--- value: [1763.95]\n",
      "|   |   |   |   |   |   |--- edcution_cat >  0.50\n",
      "|   |   |   |   |   |   |   |--- value: [1654.71]\n",
      "|   |   |   |   |   |--- sex >  0.50\n",
      "|   |   |   |   |   |   |--- age_num <= 35.50\n",
      "|   |   |   |   |   |   |   |--- value: [1456.24]\n",
      "|   |   |   |   |   |   |--- age_num >  35.50\n",
      "|   |   |   |   |   |   |   |--- value: [1605.69]\n",
      "|   |   |   |   |--- prod_cat_1 >  12.50\n",
      "|   |   |   |   |   |--- prod_id <= 746.50\n",
      "|   |   |   |   |   |   |--- prod_id <= 363.00\n",
      "|   |   |   |   |   |   |   |--- value: [720.59]\n",
      "|   |   |   |   |   |   |--- prod_id >  363.00\n",
      "|   |   |   |   |   |   |   |--- value: [586.24]\n",
      "|   |   |   |   |   |--- prod_id >  746.50\n",
      "|   |   |   |   |   |   |--- prod_id <= 1039.50\n",
      "|   |   |   |   |   |   |   |--- value: [936.10]\n",
      "|   |   |   |   |   |   |--- prod_id >  1039.50\n",
      "|   |   |   |   |   |   |   |--- value: [803.78]\n",
      "|   |--- prod_cat_1 >  13.50\n",
      "|   |   |--- prod_cat_1 <= 17.50\n",
      "|   |   |   |--- prod_cat_1 <= 16.50\n",
      "|   |   |   |   |--- prod_id <= 629.50\n",
      "|   |   |   |   |   |--- prod_id <= 482.50\n",
      "|   |   |   |   |   |   |--- prod_id <= 291.50\n",
      "|   |   |   |   |   |   |   |--- value: [14087.74]\n",
      "|   |   |   |   |   |   |--- prod_id >  291.50\n",
      "|   |   |   |   |   |   |   |--- value: [17366.56]\n",
      "|   |   |   |   |   |--- prod_id >  482.50\n",
      "|   |   |   |   |   |   |--- prod_id <= 525.00\n",
      "|   |   |   |   |   |   |   |--- value: [10353.19]\n",
      "|   |   |   |   |   |   |--- prod_id >  525.00\n",
      "|   |   |   |   |   |   |   |--- value: [15088.46]\n",
      "|   |   |   |   |--- prod_id >  629.50\n",
      "|   |   |   |   |   |--- prod_id <= 1134.50\n",
      "|   |   |   |   |   |   |--- prod_id <= 706.50\n",
      "|   |   |   |   |   |   |   |--- value: [21989.94]\n",
      "|   |   |   |   |   |   |--- prod_id >  706.50\n",
      "|   |   |   |   |   |   |   |--- value: [18758.83]\n",
      "|   |   |   |   |   |--- prod_id >  1134.50\n",
      "|   |   |   |   |   |   |--- prod_cat_1 <= 14.50\n",
      "|   |   |   |   |   |   |   |--- value: [14215.79]\n",
      "|   |   |   |   |   |   |--- prod_cat_1 >  14.50\n",
      "|   |   |   |   |   |   |   |--- value: [17184.95]\n",
      "|   |   |   |--- prod_cat_1 >  16.50\n",
      "|   |   |   |   |--- age_num <= 35.50\n",
      "|   |   |   |   |   |--- credit_status_cd <= 18.50\n",
      "|   |   |   |   |   |   |--- prod_id <= 3146.50\n",
      "|   |   |   |   |   |   |   |--- value: [11873.84]\n",
      "|   |   |   |   |   |   |--- prod_id >  3146.50\n",
      "|   |   |   |   |   |   |   |--- value: [6122.94]\n",
      "|   |   |   |   |   |--- credit_status_cd >  18.50\n",
      "|   |   |   |   |   |   |--- edcution_cat <= 0.50\n",
      "|   |   |   |   |   |   |   |--- value: [3077.65]\n",
      "|   |   |   |   |   |   |--- edcution_cat >  0.50\n",
      "|   |   |   |   |   |   |   |--- value: [9697.65]\n",
      "|   |   |   |   |--- age_num >  35.50\n",
      "|   |   |   |   |   |--- credit_status_cd <= 12.50\n",
      "|   |   |   |   |   |   |--- prod_id <= 3146.50\n",
      "|   |   |   |   |   |   |   |--- value: [12004.01]\n",
      "|   |   |   |   |   |   |--- prod_id >  3146.50\n",
      "|   |   |   |   |   |   |   |--- value: [6362.35]\n",
      "|   |   |   |   |   |--- credit_status_cd >  12.50\n",
      "|   |   |   |   |   |   |--- prod_id <= 2542.00\n",
      "|   |   |   |   |   |   |   |--- value: [13289.27]\n",
      "|   |   |   |   |   |   |--- prod_id >  2542.00\n",
      "|   |   |   |   |   |   |   |--- value: [11676.79]\n",
      "|   |   |--- prod_cat_1 >  17.50\n",
      "|   |   |   |--- prod_id <= 463.00\n",
      "|   |   |   |   |--- credit_status_cd <= 13.50\n",
      "|   |   |   |   |   |--- years_in_residence <= 0.50\n",
      "|   |   |   |   |   |   |--- credit_status_cd <= 6.00\n",
      "|   |   |   |   |   |   |   |--- value: [2666.08]\n",
      "|   |   |   |   |   |   |--- credit_status_cd >  6.00\n",
      "|   |   |   |   |   |   |   |--- value: [1317.64]\n",
      "|   |   |   |   |   |--- years_in_residence >  0.50\n",
      "|   |   |   |   |   |   |--- prod_id <= 381.50\n",
      "|   |   |   |   |   |   |   |--- value: [3118.68]\n",
      "|   |   |   |   |   |   |--- prod_id >  381.50\n",
      "|   |   |   |   |   |   |   |--- value: [2760.59]\n",
      "|   |   |   |   |--- credit_status_cd >  13.50\n",
      "|   |   |   |   |   |--- sex <= 0.50\n",
      "|   |   |   |   |   |   |--- value: [1029.41]\n",
      "|   |   |   |   |   |--- sex >  0.50\n",
      "|   |   |   |   |   |   |--- prod_id <= 381.50\n",
      "|   |   |   |   |   |   |   |--- value: [2870.04]\n",
      "|   |   |   |   |   |   |--- prod_id >  381.50\n",
      "|   |   |   |   |   |   |   |--- value: [1772.74]\n",
      "|   |   |   |--- prod_id >  463.00\n",
      "|   |   |   |   |--- prod_id <= 1371.00\n",
      "|   |   |   |   |   |--- prod_id <= 1090.50\n",
      "|   |   |   |   |   |   |--- sex <= 0.50\n",
      "|   |   |   |   |   |   |   |--- value: [3456.54]\n",
      "|   |   |   |   |   |   |--- sex >  0.50\n",
      "|   |   |   |   |   |   |   |--- value: [3683.15]\n",
      "|   |   |   |   |   |--- prod_id >  1090.50\n",
      "|   |   |   |   |   |   |--- age_num <= 50.50\n",
      "|   |   |   |   |   |   |   |--- value: [3815.46]\n",
      "|   |   |   |   |   |   |--- age_num >  50.50\n",
      "|   |   |   |   |   |   |   |--- value: [4157.14]\n",
      "|   |   |   |   |--- prod_id >  1371.00\n",
      "|   |   |   |   |   |--- prod_id <= 1871.00\n",
      "|   |   |   |   |   |   |--- credit_status_cd <= 2.00\n",
      "|   |   |   |   |   |   |   |--- value: [931.76]\n",
      "|   |   |   |   |   |   |--- credit_status_cd >  2.00\n",
      "|   |   |   |   |   |   |   |--- value: [2855.11]\n",
      "|   |   |   |   |   |--- prod_id >  1871.00\n",
      "|   |   |   |   |   |   |--- prod_id <= 3352.50\n",
      "|   |   |   |   |   |   |   |--- value: [3413.10]\n",
      "|   |   |   |   |   |   |--- prod_id >  3352.50\n",
      "|   |   |   |   |   |   |   |--- value: [3106.19]\n",
      "\n"
     ]
    }
   ],
   "source": [
    "print_random_forest_tree(rf_regressor, X_train.columns.tolist())"
   ]
  },
  {
   "cell_type": "markdown",
   "id": "4a67afd4",
   "metadata": {},
   "source": [
    "### Model tuning"
   ]
  },
  {
   "cell_type": "code",
   "execution_count": 53,
   "id": "47a5255a",
   "metadata": {
    "ExecuteTime": {
     "end_time": "2024-01-27T06:23:27.083966Z",
     "start_time": "2024-01-27T06:23:27.071956Z"
    }
   },
   "outputs": [],
   "source": [
    "from sklearn.model_selection import GridSearchCV\n",
    "import multiprocessing\n",
    "\n",
    "def model_tune(model, X_train, y_train, X_test, y_test, param_grid={'random_state':[0]}):    \n",
    "    n_jobs = multiprocessing.cpu_count() - 1  \n",
    "    grid_search = GridSearchCV(model(), param_grid=param_grid, cv=3,n_jobs=n_jobs)\n",
    "    grid_search.fit(X_train, y_train)\n",
    "\n",
    "    combination_= []\n",
    "    train_r2    = []\n",
    "    test_r2     = []\n",
    "    test_RMSE   = []\n",
    "    train_RMSE  = []\n",
    "    for i, params in enumerate(grid_search.cv_results_['params']):\n",
    "        model2 = model(**params)\n",
    "        model2.fit(X_train, y_train)\n",
    "        combination_.append(params)\n",
    "        train_r2.append(model2.score(X_train, y_train)*100)\n",
    "        test_r2.append(model2.score(X_test, y_test)*100)\n",
    "        test_RMSE.append(mean_squared_error(y_test, model2.predict(X_test), squared = False))\n",
    "        train_RMSE.append(mean_squared_error(y_train, model2.predict(X_train), squared = False))\n",
    "    \n",
    "    results_df = pd.DataFrame({'Combinations':combination_,'Train R2':train_r2,'Test R2':test_r2,'Train RMSE':train_RMSE,'Test RMSE':test_RMSE})\n",
    "    param = results_df.sort_values('Test R2',ascending=False).head(1)['Combinations'].values[0]\n",
    "    \n",
    "    \n",
    "    tuned_model =model(**param)\n",
    "    tuned_model.fit(X_train, y_train)\n",
    "    \n",
    "    y_pred_train = tuned_model.predict(X_train)\n",
    "    y_pred = tuned_model.predict(X_test)\n",
    "\n",
    "    print('R2 Score Train:',round(r2_score(y_train, y_pred_train),4))\n",
    "    print('R2 Score Test:',round(r2_score(y_test, y_pred),4))\n",
    "    print('RMSE Score:',round(mean_squared_error(y_test, y_pred, squared = False),2))\n",
    "\n",
    "    return results_df, tuned_model"
   ]
  },
  {
   "cell_type": "code",
   "execution_count": 54,
   "id": "e80b0151",
   "metadata": {
    "ExecuteTime": {
     "end_time": "2024-01-27T06:27:22.864101Z",
     "start_time": "2024-01-27T06:23:27.083966Z"
    }
   },
   "outputs": [
    {
     "name": "stdout",
     "output_type": "stream",
     "text": [
      "R2 Score Train: 0.7301\n",
      "R2 Score Test: 0.7162\n",
      "RMSE Score: 3123.38\n"
     ]
    }
   ],
   "source": [
    "param_grid ={'max_depth': [None,5,7], 'random_state':[0], 'n_estimators': [25,50,100]\n",
    "             , 'learning_rate':[0.1,0.3]}\n",
    "results_df, tuned_Xgbmodel = model_tune(xg.XGBRegressor,X_train,y_train,X_test, y_test,param_grid)\n"
   ]
  },
  {
   "cell_type": "code",
   "execution_count": 55,
   "id": "d8e8c5ca",
   "metadata": {
    "ExecuteTime": {
     "end_time": "2024-01-27T06:27:22.896150Z",
     "start_time": "2024-01-27T06:27:22.864101Z"
    }
   },
   "outputs": [
    {
     "data": {
      "text/html": [
       "<div>\n",
       "<style scoped>\n",
       "    .dataframe tbody tr th:only-of-type {\n",
       "        vertical-align: middle;\n",
       "    }\n",
       "\n",
       "    .dataframe tbody tr th {\n",
       "        vertical-align: top;\n",
       "    }\n",
       "\n",
       "    .dataframe thead th {\n",
       "        text-align: right;\n",
       "    }\n",
       "</style>\n",
       "<table border=\"1\" class=\"dataframe\">\n",
       "  <thead>\n",
       "    <tr style=\"text-align: right;\">\n",
       "      <th></th>\n",
       "      <th>Combinations</th>\n",
       "      <th>Train R2</th>\n",
       "      <th>Test R2</th>\n",
       "      <th>Train RMSE</th>\n",
       "      <th>Test RMSE</th>\n",
       "    </tr>\n",
       "  </thead>\n",
       "  <tbody>\n",
       "    <tr>\n",
       "      <th>17</th>\n",
       "      <td>{'learning_rate': 0.3, 'max_depth': 7, 'n_estimators': 100, 'random_state': 0}</td>\n",
       "      <td>73.009611</td>\n",
       "      <td>71.617635</td>\n",
       "      <td>3044.056132</td>\n",
       "      <td>3123.384718</td>\n",
       "    </tr>\n",
       "    <tr>\n",
       "      <th>11</th>\n",
       "      <td>{'learning_rate': 0.3, 'max_depth': None, 'n_estimators': 100, 'random_state': 0}</td>\n",
       "      <td>71.645837</td>\n",
       "      <td>70.911965</td>\n",
       "      <td>3120.013671</td>\n",
       "      <td>3161.974665</td>\n",
       "    </tr>\n",
       "    <tr>\n",
       "      <th>16</th>\n",
       "      <td>{'learning_rate': 0.3, 'max_depth': 7, 'n_estimators': 50, 'random_state': 0}</td>\n",
       "      <td>71.297947</td>\n",
       "      <td>70.550878</td>\n",
       "      <td>3139.095733</td>\n",
       "      <td>3181.539824</td>\n",
       "    </tr>\n",
       "    <tr>\n",
       "      <th>14</th>\n",
       "      <td>{'learning_rate': 0.3, 'max_depth': 5, 'n_estimators': 100, 'random_state': 0}</td>\n",
       "      <td>70.388553</td>\n",
       "      <td>70.083871</td>\n",
       "      <td>3188.437419</td>\n",
       "      <td>3206.667181</td>\n",
       "    </tr>\n",
       "    <tr>\n",
       "      <th>8</th>\n",
       "      <td>{'learning_rate': 0.1, 'max_depth': 7, 'n_estimators': 100, 'random_state': 0}</td>\n",
       "      <td>70.336262</td>\n",
       "      <td>69.843966</td>\n",
       "      <td>3191.251441</td>\n",
       "      <td>3219.499039</td>\n",
       "    </tr>\n",
       "    <tr>\n",
       "      <th>10</th>\n",
       "      <td>{'learning_rate': 0.3, 'max_depth': None, 'n_estimators': 50, 'random_state': 0}</td>\n",
       "      <td>70.156401</td>\n",
       "      <td>69.787290</td>\n",
       "      <td>3200.911601</td>\n",
       "      <td>3222.523031</td>\n",
       "    </tr>\n",
       "    <tr>\n",
       "      <th>15</th>\n",
       "      <td>{'learning_rate': 0.3, 'max_depth': 7, 'n_estimators': 25, 'random_state': 0}</td>\n",
       "      <td>69.663347</td>\n",
       "      <td>69.284179</td>\n",
       "      <td>3227.244819</td>\n",
       "      <td>3249.243445</td>\n",
       "    </tr>\n",
       "    <tr>\n",
       "      <th>2</th>\n",
       "      <td>{'learning_rate': 0.1, 'max_depth': None, 'n_estimators': 100, 'random_state': 0}</td>\n",
       "      <td>69.126730</td>\n",
       "      <td>68.918900</td>\n",
       "      <td>3255.662654</td>\n",
       "      <td>3268.506723</td>\n",
       "    </tr>\n",
       "    <tr>\n",
       "      <th>13</th>\n",
       "      <td>{'learning_rate': 0.3, 'max_depth': 5, 'n_estimators': 50, 'random_state': 0}</td>\n",
       "      <td>68.841135</td>\n",
       "      <td>68.721222</td>\n",
       "      <td>3270.686347</td>\n",
       "      <td>3278.884225</td>\n",
       "    </tr>\n",
       "    <tr>\n",
       "      <th>7</th>\n",
       "      <td>{'learning_rate': 0.1, 'max_depth': 7, 'n_estimators': 50, 'random_state': 0}</td>\n",
       "      <td>68.784776</td>\n",
       "      <td>68.512520</td>\n",
       "      <td>3273.642935</td>\n",
       "      <td>3289.804879</td>\n",
       "    </tr>\n",
       "    <tr>\n",
       "      <th>9</th>\n",
       "      <td>{'learning_rate': 0.3, 'max_depth': None, 'n_estimators': 25, 'random_state': 0}</td>\n",
       "      <td>68.680270</td>\n",
       "      <td>68.477337</td>\n",
       "      <td>3279.118301</td>\n",
       "      <td>3291.642313</td>\n",
       "    </tr>\n",
       "    <tr>\n",
       "      <th>5</th>\n",
       "      <td>{'learning_rate': 0.1, 'max_depth': 5, 'n_estimators': 100, 'random_state': 0}</td>\n",
       "      <td>67.955263</td>\n",
       "      <td>67.858099</td>\n",
       "      <td>3316.854661</td>\n",
       "      <td>3323.815951</td>\n",
       "    </tr>\n",
       "    <tr>\n",
       "      <th>1</th>\n",
       "      <td>{'learning_rate': 0.1, 'max_depth': None, 'n_estimators': 50, 'random_state': 0}</td>\n",
       "      <td>67.545987</td>\n",
       "      <td>67.427584</td>\n",
       "      <td>3337.968881</td>\n",
       "      <td>3346.001859</td>\n",
       "    </tr>\n",
       "    <tr>\n",
       "      <th>12</th>\n",
       "      <td>{'learning_rate': 0.3, 'max_depth': 5, 'n_estimators': 25, 'random_state': 0}</td>\n",
       "      <td>67.308302</td>\n",
       "      <td>67.227951</td>\n",
       "      <td>3350.169844</td>\n",
       "      <td>3356.239818</td>\n",
       "    </tr>\n",
       "    <tr>\n",
       "      <th>4</th>\n",
       "      <td>{'learning_rate': 0.1, 'max_depth': 5, 'n_estimators': 50, 'random_state': 0}</td>\n",
       "      <td>66.399290</td>\n",
       "      <td>66.340172</td>\n",
       "      <td>3396.427187</td>\n",
       "      <td>3401.395547</td>\n",
       "    </tr>\n",
       "    <tr>\n",
       "      <th>6</th>\n",
       "      <td>{'learning_rate': 0.1, 'max_depth': 7, 'n_estimators': 25, 'random_state': 0}</td>\n",
       "      <td>64.832257</td>\n",
       "      <td>64.653019</td>\n",
       "      <td>3474.724148</td>\n",
       "      <td>3485.598456</td>\n",
       "    </tr>\n",
       "    <tr>\n",
       "      <th>0</th>\n",
       "      <td>{'learning_rate': 0.1, 'max_depth': None, 'n_estimators': 25, 'random_state': 0}</td>\n",
       "      <td>63.901601</td>\n",
       "      <td>63.813652</td>\n",
       "      <td>3520.400338</td>\n",
       "      <td>3526.740997</td>\n",
       "    </tr>\n",
       "    <tr>\n",
       "      <th>3</th>\n",
       "      <td>{'learning_rate': 0.1, 'max_depth': 5, 'n_estimators': 25, 'random_state': 0}</td>\n",
       "      <td>62.364244</td>\n",
       "      <td>62.267771</td>\n",
       "      <td>3594.582083</td>\n",
       "      <td>3601.284414</td>\n",
       "    </tr>\n",
       "  </tbody>\n",
       "</table>\n",
       "</div>"
      ],
      "text/plain": [
       "                                                                         Combinations  \\\n",
       "17     {'learning_rate': 0.3, 'max_depth': 7, 'n_estimators': 100, 'random_state': 0}   \n",
       "11  {'learning_rate': 0.3, 'max_depth': None, 'n_estimators': 100, 'random_state': 0}   \n",
       "16      {'learning_rate': 0.3, 'max_depth': 7, 'n_estimators': 50, 'random_state': 0}   \n",
       "14     {'learning_rate': 0.3, 'max_depth': 5, 'n_estimators': 100, 'random_state': 0}   \n",
       "8      {'learning_rate': 0.1, 'max_depth': 7, 'n_estimators': 100, 'random_state': 0}   \n",
       "10   {'learning_rate': 0.3, 'max_depth': None, 'n_estimators': 50, 'random_state': 0}   \n",
       "15      {'learning_rate': 0.3, 'max_depth': 7, 'n_estimators': 25, 'random_state': 0}   \n",
       "2   {'learning_rate': 0.1, 'max_depth': None, 'n_estimators': 100, 'random_state': 0}   \n",
       "13      {'learning_rate': 0.3, 'max_depth': 5, 'n_estimators': 50, 'random_state': 0}   \n",
       "7       {'learning_rate': 0.1, 'max_depth': 7, 'n_estimators': 50, 'random_state': 0}   \n",
       "9    {'learning_rate': 0.3, 'max_depth': None, 'n_estimators': 25, 'random_state': 0}   \n",
       "5      {'learning_rate': 0.1, 'max_depth': 5, 'n_estimators': 100, 'random_state': 0}   \n",
       "1    {'learning_rate': 0.1, 'max_depth': None, 'n_estimators': 50, 'random_state': 0}   \n",
       "12      {'learning_rate': 0.3, 'max_depth': 5, 'n_estimators': 25, 'random_state': 0}   \n",
       "4       {'learning_rate': 0.1, 'max_depth': 5, 'n_estimators': 50, 'random_state': 0}   \n",
       "6       {'learning_rate': 0.1, 'max_depth': 7, 'n_estimators': 25, 'random_state': 0}   \n",
       "0    {'learning_rate': 0.1, 'max_depth': None, 'n_estimators': 25, 'random_state': 0}   \n",
       "3       {'learning_rate': 0.1, 'max_depth': 5, 'n_estimators': 25, 'random_state': 0}   \n",
       "\n",
       "     Train R2    Test R2   Train RMSE    Test RMSE  \n",
       "17  73.009611  71.617635  3044.056132  3123.384718  \n",
       "11  71.645837  70.911965  3120.013671  3161.974665  \n",
       "16  71.297947  70.550878  3139.095733  3181.539824  \n",
       "14  70.388553  70.083871  3188.437419  3206.667181  \n",
       "8   70.336262  69.843966  3191.251441  3219.499039  \n",
       "10  70.156401  69.787290  3200.911601  3222.523031  \n",
       "15  69.663347  69.284179  3227.244819  3249.243445  \n",
       "2   69.126730  68.918900  3255.662654  3268.506723  \n",
       "13  68.841135  68.721222  3270.686347  3278.884225  \n",
       "7   68.784776  68.512520  3273.642935  3289.804879  \n",
       "9   68.680270  68.477337  3279.118301  3291.642313  \n",
       "5   67.955263  67.858099  3316.854661  3323.815951  \n",
       "1   67.545987  67.427584  3337.968881  3346.001859  \n",
       "12  67.308302  67.227951  3350.169844  3356.239818  \n",
       "4   66.399290  66.340172  3396.427187  3401.395547  \n",
       "6   64.832257  64.653019  3474.724148  3485.598456  \n",
       "0   63.901601  63.813652  3520.400338  3526.740997  \n",
       "3   62.364244  62.267771  3594.582083  3601.284414  "
      ]
     },
     "execution_count": 55,
     "metadata": {},
     "output_type": "execute_result"
    }
   ],
   "source": [
    "results_df.sort_values(\"Test RMSE\")"
   ]
  },
  {
   "cell_type": "code",
   "execution_count": 56,
   "id": "35dcfeaa",
   "metadata": {
    "ExecuteTime": {
     "end_time": "2024-01-27T06:51:30.601097Z",
     "start_time": "2024-01-27T06:27:22.896150Z"
    }
   },
   "outputs": [
    {
     "name": "stdout",
     "output_type": "stream",
     "text": [
      "R2 Score Train: 0.6752\n",
      "R2 Score Test: 0.6729\n",
      "RMSE Score: 3352.84\n"
     ]
    }
   ],
   "source": [
    "param_grid ={'max_depth': [None,7,9],'random_state':[0],'n_estimators': [25,50, 100],\n",
    "             'min_samples_split':[2,3]}\n",
    "\n",
    "results_df, tuned_Rfmodel = model_tune(RandomForestRegressor,X_train,y_train,X_test, y_test, param_grid)"
   ]
  },
  {
   "cell_type": "code",
   "execution_count": 57,
   "id": "8cffd975",
   "metadata": {
    "ExecuteTime": {
     "end_time": "2024-01-27T06:51:30.644958Z",
     "start_time": "2024-01-27T06:51:30.603448Z"
    }
   },
   "outputs": [
    {
     "data": {
      "text/html": [
       "<div>\n",
       "<style scoped>\n",
       "    .dataframe tbody tr th:only-of-type {\n",
       "        vertical-align: middle;\n",
       "    }\n",
       "\n",
       "    .dataframe tbody tr th {\n",
       "        vertical-align: top;\n",
       "    }\n",
       "\n",
       "    .dataframe thead th {\n",
       "        text-align: right;\n",
       "    }\n",
       "</style>\n",
       "<table border=\"1\" class=\"dataframe\">\n",
       "  <thead>\n",
       "    <tr style=\"text-align: right;\">\n",
       "      <th></th>\n",
       "      <th>Combinations</th>\n",
       "      <th>Train R2</th>\n",
       "      <th>Test R2</th>\n",
       "      <th>Train RMSE</th>\n",
       "      <th>Test RMSE</th>\n",
       "    </tr>\n",
       "  </thead>\n",
       "  <tbody>\n",
       "    <tr>\n",
       "      <th>14</th>\n",
       "      <td>{'max_depth': 9, 'min_samples_split': 2, 'n_estimators': 100, 'random_state': 0}</td>\n",
       "      <td>67.515033</td>\n",
       "      <td>67.294369</td>\n",
       "      <td>3339.560380</td>\n",
       "      <td>3352.837104</td>\n",
       "    </tr>\n",
       "    <tr>\n",
       "      <th>17</th>\n",
       "      <td>{'max_depth': 9, 'min_samples_split': 3, 'n_estimators': 100, 'random_state': 0}</td>\n",
       "      <td>67.514632</td>\n",
       "      <td>67.294223</td>\n",
       "      <td>3339.580997</td>\n",
       "      <td>3352.844625</td>\n",
       "    </tr>\n",
       "    <tr>\n",
       "      <th>13</th>\n",
       "      <td>{'max_depth': 9, 'min_samples_split': 2, 'n_estimators': 50, 'random_state': 0}</td>\n",
       "      <td>67.509596</td>\n",
       "      <td>67.285173</td>\n",
       "      <td>3339.839814</td>\n",
       "      <td>3353.308449</td>\n",
       "    </tr>\n",
       "    <tr>\n",
       "      <th>16</th>\n",
       "      <td>{'max_depth': 9, 'min_samples_split': 3, 'n_estimators': 50, 'random_state': 0}</td>\n",
       "      <td>67.509172</td>\n",
       "      <td>67.284837</td>\n",
       "      <td>3339.861634</td>\n",
       "      <td>3353.325699</td>\n",
       "    </tr>\n",
       "    <tr>\n",
       "      <th>12</th>\n",
       "      <td>{'max_depth': 9, 'min_samples_split': 2, 'n_estimators': 25, 'random_state': 0}</td>\n",
       "      <td>67.507844</td>\n",
       "      <td>67.271284</td>\n",
       "      <td>3339.929856</td>\n",
       "      <td>3354.020203</td>\n",
       "    </tr>\n",
       "    <tr>\n",
       "      <th>15</th>\n",
       "      <td>{'max_depth': 9, 'min_samples_split': 3, 'n_estimators': 25, 'random_state': 0}</td>\n",
       "      <td>67.507463</td>\n",
       "      <td>67.270656</td>\n",
       "      <td>3339.949469</td>\n",
       "      <td>3354.052358</td>\n",
       "    </tr>\n",
       "    <tr>\n",
       "      <th>5</th>\n",
       "      <td>{'max_depth': None, 'min_samples_split': 3, 'n_estimators': 100, 'random_state': 0}</td>\n",
       "      <td>91.624344</td>\n",
       "      <td>66.913282</td>\n",
       "      <td>1695.733125</td>\n",
       "      <td>3372.314252</td>\n",
       "    </tr>\n",
       "    <tr>\n",
       "      <th>4</th>\n",
       "      <td>{'max_depth': None, 'min_samples_split': 3, 'n_estimators': 50, 'random_state': 0}</td>\n",
       "      <td>91.465593</td>\n",
       "      <td>66.720031</td>\n",
       "      <td>1711.728001</td>\n",
       "      <td>3382.148320</td>\n",
       "    </tr>\n",
       "    <tr>\n",
       "      <th>2</th>\n",
       "      <td>{'max_depth': None, 'min_samples_split': 2, 'n_estimators': 100, 'random_state': 0}</td>\n",
       "      <td>92.998636</td>\n",
       "      <td>66.279592</td>\n",
       "      <td>1550.384436</td>\n",
       "      <td>3404.455025</td>\n",
       "    </tr>\n",
       "    <tr>\n",
       "      <th>3</th>\n",
       "      <td>{'max_depth': None, 'min_samples_split': 3, 'n_estimators': 25, 'random_state': 0}</td>\n",
       "      <td>91.168107</td>\n",
       "      <td>66.257824</td>\n",
       "      <td>1741.305588</td>\n",
       "      <td>3405.553702</td>\n",
       "    </tr>\n",
       "    <tr>\n",
       "      <th>1</th>\n",
       "      <td>{'max_depth': None, 'min_samples_split': 2, 'n_estimators': 50, 'random_state': 0}</td>\n",
       "      <td>92.833943</td>\n",
       "      <td>66.060942</td>\n",
       "      <td>1568.513279</td>\n",
       "      <td>3415.474794</td>\n",
       "    </tr>\n",
       "    <tr>\n",
       "      <th>11</th>\n",
       "      <td>{'max_depth': 7, 'min_samples_split': 3, 'n_estimators': 100, 'random_state': 0}</td>\n",
       "      <td>65.672238</td>\n",
       "      <td>65.587586</td>\n",
       "      <td>3432.976465</td>\n",
       "      <td>3439.210523</td>\n",
       "    </tr>\n",
       "    <tr>\n",
       "      <th>8</th>\n",
       "      <td>{'max_depth': 7, 'min_samples_split': 2, 'n_estimators': 100, 'random_state': 0}</td>\n",
       "      <td>65.672257</td>\n",
       "      <td>65.587567</td>\n",
       "      <td>3432.975556</td>\n",
       "      <td>3439.211461</td>\n",
       "    </tr>\n",
       "    <tr>\n",
       "      <th>9</th>\n",
       "      <td>{'max_depth': 7, 'min_samples_split': 3, 'n_estimators': 25, 'random_state': 0}</td>\n",
       "      <td>65.668182</td>\n",
       "      <td>65.585779</td>\n",
       "      <td>3433.179278</td>\n",
       "      <td>3439.300805</td>\n",
       "    </tr>\n",
       "    <tr>\n",
       "      <th>6</th>\n",
       "      <td>{'max_depth': 7, 'min_samples_split': 2, 'n_estimators': 25, 'random_state': 0}</td>\n",
       "      <td>65.668182</td>\n",
       "      <td>65.585779</td>\n",
       "      <td>3433.179287</td>\n",
       "      <td>3439.300812</td>\n",
       "    </tr>\n",
       "    <tr>\n",
       "      <th>10</th>\n",
       "      <td>{'max_depth': 7, 'min_samples_split': 3, 'n_estimators': 50, 'random_state': 0}</td>\n",
       "      <td>65.664056</td>\n",
       "      <td>65.581358</td>\n",
       "      <td>3433.385593</td>\n",
       "      <td>3439.521738</td>\n",
       "    </tr>\n",
       "    <tr>\n",
       "      <th>7</th>\n",
       "      <td>{'max_depth': 7, 'min_samples_split': 2, 'n_estimators': 50, 'random_state': 0}</td>\n",
       "      <td>65.664064</td>\n",
       "      <td>65.581324</td>\n",
       "      <td>3433.385172</td>\n",
       "      <td>3439.523429</td>\n",
       "    </tr>\n",
       "    <tr>\n",
       "      <th>0</th>\n",
       "      <td>{'max_depth': None, 'min_samples_split': 2, 'n_estimators': 25, 'random_state': 0}</td>\n",
       "      <td>92.525022</td>\n",
       "      <td>65.562525</td>\n",
       "      <td>1601.965107</td>\n",
       "      <td>3440.462616</td>\n",
       "    </tr>\n",
       "  </tbody>\n",
       "</table>\n",
       "</div>"
      ],
      "text/plain": [
       "                                                                           Combinations  \\\n",
       "14     {'max_depth': 9, 'min_samples_split': 2, 'n_estimators': 100, 'random_state': 0}   \n",
       "17     {'max_depth': 9, 'min_samples_split': 3, 'n_estimators': 100, 'random_state': 0}   \n",
       "13      {'max_depth': 9, 'min_samples_split': 2, 'n_estimators': 50, 'random_state': 0}   \n",
       "16      {'max_depth': 9, 'min_samples_split': 3, 'n_estimators': 50, 'random_state': 0}   \n",
       "12      {'max_depth': 9, 'min_samples_split': 2, 'n_estimators': 25, 'random_state': 0}   \n",
       "15      {'max_depth': 9, 'min_samples_split': 3, 'n_estimators': 25, 'random_state': 0}   \n",
       "5   {'max_depth': None, 'min_samples_split': 3, 'n_estimators': 100, 'random_state': 0}   \n",
       "4    {'max_depth': None, 'min_samples_split': 3, 'n_estimators': 50, 'random_state': 0}   \n",
       "2   {'max_depth': None, 'min_samples_split': 2, 'n_estimators': 100, 'random_state': 0}   \n",
       "3    {'max_depth': None, 'min_samples_split': 3, 'n_estimators': 25, 'random_state': 0}   \n",
       "1    {'max_depth': None, 'min_samples_split': 2, 'n_estimators': 50, 'random_state': 0}   \n",
       "11     {'max_depth': 7, 'min_samples_split': 3, 'n_estimators': 100, 'random_state': 0}   \n",
       "8      {'max_depth': 7, 'min_samples_split': 2, 'n_estimators': 100, 'random_state': 0}   \n",
       "9       {'max_depth': 7, 'min_samples_split': 3, 'n_estimators': 25, 'random_state': 0}   \n",
       "6       {'max_depth': 7, 'min_samples_split': 2, 'n_estimators': 25, 'random_state': 0}   \n",
       "10      {'max_depth': 7, 'min_samples_split': 3, 'n_estimators': 50, 'random_state': 0}   \n",
       "7       {'max_depth': 7, 'min_samples_split': 2, 'n_estimators': 50, 'random_state': 0}   \n",
       "0    {'max_depth': None, 'min_samples_split': 2, 'n_estimators': 25, 'random_state': 0}   \n",
       "\n",
       "     Train R2    Test R2   Train RMSE    Test RMSE  \n",
       "14  67.515033  67.294369  3339.560380  3352.837104  \n",
       "17  67.514632  67.294223  3339.580997  3352.844625  \n",
       "13  67.509596  67.285173  3339.839814  3353.308449  \n",
       "16  67.509172  67.284837  3339.861634  3353.325699  \n",
       "12  67.507844  67.271284  3339.929856  3354.020203  \n",
       "15  67.507463  67.270656  3339.949469  3354.052358  \n",
       "5   91.624344  66.913282  1695.733125  3372.314252  \n",
       "4   91.465593  66.720031  1711.728001  3382.148320  \n",
       "2   92.998636  66.279592  1550.384436  3404.455025  \n",
       "3   91.168107  66.257824  1741.305588  3405.553702  \n",
       "1   92.833943  66.060942  1568.513279  3415.474794  \n",
       "11  65.672238  65.587586  3432.976465  3439.210523  \n",
       "8   65.672257  65.587567  3432.975556  3439.211461  \n",
       "9   65.668182  65.585779  3433.179278  3439.300805  \n",
       "6   65.668182  65.585779  3433.179287  3439.300812  \n",
       "10  65.664056  65.581358  3433.385593  3439.521738  \n",
       "7   65.664064  65.581324  3433.385172  3439.523429  \n",
       "0   92.525022  65.562525  1601.965107  3440.462616  "
      ]
     },
     "execution_count": 57,
     "metadata": {},
     "output_type": "execute_result"
    }
   ],
   "source": [
    "results_df.sort_values(\"Test RMSE\")"
   ]
  },
  {
   "cell_type": "markdown",
   "id": "e74ea4a2",
   "metadata": {},
   "source": [
    "> The XgBoost has a decent train-test score and can be used to predict for future records."
   ]
  },
  {
   "cell_type": "markdown",
   "id": "8ff13a2b",
   "metadata": {},
   "source": [
    "### Segmentation"
   ]
  },
  {
   "cell_type": "code",
   "execution_count": 58,
   "id": "c40c3aab",
   "metadata": {
    "ExecuteTime": {
     "end_time": "2024-01-27T06:51:30.675183Z",
     "start_time": "2024-01-27T06:51:30.646123Z"
    }
   },
   "outputs": [
    {
     "data": {
      "text/html": [
       "<div>\n",
       "<style scoped>\n",
       "    .dataframe tbody tr th:only-of-type {\n",
       "        vertical-align: middle;\n",
       "    }\n",
       "\n",
       "    .dataframe tbody tr th {\n",
       "        vertical-align: top;\n",
       "    }\n",
       "\n",
       "    .dataframe thead th {\n",
       "        text-align: right;\n",
       "    }\n",
       "</style>\n",
       "<table border=\"1\" class=\"dataframe\">\n",
       "  <thead>\n",
       "    <tr style=\"text-align: right;\">\n",
       "      <th></th>\n",
       "      <th>user_id</th>\n",
       "      <th>prod_id</th>\n",
       "      <th>sex</th>\n",
       "      <th>credit_status_cd</th>\n",
       "      <th>edcution_cat</th>\n",
       "      <th>years_in_residence</th>\n",
       "      <th>car_ownership</th>\n",
       "      <th>prod_cat_1</th>\n",
       "      <th>prod_cat_2</th>\n",
       "      <th>prod_cat_3</th>\n",
       "      <th>revenue_usd</th>\n",
       "      <th>age_num</th>\n",
       "    </tr>\n",
       "  </thead>\n",
       "  <tbody>\n",
       "    <tr>\n",
       "      <th>0</th>\n",
       "      <td>0</td>\n",
       "      <td>670</td>\n",
       "      <td>0</td>\n",
       "      <td>10</td>\n",
       "      <td>2</td>\n",
       "      <td>2</td>\n",
       "      <td>0</td>\n",
       "      <td>3</td>\n",
       "      <td>0.0</td>\n",
       "      <td>0.0</td>\n",
       "      <td>9847.06</td>\n",
       "      <td>21.5</td>\n",
       "    </tr>\n",
       "    <tr>\n",
       "      <th>1</th>\n",
       "      <td>0</td>\n",
       "      <td>2374</td>\n",
       "      <td>0</td>\n",
       "      <td>10</td>\n",
       "      <td>2</td>\n",
       "      <td>2</td>\n",
       "      <td>0</td>\n",
       "      <td>1</td>\n",
       "      <td>6.0</td>\n",
       "      <td>14.0</td>\n",
       "      <td>17882.35</td>\n",
       "      <td>21.5</td>\n",
       "    </tr>\n",
       "    <tr>\n",
       "      <th>2</th>\n",
       "      <td>0</td>\n",
       "      <td>850</td>\n",
       "      <td>0</td>\n",
       "      <td>10</td>\n",
       "      <td>2</td>\n",
       "      <td>2</td>\n",
       "      <td>0</td>\n",
       "      <td>12</td>\n",
       "      <td>0.0</td>\n",
       "      <td>0.0</td>\n",
       "      <td>1672.94</td>\n",
       "      <td>21.5</td>\n",
       "    </tr>\n",
       "    <tr>\n",
       "      <th>3</th>\n",
       "      <td>0</td>\n",
       "      <td>826</td>\n",
       "      <td>0</td>\n",
       "      <td>10</td>\n",
       "      <td>2</td>\n",
       "      <td>2</td>\n",
       "      <td>0</td>\n",
       "      <td>12</td>\n",
       "      <td>14.0</td>\n",
       "      <td>0.0</td>\n",
       "      <td>1243.53</td>\n",
       "      <td>21.5</td>\n",
       "    </tr>\n",
       "    <tr>\n",
       "      <th>4</th>\n",
       "      <td>1</td>\n",
       "      <td>2732</td>\n",
       "      <td>1</td>\n",
       "      <td>16</td>\n",
       "      <td>0</td>\n",
       "      <td>4</td>\n",
       "      <td>0</td>\n",
       "      <td>8</td>\n",
       "      <td>0.0</td>\n",
       "      <td>0.0</td>\n",
       "      <td>9375.29</td>\n",
       "      <td>60.0</td>\n",
       "    </tr>\n",
       "  </tbody>\n",
       "</table>\n",
       "</div>"
      ],
      "text/plain": [
       "   user_id  prod_id  sex  credit_status_cd  edcution_cat  years_in_residence  \\\n",
       "0        0      670    0                10             2                   2   \n",
       "1        0     2374    0                10             2                   2   \n",
       "2        0      850    0                10             2                   2   \n",
       "3        0      826    0                10             2                   2   \n",
       "4        1     2732    1                16             0                   4   \n",
       "\n",
       "   car_ownership  prod_cat_1  prod_cat_2  prod_cat_3  revenue_usd  age_num  \n",
       "0              0           3         0.0         0.0      9847.06     21.5  \n",
       "1              0           1         6.0        14.0     17882.35     21.5  \n",
       "2              0          12         0.0         0.0      1672.94     21.5  \n",
       "3              0          12        14.0         0.0      1243.53     21.5  \n",
       "4              0           8         0.0         0.0      9375.29     60.0  "
      ]
     },
     "execution_count": 58,
     "metadata": {},
     "output_type": "execute_result"
    }
   ],
   "source": [
    "combined_df.head(5)"
   ]
  },
  {
   "cell_type": "code",
   "execution_count": 59,
   "id": "e4b131a7",
   "metadata": {
    "ExecuteTime": {
     "end_time": "2024-01-27T06:52:02.381799Z",
     "start_time": "2024-01-27T06:51:30.675183Z"
    }
   },
   "outputs": [
    {
     "data": {
      "image/png": "[encoded data removed]",
      "text/plain": [
       "<Figure size 648x504 with 1 Axes>"
      ]
     },
     "metadata": {
      "needs_background": "light"
     },
     "output_type": "display_data"
    },
    {
     "name": "stderr",
     "output_type": "stream",
     "text": [
      "C:\\Users\\varun\\AppData\\Local\\Temp/ipykernel_28460/2401734997.py:29: SettingWithCopyWarning: \n",
      "A value is trying to be set on a copy of a slice from a DataFrame.\n",
      "Try using .loc[row_indexer,col_indexer] = value instead\n",
      "\n",
      "See the caveats in the documentation: https://pandas.pydata.org/pandas-docs/stable/user_guide/indexing.html#returning-a-view-versus-a-copy\n",
      "  data['cluster'] = kmeans.labels_\n"
     ]
    }
   ],
   "source": [
    "from sklearn.cluster import KMeans\n",
    "from sklearn.preprocessing import StandardScaler\n",
    "\n",
    "features = ['credit_status_cd', 'edcution_cat', 'age_num', 'revenue_usd']\n",
    "data = combined_df[features]\n",
    "\n",
    "# Standardize the data\n",
    "scaler = StandardScaler()\n",
    "data_scaled = scaler.fit_transform(data)\n",
    "\n",
    "inertia = []\n",
    "for k in range(1, 8):\n",
    "    kmeans = KMeans(n_clusters=k, random_state=42)\n",
    "    kmeans.fit(data_scaled)\n",
    "    inertia.append(kmeans.inertia_)\n",
    "\n",
    "# Plot the inertia to help choose the optimal number of clusters\n",
    "plt.figure(figsize=(9, 7))\n",
    "plt.plot(range(1, 8), inertia, marker='o', linestyle='--')\n",
    "plt.xlabel('Number of Clusters')\n",
    "plt.ylabel('Inertia')\n",
    "plt.title('Elbow Method for Optimal K')\n",
    "plt.show()\n",
    "\n",
    "kmeans = KMeans(n_clusters=4, random_state=42)\n",
    "kmeans.fit(data_scaled)\n",
    "\n",
    "# Assign cluster back to the data\n",
    "data['cluster'] = kmeans.labels_\n"
   ]
  },
  {
   "cell_type": "code",
   "execution_count": 60,
   "id": "69a930dc",
   "metadata": {
    "ExecuteTime": {
     "end_time": "2024-01-27T06:52:02.411233Z",
     "start_time": "2024-01-27T06:52:02.381799Z"
    }
   },
   "outputs": [
    {
     "data": {
      "text/plain": [
       "3    192222\n",
       "1    130047\n",
       "2    109297\n",
       "0    106011\n",
       "Name: cluster, dtype: int64"
      ]
     },
     "execution_count": 60,
     "metadata": {},
     "output_type": "execute_result"
    }
   ],
   "source": [
    "data['cluster'].value_counts()"
   ]
  },
  {
   "cell_type": "markdown",
   "id": "bb1e1d50",
   "metadata": {},
   "source": [
    "## Recomendation"
   ]
  },
  {
   "cell_type": "markdown",
   "id": "a9e88af3",
   "metadata": {},
   "source": [
    "Recomendation models can be used to, \n",
    "- Improve cross-selling and upselling\n",
    "- Target promotions to specific customers\n",
    "- Increase customer engagement, conversion rates"
   ]
  },
  {
   "cell_type": "code",
   "execution_count": 61,
   "id": "a44f061a",
   "metadata": {
    "ExecuteTime": {
     "end_time": "2024-01-27T06:52:02.452708Z",
     "start_time": "2024-01-27T06:52:02.411233Z"
    }
   },
   "outputs": [],
   "source": [
    "# Taking the df1 dataset to avoide memory issue\n",
    "combined_df_rec = df1[['user_id','prod_id']]"
   ]
  },
  {
   "cell_type": "code",
   "execution_count": 62,
   "id": "d96d0ec0",
   "metadata": {
    "ExecuteTime": {
     "end_time": "2024-01-27T06:52:18.797193Z",
     "start_time": "2024-01-27T06:52:02.453226Z"
    }
   },
   "outputs": [],
   "source": [
    "from mlxtend.frequent_patterns import apriori, association_rules\n",
    "\n",
    "# Convert the dataset into a transactional format\n",
    "basket = pd.get_dummies(combined_df_rec, columns=['prod_id'], prefix='', prefix_sep='')\n",
    "basket = basket.groupby('user_id').sum()\n",
    "\n",
    "#basket[basket > 0] = 1"
   ]
  },
  {
   "cell_type": "code",
   "execution_count": 63,
   "id": "6aa008b2",
   "metadata": {
    "ExecuteTime": {
     "end_time": "2024-01-27T06:52:18.883025Z",
     "start_time": "2024-01-27T06:52:18.809929Z"
    }
   },
   "outputs": [
    {
     "data": {
      "text/html": [
       "<div>\n",
       "<style scoped>\n",
       "    .dataframe tbody tr th:only-of-type {\n",
       "        vertical-align: middle;\n",
       "    }\n",
       "\n",
       "    .dataframe tbody tr th {\n",
       "        vertical-align: top;\n",
       "    }\n",
       "\n",
       "    .dataframe thead th {\n",
       "        text-align: right;\n",
       "    }\n",
       "</style>\n",
       "<table border=\"1\" class=\"dataframe\">\n",
       "  <thead>\n",
       "    <tr style=\"text-align: right;\">\n",
       "      <th></th>\n",
       "      <th>DSKU-P00000142</th>\n",
       "      <th>DSKU-P00000242</th>\n",
       "      <th>DSKU-P00000342</th>\n",
       "      <th>DSKU-P00000442</th>\n",
       "      <th>DSKU-P00000542</th>\n",
       "      <th>DSKU-P00000642</th>\n",
       "      <th>DSKU-P00000742</th>\n",
       "      <th>DSKU-P00000842</th>\n",
       "      <th>DSKU-P00000942</th>\n",
       "      <th>DSKU-P00001042</th>\n",
       "      <th>...</th>\n",
       "      <th>DSKU-P0098942</th>\n",
       "      <th>DSKU-P0099042</th>\n",
       "      <th>DSKU-P0099142</th>\n",
       "      <th>DSKU-P0099242</th>\n",
       "      <th>DSKU-P0099342</th>\n",
       "      <th>DSKU-P0099442</th>\n",
       "      <th>DSKU-P0099642</th>\n",
       "      <th>DSKU-P0099742</th>\n",
       "      <th>DSKU-P0099842</th>\n",
       "      <th>DSKU-P0099942</th>\n",
       "    </tr>\n",
       "    <tr>\n",
       "      <th>user_id</th>\n",
       "      <th></th>\n",
       "      <th></th>\n",
       "      <th></th>\n",
       "      <th></th>\n",
       "      <th></th>\n",
       "      <th></th>\n",
       "      <th></th>\n",
       "      <th></th>\n",
       "      <th></th>\n",
       "      <th></th>\n",
       "      <th></th>\n",
       "      <th></th>\n",
       "      <th></th>\n",
       "      <th></th>\n",
       "      <th></th>\n",
       "      <th></th>\n",
       "      <th></th>\n",
       "      <th></th>\n",
       "      <th></th>\n",
       "      <th></th>\n",
       "      <th></th>\n",
       "    </tr>\n",
       "  </thead>\n",
       "  <tbody>\n",
       "    <tr>\n",
       "      <th>DCN-1000001</th>\n",
       "      <td>1</td>\n",
       "      <td>0</td>\n",
       "      <td>0</td>\n",
       "      <td>0</td>\n",
       "      <td>0</td>\n",
       "      <td>0</td>\n",
       "      <td>0</td>\n",
       "      <td>0</td>\n",
       "      <td>0</td>\n",
       "      <td>0</td>\n",
       "      <td>...</td>\n",
       "      <td>0</td>\n",
       "      <td>0</td>\n",
       "      <td>0</td>\n",
       "      <td>0</td>\n",
       "      <td>0</td>\n",
       "      <td>0</td>\n",
       "      <td>0</td>\n",
       "      <td>0</td>\n",
       "      <td>0</td>\n",
       "      <td>0</td>\n",
       "    </tr>\n",
       "    <tr>\n",
       "      <th>DCN-1000002</th>\n",
       "      <td>0</td>\n",
       "      <td>0</td>\n",
       "      <td>0</td>\n",
       "      <td>0</td>\n",
       "      <td>0</td>\n",
       "      <td>0</td>\n",
       "      <td>0</td>\n",
       "      <td>0</td>\n",
       "      <td>0</td>\n",
       "      <td>0</td>\n",
       "      <td>...</td>\n",
       "      <td>0</td>\n",
       "      <td>0</td>\n",
       "      <td>0</td>\n",
       "      <td>0</td>\n",
       "      <td>0</td>\n",
       "      <td>0</td>\n",
       "      <td>0</td>\n",
       "      <td>0</td>\n",
       "      <td>0</td>\n",
       "      <td>0</td>\n",
       "    </tr>\n",
       "    <tr>\n",
       "      <th>DCN-1000003</th>\n",
       "      <td>0</td>\n",
       "      <td>0</td>\n",
       "      <td>0</td>\n",
       "      <td>0</td>\n",
       "      <td>0</td>\n",
       "      <td>0</td>\n",
       "      <td>0</td>\n",
       "      <td>0</td>\n",
       "      <td>0</td>\n",
       "      <td>0</td>\n",
       "      <td>...</td>\n",
       "      <td>0</td>\n",
       "      <td>0</td>\n",
       "      <td>0</td>\n",
       "      <td>0</td>\n",
       "      <td>0</td>\n",
       "      <td>0</td>\n",
       "      <td>0</td>\n",
       "      <td>0</td>\n",
       "      <td>0</td>\n",
       "      <td>0</td>\n",
       "    </tr>\n",
       "    <tr>\n",
       "      <th>DCN-1000004</th>\n",
       "      <td>0</td>\n",
       "      <td>0</td>\n",
       "      <td>0</td>\n",
       "      <td>0</td>\n",
       "      <td>0</td>\n",
       "      <td>0</td>\n",
       "      <td>0</td>\n",
       "      <td>0</td>\n",
       "      <td>0</td>\n",
       "      <td>0</td>\n",
       "      <td>...</td>\n",
       "      <td>0</td>\n",
       "      <td>0</td>\n",
       "      <td>0</td>\n",
       "      <td>0</td>\n",
       "      <td>0</td>\n",
       "      <td>0</td>\n",
       "      <td>0</td>\n",
       "      <td>0</td>\n",
       "      <td>0</td>\n",
       "      <td>0</td>\n",
       "    </tr>\n",
       "    <tr>\n",
       "      <th>DCN-1000005</th>\n",
       "      <td>0</td>\n",
       "      <td>0</td>\n",
       "      <td>0</td>\n",
       "      <td>0</td>\n",
       "      <td>0</td>\n",
       "      <td>0</td>\n",
       "      <td>0</td>\n",
       "      <td>0</td>\n",
       "      <td>0</td>\n",
       "      <td>0</td>\n",
       "      <td>...</td>\n",
       "      <td>0</td>\n",
       "      <td>0</td>\n",
       "      <td>0</td>\n",
       "      <td>0</td>\n",
       "      <td>0</td>\n",
       "      <td>0</td>\n",
       "      <td>0</td>\n",
       "      <td>0</td>\n",
       "      <td>0</td>\n",
       "      <td>0</td>\n",
       "    </tr>\n",
       "    <tr>\n",
       "      <th>...</th>\n",
       "      <td>...</td>\n",
       "      <td>...</td>\n",
       "      <td>...</td>\n",
       "      <td>...</td>\n",
       "      <td>...</td>\n",
       "      <td>...</td>\n",
       "      <td>...</td>\n",
       "      <td>...</td>\n",
       "      <td>...</td>\n",
       "      <td>...</td>\n",
       "      <td>...</td>\n",
       "      <td>...</td>\n",
       "      <td>...</td>\n",
       "      <td>...</td>\n",
       "      <td>...</td>\n",
       "      <td>...</td>\n",
       "      <td>...</td>\n",
       "      <td>...</td>\n",
       "      <td>...</td>\n",
       "      <td>...</td>\n",
       "      <td>...</td>\n",
       "    </tr>\n",
       "    <tr>\n",
       "      <th>DCN-1006036</th>\n",
       "      <td>0</td>\n",
       "      <td>0</td>\n",
       "      <td>0</td>\n",
       "      <td>1</td>\n",
       "      <td>0</td>\n",
       "      <td>0</td>\n",
       "      <td>0</td>\n",
       "      <td>0</td>\n",
       "      <td>0</td>\n",
       "      <td>0</td>\n",
       "      <td>...</td>\n",
       "      <td>0</td>\n",
       "      <td>0</td>\n",
       "      <td>0</td>\n",
       "      <td>0</td>\n",
       "      <td>0</td>\n",
       "      <td>0</td>\n",
       "      <td>0</td>\n",
       "      <td>0</td>\n",
       "      <td>0</td>\n",
       "      <td>0</td>\n",
       "    </tr>\n",
       "    <tr>\n",
       "      <th>DCN-1006037</th>\n",
       "      <td>0</td>\n",
       "      <td>0</td>\n",
       "      <td>0</td>\n",
       "      <td>0</td>\n",
       "      <td>0</td>\n",
       "      <td>0</td>\n",
       "      <td>0</td>\n",
       "      <td>0</td>\n",
       "      <td>0</td>\n",
       "      <td>0</td>\n",
       "      <td>...</td>\n",
       "      <td>0</td>\n",
       "      <td>0</td>\n",
       "      <td>0</td>\n",
       "      <td>0</td>\n",
       "      <td>0</td>\n",
       "      <td>0</td>\n",
       "      <td>0</td>\n",
       "      <td>0</td>\n",
       "      <td>0</td>\n",
       "      <td>0</td>\n",
       "    </tr>\n",
       "    <tr>\n",
       "      <th>DCN-1006038</th>\n",
       "      <td>0</td>\n",
       "      <td>0</td>\n",
       "      <td>0</td>\n",
       "      <td>0</td>\n",
       "      <td>0</td>\n",
       "      <td>0</td>\n",
       "      <td>0</td>\n",
       "      <td>0</td>\n",
       "      <td>0</td>\n",
       "      <td>0</td>\n",
       "      <td>...</td>\n",
       "      <td>0</td>\n",
       "      <td>0</td>\n",
       "      <td>0</td>\n",
       "      <td>0</td>\n",
       "      <td>0</td>\n",
       "      <td>0</td>\n",
       "      <td>0</td>\n",
       "      <td>0</td>\n",
       "      <td>0</td>\n",
       "      <td>0</td>\n",
       "    </tr>\n",
       "    <tr>\n",
       "      <th>DCN-1006039</th>\n",
       "      <td>0</td>\n",
       "      <td>0</td>\n",
       "      <td>0</td>\n",
       "      <td>0</td>\n",
       "      <td>0</td>\n",
       "      <td>0</td>\n",
       "      <td>0</td>\n",
       "      <td>0</td>\n",
       "      <td>0</td>\n",
       "      <td>0</td>\n",
       "      <td>...</td>\n",
       "      <td>0</td>\n",
       "      <td>0</td>\n",
       "      <td>0</td>\n",
       "      <td>0</td>\n",
       "      <td>0</td>\n",
       "      <td>0</td>\n",
       "      <td>0</td>\n",
       "      <td>0</td>\n",
       "      <td>0</td>\n",
       "      <td>0</td>\n",
       "    </tr>\n",
       "    <tr>\n",
       "      <th>DCN-1006040</th>\n",
       "      <td>1</td>\n",
       "      <td>0</td>\n",
       "      <td>0</td>\n",
       "      <td>0</td>\n",
       "      <td>0</td>\n",
       "      <td>0</td>\n",
       "      <td>0</td>\n",
       "      <td>0</td>\n",
       "      <td>0</td>\n",
       "      <td>0</td>\n",
       "      <td>...</td>\n",
       "      <td>0</td>\n",
       "      <td>0</td>\n",
       "      <td>0</td>\n",
       "      <td>0</td>\n",
       "      <td>0</td>\n",
       "      <td>0</td>\n",
       "      <td>0</td>\n",
       "      <td>0</td>\n",
       "      <td>0</td>\n",
       "      <td>0</td>\n",
       "    </tr>\n",
       "  </tbody>\n",
       "</table>\n",
       "<p>5888 rows × 3467 columns</p>\n",
       "</div>"
      ],
      "text/plain": [
       "             DSKU-P00000142  DSKU-P00000242  DSKU-P00000342  DSKU-P00000442  \\\n",
       "user_id                                                                       \n",
       "DCN-1000001               1               0               0               0   \n",
       "DCN-1000002               0               0               0               0   \n",
       "DCN-1000003               0               0               0               0   \n",
       "DCN-1000004               0               0               0               0   \n",
       "DCN-1000005               0               0               0               0   \n",
       "...                     ...             ...             ...             ...   \n",
       "DCN-1006036               0               0               0               1   \n",
       "DCN-1006037               0               0               0               0   \n",
       "DCN-1006038               0               0               0               0   \n",
       "DCN-1006039               0               0               0               0   \n",
       "DCN-1006040               1               0               0               0   \n",
       "\n",
       "             DSKU-P00000542  DSKU-P00000642  DSKU-P00000742  DSKU-P00000842  \\\n",
       "user_id                                                                       \n",
       "DCN-1000001               0               0               0               0   \n",
       "DCN-1000002               0               0               0               0   \n",
       "DCN-1000003               0               0               0               0   \n",
       "DCN-1000004               0               0               0               0   \n",
       "DCN-1000005               0               0               0               0   \n",
       "...                     ...             ...             ...             ...   \n",
       "DCN-1006036               0               0               0               0   \n",
       "DCN-1006037               0               0               0               0   \n",
       "DCN-1006038               0               0               0               0   \n",
       "DCN-1006039               0               0               0               0   \n",
       "DCN-1006040               0               0               0               0   \n",
       "\n",
       "             DSKU-P00000942  DSKU-P00001042  ...  DSKU-P0098942  \\\n",
       "user_id                                      ...                  \n",
       "DCN-1000001               0               0  ...              0   \n",
       "DCN-1000002               0               0  ...              0   \n",
       "DCN-1000003               0               0  ...              0   \n",
       "DCN-1000004               0               0  ...              0   \n",
       "DCN-1000005               0               0  ...              0   \n",
       "...                     ...             ...  ...            ...   \n",
       "DCN-1006036               0               0  ...              0   \n",
       "DCN-1006037               0               0  ...              0   \n",
       "DCN-1006038               0               0  ...              0   \n",
       "DCN-1006039               0               0  ...              0   \n",
       "DCN-1006040               0               0  ...              0   \n",
       "\n",
       "             DSKU-P0099042  DSKU-P0099142  DSKU-P0099242  DSKU-P0099342  \\\n",
       "user_id                                                                   \n",
       "DCN-1000001              0              0              0              0   \n",
       "DCN-1000002              0              0              0              0   \n",
       "DCN-1000003              0              0              0              0   \n",
       "DCN-1000004              0              0              0              0   \n",
       "DCN-1000005              0              0              0              0   \n",
       "...                    ...            ...            ...            ...   \n",
       "DCN-1006036              0              0              0              0   \n",
       "DCN-1006037              0              0              0              0   \n",
       "DCN-1006038              0              0              0              0   \n",
       "DCN-1006039              0              0              0              0   \n",
       "DCN-1006040              0              0              0              0   \n",
       "\n",
       "             DSKU-P0099442  DSKU-P0099642  DSKU-P0099742  DSKU-P0099842  \\\n",
       "user_id                                                                   \n",
       "DCN-1000001              0              0              0              0   \n",
       "DCN-1000002              0              0              0              0   \n",
       "DCN-1000003              0              0              0              0   \n",
       "DCN-1000004              0              0              0              0   \n",
       "DCN-1000005              0              0              0              0   \n",
       "...                    ...            ...            ...            ...   \n",
       "DCN-1006036              0              0              0              0   \n",
       "DCN-1006037              0              0              0              0   \n",
       "DCN-1006038              0              0              0              0   \n",
       "DCN-1006039              0              0              0              0   \n",
       "DCN-1006040              0              0              0              0   \n",
       "\n",
       "             DSKU-P0099942  \n",
       "user_id                     \n",
       "DCN-1000001              0  \n",
       "DCN-1000002              0  \n",
       "DCN-1000003              0  \n",
       "DCN-1000004              0  \n",
       "DCN-1000005              0  \n",
       "...                    ...  \n",
       "DCN-1006036              0  \n",
       "DCN-1006037              0  \n",
       "DCN-1006038              0  \n",
       "DCN-1006039              0  \n",
       "DCN-1006040              0  \n",
       "\n",
       "[5888 rows x 3467 columns]"
      ]
     },
     "execution_count": 63,
     "metadata": {},
     "output_type": "execute_result"
    }
   ],
   "source": [
    "basket"
   ]
  },
  {
   "cell_type": "code",
   "execution_count": 64,
   "id": "9ebb8ba7",
   "metadata": {
    "ExecuteTime": {
     "end_time": "2024-01-27T06:53:16.483903Z",
     "start_time": "2024-01-27T06:52:18.884526Z"
    }
   },
   "outputs": [
    {
     "name": "stderr",
     "output_type": "stream",
     "text": [
      "D:\\Anaconda\\lib\\site-packages\\mlxtend\\frequent_patterns\\fpcommon.py:111: DeprecationWarning: DataFrames with non-bool types result in worse computationalperformance and their support might be discontinued in the future.Please use a DataFrame with bool type\n",
      "  warnings.warn(\n"
     ]
    },
    {
     "data": {
      "text/html": [
       "<div>\n",
       "<style scoped>\n",
       "    .dataframe tbody tr th:only-of-type {\n",
       "        vertical-align: middle;\n",
       "    }\n",
       "\n",
       "    .dataframe tbody tr th {\n",
       "        vertical-align: top;\n",
       "    }\n",
       "\n",
       "    .dataframe thead th {\n",
       "        text-align: right;\n",
       "    }\n",
       "</style>\n",
       "<table border=\"1\" class=\"dataframe\">\n",
       "  <thead>\n",
       "    <tr style=\"text-align: right;\">\n",
       "      <th></th>\n",
       "      <th>support</th>\n",
       "      <th>itemsets</th>\n",
       "    </tr>\n",
       "  </thead>\n",
       "  <tbody>\n",
       "    <tr>\n",
       "      <th>0</th>\n",
       "      <td>0.073030</td>\n",
       "      <td>(DSKU-P00000142)</td>\n",
       "    </tr>\n",
       "    <tr>\n",
       "      <th>1</th>\n",
       "      <td>0.022418</td>\n",
       "      <td>(DSKU-P00000242)</td>\n",
       "    </tr>\n",
       "    <tr>\n",
       "      <th>2</th>\n",
       "      <td>0.014266</td>\n",
       "      <td>(DSKU-P00000342)</td>\n",
       "    </tr>\n",
       "    <tr>\n",
       "      <th>3</th>\n",
       "      <td>0.031080</td>\n",
       "      <td>(DSKU-P00000642)</td>\n",
       "    </tr>\n",
       "    <tr>\n",
       "      <th>4</th>\n",
       "      <td>0.016135</td>\n",
       "      <td>(DSKU-P00000742)</td>\n",
       "    </tr>\n",
       "    <tr>\n",
       "      <th>...</th>\n",
       "      <td>...</td>\n",
       "      <td>...</td>\n",
       "    </tr>\n",
       "    <tr>\n",
       "      <th>2100</th>\n",
       "      <td>0.008832</td>\n",
       "      <td>(DSKU-P00265242, DSKU-P00334242)</td>\n",
       "    </tr>\n",
       "    <tr>\n",
       "      <th>2101</th>\n",
       "      <td>0.008152</td>\n",
       "      <td>(DSKU-P00329542, DSKU-P00270942)</td>\n",
       "    </tr>\n",
       "    <tr>\n",
       "      <th>2102</th>\n",
       "      <td>0.009001</td>\n",
       "      <td>(DSKU-P0097242, DSKU-P00270942)</td>\n",
       "    </tr>\n",
       "    <tr>\n",
       "      <th>2103</th>\n",
       "      <td>0.009171</td>\n",
       "      <td>(DSKU-P00274942, DSKU-P00278642)</td>\n",
       "    </tr>\n",
       "    <tr>\n",
       "      <th>2104</th>\n",
       "      <td>0.008492</td>\n",
       "      <td>(DSKU-P00338442, DSKU-P00334242)</td>\n",
       "    </tr>\n",
       "  </tbody>\n",
       "</table>\n",
       "<p>2105 rows × 2 columns</p>\n",
       "</div>"
      ],
      "text/plain": [
       "       support                          itemsets\n",
       "0     0.073030                  (DSKU-P00000142)\n",
       "1     0.022418                  (DSKU-P00000242)\n",
       "2     0.014266                  (DSKU-P00000342)\n",
       "3     0.031080                  (DSKU-P00000642)\n",
       "4     0.016135                  (DSKU-P00000742)\n",
       "...        ...                               ...\n",
       "2100  0.008832  (DSKU-P00265242, DSKU-P00334242)\n",
       "2101  0.008152  (DSKU-P00329542, DSKU-P00270942)\n",
       "2102  0.009001   (DSKU-P0097242, DSKU-P00270942)\n",
       "2103  0.009171  (DSKU-P00274942, DSKU-P00278642)\n",
       "2104  0.008492  (DSKU-P00338442, DSKU-P00334242)\n",
       "\n",
       "[2105 rows x 2 columns]"
      ]
     },
     "execution_count": 64,
     "metadata": {},
     "output_type": "execute_result"
    }
   ],
   "source": [
    "# min support had to be reduced to find frequent products.\n",
    "frequent_itemsets = apriori(basket, min_support=0.008, use_colnames=True)\n",
    "frequent_itemsets"
   ]
  },
  {
   "cell_type": "code",
   "execution_count": 65,
   "id": "cbf921e4",
   "metadata": {
    "ExecuteTime": {
     "end_time": "2024-01-27T06:53:16.580653Z",
     "start_time": "2024-01-27T06:53:16.492004Z"
    },
    "scrolled": false
   },
   "outputs": [
    {
     "name": "stdout",
     "output_type": "stream",
     "text": [
      "(46, 9)\n"
     ]
    },
    {
     "data": {
      "text/html": [
       "<div>\n",
       "<style scoped>\n",
       "    .dataframe tbody tr th:only-of-type {\n",
       "        vertical-align: middle;\n",
       "    }\n",
       "\n",
       "    .dataframe tbody tr th {\n",
       "        vertical-align: top;\n",
       "    }\n",
       "\n",
       "    .dataframe thead th {\n",
       "        text-align: right;\n",
       "    }\n",
       "</style>\n",
       "<table border=\"1\" class=\"dataframe\">\n",
       "  <thead>\n",
       "    <tr style=\"text-align: right;\">\n",
       "      <th></th>\n",
       "      <th>antecedents</th>\n",
       "      <th>consequents</th>\n",
       "      <th>antecedent support</th>\n",
       "      <th>consequent support</th>\n",
       "      <th>support</th>\n",
       "      <th>confidence</th>\n",
       "      <th>lift</th>\n",
       "      <th>leverage</th>\n",
       "      <th>conviction</th>\n",
       "    </tr>\n",
       "  </thead>\n",
       "  <tbody>\n",
       "    <tr>\n",
       "      <th>0</th>\n",
       "      <td>DSKU-P00289942</td>\n",
       "      <td>DSKU-P00000142</td>\n",
       "      <td>0.051121</td>\n",
       "      <td>0.073030</td>\n",
       "      <td>0.010530</td>\n",
       "      <td>0.205980</td>\n",
       "      <td>2.820490</td>\n",
       "      <td>0.006797</td>\n",
       "      <td>1.167439</td>\n",
       "    </tr>\n",
       "    <tr>\n",
       "      <th>1</th>\n",
       "      <td>DSKU-P00000642</td>\n",
       "      <td>DSKU-P00005042</td>\n",
       "      <td>0.031080</td>\n",
       "      <td>0.064538</td>\n",
       "      <td>0.008152</td>\n",
       "      <td>0.262295</td>\n",
       "      <td>4.064193</td>\n",
       "      <td>0.006146</td>\n",
       "      <td>1.268071</td>\n",
       "    </tr>\n",
       "    <tr>\n",
       "      <th>2</th>\n",
       "      <td>DSKU-P00127842</td>\n",
       "      <td>DSKU-P00025442</td>\n",
       "      <td>0.037194</td>\n",
       "      <td>0.106488</td>\n",
       "      <td>0.008662</td>\n",
       "      <td>0.232877</td>\n",
       "      <td>2.186887</td>\n",
       "      <td>0.004701</td>\n",
       "      <td>1.164757</td>\n",
       "    </tr>\n",
       "    <tr>\n",
       "      <th>3</th>\n",
       "      <td>DSKU-P00193542</td>\n",
       "      <td>DSKU-P00025442</td>\n",
       "      <td>0.040082</td>\n",
       "      <td>0.106488</td>\n",
       "      <td>0.008322</td>\n",
       "      <td>0.207627</td>\n",
       "      <td>1.949774</td>\n",
       "      <td>0.004054</td>\n",
       "      <td>1.127641</td>\n",
       "    </tr>\n",
       "    <tr>\n",
       "      <th>4</th>\n",
       "      <td>DSKU-P00233542</td>\n",
       "      <td>DSKU-P00025442</td>\n",
       "      <td>0.039912</td>\n",
       "      <td>0.106488</td>\n",
       "      <td>0.008152</td>\n",
       "      <td>0.204255</td>\n",
       "      <td>1.918111</td>\n",
       "      <td>0.003902</td>\n",
       "      <td>1.122863</td>\n",
       "    </tr>\n",
       "  </tbody>\n",
       "</table>\n",
       "</div>"
      ],
      "text/plain": [
       "      antecedents     consequents  antecedent support  consequent support  \\\n",
       "0  DSKU-P00289942  DSKU-P00000142            0.051121            0.073030   \n",
       "1  DSKU-P00000642  DSKU-P00005042            0.031080            0.064538   \n",
       "2  DSKU-P00127842  DSKU-P00025442            0.037194            0.106488   \n",
       "3  DSKU-P00193542  DSKU-P00025442            0.040082            0.106488   \n",
       "4  DSKU-P00233542  DSKU-P00025442            0.039912            0.106488   \n",
       "\n",
       "    support  confidence      lift  leverage  conviction  \n",
       "0  0.010530    0.205980  2.820490  0.006797    1.167439  \n",
       "1  0.008152    0.262295  4.064193  0.006146    1.268071  \n",
       "2  0.008662    0.232877  2.186887  0.004701    1.164757  \n",
       "3  0.008322    0.207627  1.949774  0.004054    1.127641  \n",
       "4  0.008152    0.204255  1.918111  0.003902    1.122863  "
      ]
     },
     "execution_count": 65,
     "metadata": {},
     "output_type": "execute_result"
    }
   ],
   "source": [
    "# Confidence also had to be reduced to get combinations.\n",
    "rules = association_rules(frequent_itemsets, metric='confidence', min_threshold=0.2)\n",
    "\n",
    "# Convert frozensets to a more readable format\n",
    "rules['antecedents'] = rules['antecedents'].apply(lambda x: ', '.join(list(x)))\n",
    "rules['consequents'] = rules['consequents'].apply(lambda x: ', '.join(list(x)))\n",
    "\n",
    "print(rules.shape)\n",
    "rules.head()"
   ]
  },
  {
   "cell_type": "markdown",
   "id": "28310a64",
   "metadata": {},
   "source": [
    "### Recommending for user from df2"
   ]
  },
  {
   "cell_type": "code",
   "execution_count": 66,
   "id": "3020f243",
   "metadata": {
    "ExecuteTime": {
     "end_time": "2024-01-27T06:53:16.722985Z",
     "start_time": "2024-01-27T06:53:16.584711Z"
    }
   },
   "outputs": [
    {
     "data": {
      "text/html": [
       "<div>\n",
       "<style scoped>\n",
       "    .dataframe tbody tr th:only-of-type {\n",
       "        vertical-align: middle;\n",
       "    }\n",
       "\n",
       "    .dataframe tbody tr th {\n",
       "        vertical-align: top;\n",
       "    }\n",
       "\n",
       "    .dataframe thead th {\n",
       "        text-align: right;\n",
       "    }\n",
       "</style>\n",
       "<table border=\"1\" class=\"dataframe\">\n",
       "  <thead>\n",
       "    <tr style=\"text-align: right;\">\n",
       "      <th></th>\n",
       "      <th>user_id</th>\n",
       "      <th>prod_id</th>\n",
       "    </tr>\n",
       "  </thead>\n",
       "  <tbody>\n",
       "    <tr>\n",
       "      <th>0</th>\n",
       "      <td>DCN-1000899</td>\n",
       "      <td>DSKU-P00053842</td>\n",
       "    </tr>\n",
       "    <tr>\n",
       "      <th>1</th>\n",
       "      <td>DCN-1000899</td>\n",
       "      <td>DSKU-P00161942</td>\n",
       "    </tr>\n",
       "    <tr>\n",
       "      <th>2</th>\n",
       "      <td>DCN-1000899</td>\n",
       "      <td>DSKU-P00329442</td>\n",
       "    </tr>\n",
       "    <tr>\n",
       "      <th>3</th>\n",
       "      <td>DCN-1000899</td>\n",
       "      <td>DSKU-P00031042</td>\n",
       "    </tr>\n",
       "    <tr>\n",
       "      <th>4</th>\n",
       "      <td>DCN-1000899</td>\n",
       "      <td>DSKU-P00010742</td>\n",
       "    </tr>\n",
       "    <tr>\n",
       "      <th>...</th>\n",
       "      <td>...</td>\n",
       "      <td>...</td>\n",
       "    </tr>\n",
       "    <tr>\n",
       "      <th>195497</th>\n",
       "      <td>DCN-1000899</td>\n",
       "      <td>DSKU-P00216942</td>\n",
       "    </tr>\n",
       "    <tr>\n",
       "      <th>195498</th>\n",
       "      <td>DCN-1000899</td>\n",
       "      <td>DSKU-P00034242</td>\n",
       "    </tr>\n",
       "    <tr>\n",
       "      <th>195499</th>\n",
       "      <td>DCN-1000899</td>\n",
       "      <td>DSKU-P00042842</td>\n",
       "    </tr>\n",
       "    <tr>\n",
       "      <th>195500</th>\n",
       "      <td>DCN-1000899</td>\n",
       "      <td>DSKU-P00108442</td>\n",
       "    </tr>\n",
       "    <tr>\n",
       "      <th>195501</th>\n",
       "      <td>DCN-1000899</td>\n",
       "      <td>DSKU-P00157542</td>\n",
       "    </tr>\n",
       "  </tbody>\n",
       "</table>\n",
       "<p>75 rows × 2 columns</p>\n",
       "</div>"
      ],
      "text/plain": [
       "            user_id         prod_id\n",
       "0       DCN-1000899  DSKU-P00053842\n",
       "1       DCN-1000899  DSKU-P00161942\n",
       "2       DCN-1000899  DSKU-P00329442\n",
       "3       DCN-1000899  DSKU-P00031042\n",
       "4       DCN-1000899  DSKU-P00010742\n",
       "...             ...             ...\n",
       "195497  DCN-1000899  DSKU-P00216942\n",
       "195498  DCN-1000899  DSKU-P00034242\n",
       "195499  DCN-1000899  DSKU-P00042842\n",
       "195500  DCN-1000899  DSKU-P00108442\n",
       "195501  DCN-1000899  DSKU-P00157542\n",
       "\n",
       "[75 rows x 2 columns]"
      ]
     },
     "execution_count": 66,
     "metadata": {},
     "output_type": "execute_result"
    }
   ],
   "source": [
    "test_user = df2[df2['user_id']=='DCN-1000899'][['user_id','prod_id']]\n",
    "test_user"
   ]
  },
  {
   "cell_type": "code",
   "execution_count": 67,
   "id": "64313ca7",
   "metadata": {
    "ExecuteTime": {
     "end_time": "2024-01-27T06:53:16.794515Z",
     "start_time": "2024-01-27T06:53:16.723492Z"
    },
    "scrolled": false
   },
   "outputs": [
    {
     "name": "stdout",
     "output_type": "stream",
     "text": [
      "Recommended Products:{'DSKU-P00057642', 'DSKU-P00117442'}\n"
     ]
    }
   ],
   "source": [
    "user_cart = list(test_user['prod_id'])\n",
    "recommended_products = set()\n",
    "\n",
    "for cart_item in user_cart:\n",
    "    matching_rules = rules[rules['antecedents'].apply(lambda x: cart_item in x)]\n",
    "    recommended_products.update(matching_rules['consequents'])\n",
    "\n",
    "print(f\"Recommended Products:{recommended_products}\")"
   ]
  },
  {
   "cell_type": "markdown",
   "id": "2b18f7f2",
   "metadata": {},
   "source": [
    " "
   ]
  },
  {
   "cell_type": "markdown",
   "id": "769e4957",
   "metadata": {},
   "source": [
    "<font color='#00A0AF'><B style=\"font-size:32px;\">Conclusion </B>\n",
    ">In summary, the above recommendation model, though effective, can be further enhanced with more extensive customer behavioral data. customer behavioral data can enable us to cluster and segment customers, allowing for tailored recommendation models.\n",
    "\n",
    ">From these segments, we can identify high-performing segments from which we can build association rules. Additionally, the low-performing segments can be targeted as opportunities for revenue-focused marketing campaigns."
   ]
  }
 ],
 "metadata": {
  "kernelspec": {
   "display_name": "Python 3 (ipykernel)",
   "language": "python",
   "name": "python3"
  },
  "language_info": {
   "codemirror_mode": {
    "name": "ipython",
    "version": 3
   },
   "file_extension": ".py",
   "mimetype": "text/x-python",
   "name": "python",
   "nbconvert_exporter": "python",
   "pygments_lexer": "ipython3",
   "version": "3.9.7"
  },
  "toc": {
   "base_numbering": 1,
   "nav_menu": {},
   "number_sections": true,
   "sideBar": true,
   "skip_h1_title": false,
   "title_cell": "Table of Contents",
   "title_sidebar": "Contents",
   "toc_cell": false,
   "toc_position": {},
   "toc_section_display": true,
   "toc_window_display": false
  }
 },
 "nbformat": 4,
 "nbformat_minor": 5
}
